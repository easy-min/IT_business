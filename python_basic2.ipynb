{
  "nbformat": 4,
  "nbformat_minor": 0,
  "metadata": {
    "anaconda-cloud": {},
    "kernelspec": {
      "display_name": "Python 3",
      "language": "python",
      "name": "python3"
    },
    "language_info": {
      "codemirror_mode": {
        "name": "ipython",
        "version": 3
      },
      "file_extension": ".py",
      "mimetype": "text/x-python",
      "name": "python",
      "nbconvert_exporter": "python",
      "pygments_lexer": "ipython3",
      "version": "3.5.5"
    },
    "colab": {
      "provenance": [],
      "collapsed_sections": [],
      "toc_visible": true,
      "include_colab_link": true
    }
  },
  "cells": [
    {
      "cell_type": "markdown",
      "metadata": {
        "id": "view-in-github",
        "colab_type": "text"
      },
      "source": [
        "<a href=\"https://colab.research.google.com/github/easy-min/IT_business/blob/main/python_basic2.ipynb\" target=\"_parent\"><img src=\"https://colab.research.google.com/assets/colab-badge.svg\" alt=\"Open In Colab\"/></a>"
      ]
    },
    {
      "cell_type": "markdown",
      "source": [
        "#Python basic II"
      ],
      "metadata": {
        "id": "ObkCaiFBUqD7"
      }
    },
    {
      "cell_type": "markdown",
      "metadata": {
        "id": "S8ABanJKEgmZ"
      },
      "source": [
        "##**패키지(Package)**\n",
        "패키지는 다양한 함수(function)들이 들어 있는 꾸러미라고 할 수 있다.  원하는 패키지를 (1) 설치하고(pip install) (2) 불러온  후에 (import) (3) 해당 패키지의 함수를 사용할 수 있다. 패키지를 불러오지 않고 함수를 실행하면 함수를 사용할 수 없다는 에러 메세지가 출력된다.  \n",
        "\n",
        "특정 패키지내에 함수가 많은 경우 비슷한 함수끼리 묶어서 몇 개의 모듈(module)로 나누기도 한다. (예.sklearn 패키지의 metrics 모듈 불러오기:  import sklearn.metrics)\n",
        "\n",
        "*Anaconda를 설치하면 기본적인 수백 가지의 패키지들이 모두 포함되어 있으며 추가로 설치해야 할 경우에는 pip install 명령어 사용  \n",
        "*Colab에도 기본적인 패키지들은 이미 설치가 되어 있으므로 따로 설치할 필요 없음  \n",
        "*로컬 PC에서 파이썬을 이용하는 경우 패키지는 한 번만 설치해도 되지만,  Colab에서는 새로 시작할 때마다 다시 설치하고 불러와야 함 \n",
        "\n",
        "\n",
        "\n",
        "### **주요 패키지 소개**\n",
        "- Pandas\n",
        "- Matplotlib\n",
        "- 심화 NumPy\n",
        "- 심화 SciPy"
      ]
    },
    {
      "cell_type": "markdown",
      "metadata": {
        "id": "FaJZPf7UEgmo"
      },
      "source": [
        "### Pandas\n",
        "- Pandas(판다스) 패키지는 DataFrame(데이터프레임)을 제공하여 테이블 구조의 데이터 처리를 편리하게 해준다. \n",
        "- 테이블은 행과 열로 구성되는데  행의 이름을 인덱스(index), 열의 이름을 컬럼스(columns)라 부른다.   \n",
        "-  데이터프레임에는  integer, float, string, boolean 등 다양한 유형의 데이터를 담을 수 있다."
      ]
    },
    {
      "cell_type": "code",
      "source": [
        "import pandas as pd"
      ],
      "metadata": {
        "id": "_eZ66MRW8ec_"
      },
      "execution_count": 3,
      "outputs": []
    },
    {
      "cell_type": "code",
      "metadata": {
        "uuid": "ad1b06f7-e03a-4938-9d59-5bb40e848553",
        "id": "BuLXQEMGEgmp",
        "colab": {
          "base_uri": "https://localhost:8080/",
          "height": 256
        },
        "outputId": "a8bd5954-1ce8-4b41-c832-919236465b86"
      },
      "source": [
        "# 판다스 DataFrame() 함수를 이용하여 리스트를 데이터프레임으로 변환, 변수 df_list에 저장\n",
        "x = [1, 1, 2, 2, 3, 4]\n",
        "df_list  = pd.DataFrame(x)\n",
        "\n",
        "print(type(df_list)) \n",
        "display(df_list)      "
      ],
      "execution_count": 4,
      "outputs": [
        {
          "output_type": "stream",
          "name": "stdout",
          "text": [
            "<class 'pandas.core.frame.DataFrame'>\n"
          ]
        },
        {
          "output_type": "display_data",
          "data": {
            "text/plain": [
              "   0\n",
              "0  1\n",
              "1  1\n",
              "2  2\n",
              "3  2\n",
              "4  3\n",
              "5  4"
            ],
            "text/html": [
              "\n",
              "  <div id=\"df-794d99e1-ddac-4208-8f04-7f586955b8e7\">\n",
              "    <div class=\"colab-df-container\">\n",
              "      <div>\n",
              "<style scoped>\n",
              "    .dataframe tbody tr th:only-of-type {\n",
              "        vertical-align: middle;\n",
              "    }\n",
              "\n",
              "    .dataframe tbody tr th {\n",
              "        vertical-align: top;\n",
              "    }\n",
              "\n",
              "    .dataframe thead th {\n",
              "        text-align: right;\n",
              "    }\n",
              "</style>\n",
              "<table border=\"1\" class=\"dataframe\">\n",
              "  <thead>\n",
              "    <tr style=\"text-align: right;\">\n",
              "      <th></th>\n",
              "      <th>0</th>\n",
              "    </tr>\n",
              "  </thead>\n",
              "  <tbody>\n",
              "    <tr>\n",
              "      <th>0</th>\n",
              "      <td>1</td>\n",
              "    </tr>\n",
              "    <tr>\n",
              "      <th>1</th>\n",
              "      <td>1</td>\n",
              "    </tr>\n",
              "    <tr>\n",
              "      <th>2</th>\n",
              "      <td>2</td>\n",
              "    </tr>\n",
              "    <tr>\n",
              "      <th>3</th>\n",
              "      <td>2</td>\n",
              "    </tr>\n",
              "    <tr>\n",
              "      <th>4</th>\n",
              "      <td>3</td>\n",
              "    </tr>\n",
              "    <tr>\n",
              "      <th>5</th>\n",
              "      <td>4</td>\n",
              "    </tr>\n",
              "  </tbody>\n",
              "</table>\n",
              "</div>\n",
              "      <button class=\"colab-df-convert\" onclick=\"convertToInteractive('df-794d99e1-ddac-4208-8f04-7f586955b8e7')\"\n",
              "              title=\"Convert this dataframe to an interactive table.\"\n",
              "              style=\"display:none;\">\n",
              "        \n",
              "  <svg xmlns=\"http://www.w3.org/2000/svg\" height=\"24px\"viewBox=\"0 0 24 24\"\n",
              "       width=\"24px\">\n",
              "    <path d=\"M0 0h24v24H0V0z\" fill=\"none\"/>\n",
              "    <path d=\"M18.56 5.44l.94 2.06.94-2.06 2.06-.94-2.06-.94-.94-2.06-.94 2.06-2.06.94zm-11 1L8.5 8.5l.94-2.06 2.06-.94-2.06-.94L8.5 2.5l-.94 2.06-2.06.94zm10 10l.94 2.06.94-2.06 2.06-.94-2.06-.94-.94-2.06-.94 2.06-2.06.94z\"/><path d=\"M17.41 7.96l-1.37-1.37c-.4-.4-.92-.59-1.43-.59-.52 0-1.04.2-1.43.59L10.3 9.45l-7.72 7.72c-.78.78-.78 2.05 0 2.83L4 21.41c.39.39.9.59 1.41.59.51 0 1.02-.2 1.41-.59l7.78-7.78 2.81-2.81c.8-.78.8-2.07 0-2.86zM5.41 20L4 18.59l7.72-7.72 1.47 1.35L5.41 20z\"/>\n",
              "  </svg>\n",
              "      </button>\n",
              "      \n",
              "  <style>\n",
              "    .colab-df-container {\n",
              "      display:flex;\n",
              "      flex-wrap:wrap;\n",
              "      gap: 12px;\n",
              "    }\n",
              "\n",
              "    .colab-df-convert {\n",
              "      background-color: #E8F0FE;\n",
              "      border: none;\n",
              "      border-radius: 50%;\n",
              "      cursor: pointer;\n",
              "      display: none;\n",
              "      fill: #1967D2;\n",
              "      height: 32px;\n",
              "      padding: 0 0 0 0;\n",
              "      width: 32px;\n",
              "    }\n",
              "\n",
              "    .colab-df-convert:hover {\n",
              "      background-color: #E2EBFA;\n",
              "      box-shadow: 0px 1px 2px rgba(60, 64, 67, 0.3), 0px 1px 3px 1px rgba(60, 64, 67, 0.15);\n",
              "      fill: #174EA6;\n",
              "    }\n",
              "\n",
              "    [theme=dark] .colab-df-convert {\n",
              "      background-color: #3B4455;\n",
              "      fill: #D2E3FC;\n",
              "    }\n",
              "\n",
              "    [theme=dark] .colab-df-convert:hover {\n",
              "      background-color: #434B5C;\n",
              "      box-shadow: 0px 1px 3px 1px rgba(0, 0, 0, 0.15);\n",
              "      filter: drop-shadow(0px 1px 2px rgba(0, 0, 0, 0.3));\n",
              "      fill: #FFFFFF;\n",
              "    }\n",
              "  </style>\n",
              "\n",
              "      <script>\n",
              "        const buttonEl =\n",
              "          document.querySelector('#df-794d99e1-ddac-4208-8f04-7f586955b8e7 button.colab-df-convert');\n",
              "        buttonEl.style.display =\n",
              "          google.colab.kernel.accessAllowed ? 'block' : 'none';\n",
              "\n",
              "        async function convertToInteractive(key) {\n",
              "          const element = document.querySelector('#df-794d99e1-ddac-4208-8f04-7f586955b8e7');\n",
              "          const dataTable =\n",
              "            await google.colab.kernel.invokeFunction('convertToInteractive',\n",
              "                                                     [key], {});\n",
              "          if (!dataTable) return;\n",
              "\n",
              "          const docLinkHtml = 'Like what you see? Visit the ' +\n",
              "            '<a target=\"_blank\" href=https://colab.research.google.com/notebooks/data_table.ipynb>data table notebook</a>'\n",
              "            + ' to learn more about interactive tables.';\n",
              "          element.innerHTML = '';\n",
              "          dataTable['output_type'] = 'display_data';\n",
              "          await google.colab.output.renderOutput(dataTable, element);\n",
              "          const docLink = document.createElement('div');\n",
              "          docLink.innerHTML = docLinkHtml;\n",
              "          element.appendChild(docLink);\n",
              "        }\n",
              "      </script>\n",
              "    </div>\n",
              "  </div>\n",
              "  "
            ]
          },
          "metadata": {}
        }
      ]
    },
    {
      "cell_type": "code",
      "source": [
        "# 특정 함수의 사용법이 궁금하면 함수 뒤에 물음표를 넣고 실행- 사용법, 예제 등을 포함한 도움말을 볼 수 있음\n",
        "pd.DataFrame?"
      ],
      "metadata": {
        "id": "9Ow8lVeinx8I"
      },
      "execution_count": 5,
      "outputs": []
    },
    {
      "cell_type": "code",
      "metadata": {
        "uuid": "ad1b06f7-e03a-4938-9d59-5bb40e848553",
        "id": "qkhL4BdCEgmp",
        "colab": {
          "base_uri": "https://localhost:8080/",
          "height": 442
        },
        "outputId": "1832bff1-921e-4589-d9cb-8f871e7e8533"
      },
      "source": [
        "# 외부 화일을 가져와서 데이터프레임으로 저장하기 \n",
        "fpath = 'https://raw.githubusercontent.com/ykjoy/mining/main/chipotle.csv'\n",
        "df = pd.read_csv(fpath)\n",
        "\n",
        "print(type(df))   # df의 자료형 출력\n",
        "display(df)           # 변수 df에 저장되어 있는 데이터프레임 객체를 출력\n",
        "                                 # iPython.display 를 이용하여 보기 좋게 출력"
      ],
      "execution_count": 6,
      "outputs": [
        {
          "output_type": "stream",
          "name": "stdout",
          "text": [
            "<class 'pandas.core.frame.DataFrame'>\n"
          ]
        },
        {
          "output_type": "display_data",
          "data": {
            "text/plain": [
              "      order_id  quantity                              item_name  \\\n",
              "0            1         1           Chips and Fresh Tomato Salsa   \n",
              "1            1         1                                   Izze   \n",
              "2            1         1                       Nantucket Nectar   \n",
              "3            1         1  Chips and Tomatillo-Green Chili Salsa   \n",
              "4            2         2                           Chicken Bowl   \n",
              "...        ...       ...                                    ...   \n",
              "4617      1833         1                          Steak Burrito   \n",
              "4618      1833         1                          Steak Burrito   \n",
              "4619      1834         1                     Chicken Salad Bowl   \n",
              "4620      1834         1                     Chicken Salad Bowl   \n",
              "4621      1834         1                     Chicken Salad Bowl   \n",
              "\n",
              "                                     choice_description item_price  \n",
              "0                                                   NaN     $2.39   \n",
              "1                                          [Clementine]     $3.39   \n",
              "2                                               [Apple]     $3.39   \n",
              "3                                                   NaN     $2.39   \n",
              "4     [Tomatillo-Red Chili Salsa (Hot), [Black Beans...    $16.98   \n",
              "...                                                 ...        ...  \n",
              "4617  [Fresh Tomato Salsa, [Rice, Black Beans, Sour ...    $11.75   \n",
              "4618  [Fresh Tomato Salsa, [Rice, Sour Cream, Cheese...    $11.75   \n",
              "4619  [Fresh Tomato Salsa, [Fajita Vegetables, Pinto...    $11.25   \n",
              "4620  [Fresh Tomato Salsa, [Fajita Vegetables, Lettu...     $8.75   \n",
              "4621  [Fresh Tomato Salsa, [Fajita Vegetables, Pinto...     $8.75   \n",
              "\n",
              "[4622 rows x 5 columns]"
            ],
            "text/html": [
              "\n",
              "  <div id=\"df-c100ab07-7e04-44eb-bc06-d1b871272ab0\">\n",
              "    <div class=\"colab-df-container\">\n",
              "      <div>\n",
              "<style scoped>\n",
              "    .dataframe tbody tr th:only-of-type {\n",
              "        vertical-align: middle;\n",
              "    }\n",
              "\n",
              "    .dataframe tbody tr th {\n",
              "        vertical-align: top;\n",
              "    }\n",
              "\n",
              "    .dataframe thead th {\n",
              "        text-align: right;\n",
              "    }\n",
              "</style>\n",
              "<table border=\"1\" class=\"dataframe\">\n",
              "  <thead>\n",
              "    <tr style=\"text-align: right;\">\n",
              "      <th></th>\n",
              "      <th>order_id</th>\n",
              "      <th>quantity</th>\n",
              "      <th>item_name</th>\n",
              "      <th>choice_description</th>\n",
              "      <th>item_price</th>\n",
              "    </tr>\n",
              "  </thead>\n",
              "  <tbody>\n",
              "    <tr>\n",
              "      <th>0</th>\n",
              "      <td>1</td>\n",
              "      <td>1</td>\n",
              "      <td>Chips and Fresh Tomato Salsa</td>\n",
              "      <td>NaN</td>\n",
              "      <td>$2.39</td>\n",
              "    </tr>\n",
              "    <tr>\n",
              "      <th>1</th>\n",
              "      <td>1</td>\n",
              "      <td>1</td>\n",
              "      <td>Izze</td>\n",
              "      <td>[Clementine]</td>\n",
              "      <td>$3.39</td>\n",
              "    </tr>\n",
              "    <tr>\n",
              "      <th>2</th>\n",
              "      <td>1</td>\n",
              "      <td>1</td>\n",
              "      <td>Nantucket Nectar</td>\n",
              "      <td>[Apple]</td>\n",
              "      <td>$3.39</td>\n",
              "    </tr>\n",
              "    <tr>\n",
              "      <th>3</th>\n",
              "      <td>1</td>\n",
              "      <td>1</td>\n",
              "      <td>Chips and Tomatillo-Green Chili Salsa</td>\n",
              "      <td>NaN</td>\n",
              "      <td>$2.39</td>\n",
              "    </tr>\n",
              "    <tr>\n",
              "      <th>4</th>\n",
              "      <td>2</td>\n",
              "      <td>2</td>\n",
              "      <td>Chicken Bowl</td>\n",
              "      <td>[Tomatillo-Red Chili Salsa (Hot), [Black Beans...</td>\n",
              "      <td>$16.98</td>\n",
              "    </tr>\n",
              "    <tr>\n",
              "      <th>...</th>\n",
              "      <td>...</td>\n",
              "      <td>...</td>\n",
              "      <td>...</td>\n",
              "      <td>...</td>\n",
              "      <td>...</td>\n",
              "    </tr>\n",
              "    <tr>\n",
              "      <th>4617</th>\n",
              "      <td>1833</td>\n",
              "      <td>1</td>\n",
              "      <td>Steak Burrito</td>\n",
              "      <td>[Fresh Tomato Salsa, [Rice, Black Beans, Sour ...</td>\n",
              "      <td>$11.75</td>\n",
              "    </tr>\n",
              "    <tr>\n",
              "      <th>4618</th>\n",
              "      <td>1833</td>\n",
              "      <td>1</td>\n",
              "      <td>Steak Burrito</td>\n",
              "      <td>[Fresh Tomato Salsa, [Rice, Sour Cream, Cheese...</td>\n",
              "      <td>$11.75</td>\n",
              "    </tr>\n",
              "    <tr>\n",
              "      <th>4619</th>\n",
              "      <td>1834</td>\n",
              "      <td>1</td>\n",
              "      <td>Chicken Salad Bowl</td>\n",
              "      <td>[Fresh Tomato Salsa, [Fajita Vegetables, Pinto...</td>\n",
              "      <td>$11.25</td>\n",
              "    </tr>\n",
              "    <tr>\n",
              "      <th>4620</th>\n",
              "      <td>1834</td>\n",
              "      <td>1</td>\n",
              "      <td>Chicken Salad Bowl</td>\n",
              "      <td>[Fresh Tomato Salsa, [Fajita Vegetables, Lettu...</td>\n",
              "      <td>$8.75</td>\n",
              "    </tr>\n",
              "    <tr>\n",
              "      <th>4621</th>\n",
              "      <td>1834</td>\n",
              "      <td>1</td>\n",
              "      <td>Chicken Salad Bowl</td>\n",
              "      <td>[Fresh Tomato Salsa, [Fajita Vegetables, Pinto...</td>\n",
              "      <td>$8.75</td>\n",
              "    </tr>\n",
              "  </tbody>\n",
              "</table>\n",
              "<p>4622 rows × 5 columns</p>\n",
              "</div>\n",
              "      <button class=\"colab-df-convert\" onclick=\"convertToInteractive('df-c100ab07-7e04-44eb-bc06-d1b871272ab0')\"\n",
              "              title=\"Convert this dataframe to an interactive table.\"\n",
              "              style=\"display:none;\">\n",
              "        \n",
              "  <svg xmlns=\"http://www.w3.org/2000/svg\" height=\"24px\"viewBox=\"0 0 24 24\"\n",
              "       width=\"24px\">\n",
              "    <path d=\"M0 0h24v24H0V0z\" fill=\"none\"/>\n",
              "    <path d=\"M18.56 5.44l.94 2.06.94-2.06 2.06-.94-2.06-.94-.94-2.06-.94 2.06-2.06.94zm-11 1L8.5 8.5l.94-2.06 2.06-.94-2.06-.94L8.5 2.5l-.94 2.06-2.06.94zm10 10l.94 2.06.94-2.06 2.06-.94-2.06-.94-.94-2.06-.94 2.06-2.06.94z\"/><path d=\"M17.41 7.96l-1.37-1.37c-.4-.4-.92-.59-1.43-.59-.52 0-1.04.2-1.43.59L10.3 9.45l-7.72 7.72c-.78.78-.78 2.05 0 2.83L4 21.41c.39.39.9.59 1.41.59.51 0 1.02-.2 1.41-.59l7.78-7.78 2.81-2.81c.8-.78.8-2.07 0-2.86zM5.41 20L4 18.59l7.72-7.72 1.47 1.35L5.41 20z\"/>\n",
              "  </svg>\n",
              "      </button>\n",
              "      \n",
              "  <style>\n",
              "    .colab-df-container {\n",
              "      display:flex;\n",
              "      flex-wrap:wrap;\n",
              "      gap: 12px;\n",
              "    }\n",
              "\n",
              "    .colab-df-convert {\n",
              "      background-color: #E8F0FE;\n",
              "      border: none;\n",
              "      border-radius: 50%;\n",
              "      cursor: pointer;\n",
              "      display: none;\n",
              "      fill: #1967D2;\n",
              "      height: 32px;\n",
              "      padding: 0 0 0 0;\n",
              "      width: 32px;\n",
              "    }\n",
              "\n",
              "    .colab-df-convert:hover {\n",
              "      background-color: #E2EBFA;\n",
              "      box-shadow: 0px 1px 2px rgba(60, 64, 67, 0.3), 0px 1px 3px 1px rgba(60, 64, 67, 0.15);\n",
              "      fill: #174EA6;\n",
              "    }\n",
              "\n",
              "    [theme=dark] .colab-df-convert {\n",
              "      background-color: #3B4455;\n",
              "      fill: #D2E3FC;\n",
              "    }\n",
              "\n",
              "    [theme=dark] .colab-df-convert:hover {\n",
              "      background-color: #434B5C;\n",
              "      box-shadow: 0px 1px 3px 1px rgba(0, 0, 0, 0.15);\n",
              "      filter: drop-shadow(0px 1px 2px rgba(0, 0, 0, 0.3));\n",
              "      fill: #FFFFFF;\n",
              "    }\n",
              "  </style>\n",
              "\n",
              "      <script>\n",
              "        const buttonEl =\n",
              "          document.querySelector('#df-c100ab07-7e04-44eb-bc06-d1b871272ab0 button.colab-df-convert');\n",
              "        buttonEl.style.display =\n",
              "          google.colab.kernel.accessAllowed ? 'block' : 'none';\n",
              "\n",
              "        async function convertToInteractive(key) {\n",
              "          const element = document.querySelector('#df-c100ab07-7e04-44eb-bc06-d1b871272ab0');\n",
              "          const dataTable =\n",
              "            await google.colab.kernel.invokeFunction('convertToInteractive',\n",
              "                                                     [key], {});\n",
              "          if (!dataTable) return;\n",
              "\n",
              "          const docLinkHtml = 'Like what you see? Visit the ' +\n",
              "            '<a target=\"_blank\" href=https://colab.research.google.com/notebooks/data_table.ipynb>data table notebook</a>'\n",
              "            + ' to learn more about interactive tables.';\n",
              "          element.innerHTML = '';\n",
              "          dataTable['output_type'] = 'display_data';\n",
              "          await google.colab.output.renderOutput(dataTable, element);\n",
              "          const docLink = document.createElement('div');\n",
              "          docLink.innerHTML = docLinkHtml;\n",
              "          element.appendChild(docLink);\n",
              "        }\n",
              "      </script>\n",
              "    </div>\n",
              "  </div>\n",
              "  "
            ]
          },
          "metadata": {}
        }
      ]
    },
    {
      "cell_type": "markdown",
      "source": [
        "#### 데이터 파악하기 \n",
        "- head(), tail(),  shape, info(), describe(), \n",
        "- 특정 변수(열) 추출,  조건에 맞는 데이터 추출\n"
      ],
      "metadata": {
        "id": "QJfxLOEKB25P"
      }
    },
    {
      "cell_type": "code",
      "source": [
        "df.head(2)   # 숫자를 넣지 않은 경우 기본적으로 5개 행을 출력, 뒤쪽에서부터 출력하려면 tail()이용 "
      ],
      "metadata": {
        "colab": {
          "base_uri": "https://localhost:8080/",
          "height": 112
        },
        "id": "2sB82EXSanhj",
        "outputId": "f6d711c9-470b-4252-bc83-2e6c03c63836"
      },
      "execution_count": 7,
      "outputs": [
        {
          "output_type": "execute_result",
          "data": {
            "text/plain": [
              "   order_id  quantity                     item_name choice_description  \\\n",
              "0         1         1  Chips and Fresh Tomato Salsa                NaN   \n",
              "1         1         1                          Izze       [Clementine]   \n",
              "\n",
              "  item_price  \n",
              "0     $2.39   \n",
              "1     $3.39   "
            ],
            "text/html": [
              "\n",
              "  <div id=\"df-f7df4c93-83d3-491d-bfda-b6f43ae974d6\">\n",
              "    <div class=\"colab-df-container\">\n",
              "      <div>\n",
              "<style scoped>\n",
              "    .dataframe tbody tr th:only-of-type {\n",
              "        vertical-align: middle;\n",
              "    }\n",
              "\n",
              "    .dataframe tbody tr th {\n",
              "        vertical-align: top;\n",
              "    }\n",
              "\n",
              "    .dataframe thead th {\n",
              "        text-align: right;\n",
              "    }\n",
              "</style>\n",
              "<table border=\"1\" class=\"dataframe\">\n",
              "  <thead>\n",
              "    <tr style=\"text-align: right;\">\n",
              "      <th></th>\n",
              "      <th>order_id</th>\n",
              "      <th>quantity</th>\n",
              "      <th>item_name</th>\n",
              "      <th>choice_description</th>\n",
              "      <th>item_price</th>\n",
              "    </tr>\n",
              "  </thead>\n",
              "  <tbody>\n",
              "    <tr>\n",
              "      <th>0</th>\n",
              "      <td>1</td>\n",
              "      <td>1</td>\n",
              "      <td>Chips and Fresh Tomato Salsa</td>\n",
              "      <td>NaN</td>\n",
              "      <td>$2.39</td>\n",
              "    </tr>\n",
              "    <tr>\n",
              "      <th>1</th>\n",
              "      <td>1</td>\n",
              "      <td>1</td>\n",
              "      <td>Izze</td>\n",
              "      <td>[Clementine]</td>\n",
              "      <td>$3.39</td>\n",
              "    </tr>\n",
              "  </tbody>\n",
              "</table>\n",
              "</div>\n",
              "      <button class=\"colab-df-convert\" onclick=\"convertToInteractive('df-f7df4c93-83d3-491d-bfda-b6f43ae974d6')\"\n",
              "              title=\"Convert this dataframe to an interactive table.\"\n",
              "              style=\"display:none;\">\n",
              "        \n",
              "  <svg xmlns=\"http://www.w3.org/2000/svg\" height=\"24px\"viewBox=\"0 0 24 24\"\n",
              "       width=\"24px\">\n",
              "    <path d=\"M0 0h24v24H0V0z\" fill=\"none\"/>\n",
              "    <path d=\"M18.56 5.44l.94 2.06.94-2.06 2.06-.94-2.06-.94-.94-2.06-.94 2.06-2.06.94zm-11 1L8.5 8.5l.94-2.06 2.06-.94-2.06-.94L8.5 2.5l-.94 2.06-2.06.94zm10 10l.94 2.06.94-2.06 2.06-.94-2.06-.94-.94-2.06-.94 2.06-2.06.94z\"/><path d=\"M17.41 7.96l-1.37-1.37c-.4-.4-.92-.59-1.43-.59-.52 0-1.04.2-1.43.59L10.3 9.45l-7.72 7.72c-.78.78-.78 2.05 0 2.83L4 21.41c.39.39.9.59 1.41.59.51 0 1.02-.2 1.41-.59l7.78-7.78 2.81-2.81c.8-.78.8-2.07 0-2.86zM5.41 20L4 18.59l7.72-7.72 1.47 1.35L5.41 20z\"/>\n",
              "  </svg>\n",
              "      </button>\n",
              "      \n",
              "  <style>\n",
              "    .colab-df-container {\n",
              "      display:flex;\n",
              "      flex-wrap:wrap;\n",
              "      gap: 12px;\n",
              "    }\n",
              "\n",
              "    .colab-df-convert {\n",
              "      background-color: #E8F0FE;\n",
              "      border: none;\n",
              "      border-radius: 50%;\n",
              "      cursor: pointer;\n",
              "      display: none;\n",
              "      fill: #1967D2;\n",
              "      height: 32px;\n",
              "      padding: 0 0 0 0;\n",
              "      width: 32px;\n",
              "    }\n",
              "\n",
              "    .colab-df-convert:hover {\n",
              "      background-color: #E2EBFA;\n",
              "      box-shadow: 0px 1px 2px rgba(60, 64, 67, 0.3), 0px 1px 3px 1px rgba(60, 64, 67, 0.15);\n",
              "      fill: #174EA6;\n",
              "    }\n",
              "\n",
              "    [theme=dark] .colab-df-convert {\n",
              "      background-color: #3B4455;\n",
              "      fill: #D2E3FC;\n",
              "    }\n",
              "\n",
              "    [theme=dark] .colab-df-convert:hover {\n",
              "      background-color: #434B5C;\n",
              "      box-shadow: 0px 1px 3px 1px rgba(0, 0, 0, 0.15);\n",
              "      filter: drop-shadow(0px 1px 2px rgba(0, 0, 0, 0.3));\n",
              "      fill: #FFFFFF;\n",
              "    }\n",
              "  </style>\n",
              "\n",
              "      <script>\n",
              "        const buttonEl =\n",
              "          document.querySelector('#df-f7df4c93-83d3-491d-bfda-b6f43ae974d6 button.colab-df-convert');\n",
              "        buttonEl.style.display =\n",
              "          google.colab.kernel.accessAllowed ? 'block' : 'none';\n",
              "\n",
              "        async function convertToInteractive(key) {\n",
              "          const element = document.querySelector('#df-f7df4c93-83d3-491d-bfda-b6f43ae974d6');\n",
              "          const dataTable =\n",
              "            await google.colab.kernel.invokeFunction('convertToInteractive',\n",
              "                                                     [key], {});\n",
              "          if (!dataTable) return;\n",
              "\n",
              "          const docLinkHtml = 'Like what you see? Visit the ' +\n",
              "            '<a target=\"_blank\" href=https://colab.research.google.com/notebooks/data_table.ipynb>data table notebook</a>'\n",
              "            + ' to learn more about interactive tables.';\n",
              "          element.innerHTML = '';\n",
              "          dataTable['output_type'] = 'display_data';\n",
              "          await google.colab.output.renderOutput(dataTable, element);\n",
              "          const docLink = document.createElement('div');\n",
              "          docLink.innerHTML = docLinkHtml;\n",
              "          element.appendChild(docLink);\n",
              "        }\n",
              "      </script>\n",
              "    </div>\n",
              "  </div>\n",
              "  "
            ]
          },
          "metadata": {},
          "execution_count": 7
        }
      ]
    },
    {
      "cell_type": "code",
      "source": [
        "df.shape    # 전체 행과 열의 개수 출력"
      ],
      "metadata": {
        "colab": {
          "base_uri": "https://localhost:8080/"
        },
        "id": "3_GAejNYhxW_",
        "outputId": "2e5ab377-fd62-4d0b-9f8e-2b4de544da18"
      },
      "execution_count": 8,
      "outputs": [
        {
          "output_type": "execute_result",
          "data": {
            "text/plain": [
              "(4622, 5)"
            ]
          },
          "metadata": {},
          "execution_count": 8
        }
      ]
    },
    {
      "cell_type": "code",
      "source": [
        "df.info()   # 변수 속성 확인: 4622행의 데이터, choice_description은 3,376행 (1,246개 결측치, NaN)  "
      ],
      "metadata": {
        "colab": {
          "base_uri": "https://localhost:8080/"
        },
        "id": "G4gH73o1iOY2",
        "outputId": "41d583da-1a95-4750-d3ec-8975e61b1cfb"
      },
      "execution_count": 9,
      "outputs": [
        {
          "output_type": "stream",
          "name": "stdout",
          "text": [
            "<class 'pandas.core.frame.DataFrame'>\n",
            "RangeIndex: 4622 entries, 0 to 4621\n",
            "Data columns (total 5 columns):\n",
            " #   Column              Non-Null Count  Dtype \n",
            "---  ------              --------------  ----- \n",
            " 0   order_id            4622 non-null   int64 \n",
            " 1   quantity            4622 non-null   int64 \n",
            " 2   item_name           4622 non-null   object\n",
            " 3   choice_description  3376 non-null   object\n",
            " 4   item_price          4622 non-null   object\n",
            "dtypes: int64(2), object(3)\n",
            "memory usage: 180.7+ KB\n"
          ]
        }
      ]
    },
    {
      "cell_type": "code",
      "source": [
        "df.describe()   # 수치 데이터의 요약 통계량 출력 "
      ],
      "metadata": {
        "colab": {
          "base_uri": "https://localhost:8080/",
          "height": 300
        },
        "id": "ODqE3Yzyicjf",
        "outputId": "5bfcacde-c5f7-449e-98e6-f40f93c89337"
      },
      "execution_count": 10,
      "outputs": [
        {
          "output_type": "execute_result",
          "data": {
            "text/plain": [
              "          order_id     quantity\n",
              "count  4622.000000  4622.000000\n",
              "mean    927.254868     1.075725\n",
              "std     528.890796     0.410186\n",
              "min       1.000000     1.000000\n",
              "25%     477.250000     1.000000\n",
              "50%     926.000000     1.000000\n",
              "75%    1393.000000     1.000000\n",
              "max    1834.000000    15.000000"
            ],
            "text/html": [
              "\n",
              "  <div id=\"df-ec51ba36-8f06-4d36-9d13-b53031d260a7\">\n",
              "    <div class=\"colab-df-container\">\n",
              "      <div>\n",
              "<style scoped>\n",
              "    .dataframe tbody tr th:only-of-type {\n",
              "        vertical-align: middle;\n",
              "    }\n",
              "\n",
              "    .dataframe tbody tr th {\n",
              "        vertical-align: top;\n",
              "    }\n",
              "\n",
              "    .dataframe thead th {\n",
              "        text-align: right;\n",
              "    }\n",
              "</style>\n",
              "<table border=\"1\" class=\"dataframe\">\n",
              "  <thead>\n",
              "    <tr style=\"text-align: right;\">\n",
              "      <th></th>\n",
              "      <th>order_id</th>\n",
              "      <th>quantity</th>\n",
              "    </tr>\n",
              "  </thead>\n",
              "  <tbody>\n",
              "    <tr>\n",
              "      <th>count</th>\n",
              "      <td>4622.000000</td>\n",
              "      <td>4622.000000</td>\n",
              "    </tr>\n",
              "    <tr>\n",
              "      <th>mean</th>\n",
              "      <td>927.254868</td>\n",
              "      <td>1.075725</td>\n",
              "    </tr>\n",
              "    <tr>\n",
              "      <th>std</th>\n",
              "      <td>528.890796</td>\n",
              "      <td>0.410186</td>\n",
              "    </tr>\n",
              "    <tr>\n",
              "      <th>min</th>\n",
              "      <td>1.000000</td>\n",
              "      <td>1.000000</td>\n",
              "    </tr>\n",
              "    <tr>\n",
              "      <th>25%</th>\n",
              "      <td>477.250000</td>\n",
              "      <td>1.000000</td>\n",
              "    </tr>\n",
              "    <tr>\n",
              "      <th>50%</th>\n",
              "      <td>926.000000</td>\n",
              "      <td>1.000000</td>\n",
              "    </tr>\n",
              "    <tr>\n",
              "      <th>75%</th>\n",
              "      <td>1393.000000</td>\n",
              "      <td>1.000000</td>\n",
              "    </tr>\n",
              "    <tr>\n",
              "      <th>max</th>\n",
              "      <td>1834.000000</td>\n",
              "      <td>15.000000</td>\n",
              "    </tr>\n",
              "  </tbody>\n",
              "</table>\n",
              "</div>\n",
              "      <button class=\"colab-df-convert\" onclick=\"convertToInteractive('df-ec51ba36-8f06-4d36-9d13-b53031d260a7')\"\n",
              "              title=\"Convert this dataframe to an interactive table.\"\n",
              "              style=\"display:none;\">\n",
              "        \n",
              "  <svg xmlns=\"http://www.w3.org/2000/svg\" height=\"24px\"viewBox=\"0 0 24 24\"\n",
              "       width=\"24px\">\n",
              "    <path d=\"M0 0h24v24H0V0z\" fill=\"none\"/>\n",
              "    <path d=\"M18.56 5.44l.94 2.06.94-2.06 2.06-.94-2.06-.94-.94-2.06-.94 2.06-2.06.94zm-11 1L8.5 8.5l.94-2.06 2.06-.94-2.06-.94L8.5 2.5l-.94 2.06-2.06.94zm10 10l.94 2.06.94-2.06 2.06-.94-2.06-.94-.94-2.06-.94 2.06-2.06.94z\"/><path d=\"M17.41 7.96l-1.37-1.37c-.4-.4-.92-.59-1.43-.59-.52 0-1.04.2-1.43.59L10.3 9.45l-7.72 7.72c-.78.78-.78 2.05 0 2.83L4 21.41c.39.39.9.59 1.41.59.51 0 1.02-.2 1.41-.59l7.78-7.78 2.81-2.81c.8-.78.8-2.07 0-2.86zM5.41 20L4 18.59l7.72-7.72 1.47 1.35L5.41 20z\"/>\n",
              "  </svg>\n",
              "      </button>\n",
              "      \n",
              "  <style>\n",
              "    .colab-df-container {\n",
              "      display:flex;\n",
              "      flex-wrap:wrap;\n",
              "      gap: 12px;\n",
              "    }\n",
              "\n",
              "    .colab-df-convert {\n",
              "      background-color: #E8F0FE;\n",
              "      border: none;\n",
              "      border-radius: 50%;\n",
              "      cursor: pointer;\n",
              "      display: none;\n",
              "      fill: #1967D2;\n",
              "      height: 32px;\n",
              "      padding: 0 0 0 0;\n",
              "      width: 32px;\n",
              "    }\n",
              "\n",
              "    .colab-df-convert:hover {\n",
              "      background-color: #E2EBFA;\n",
              "      box-shadow: 0px 1px 2px rgba(60, 64, 67, 0.3), 0px 1px 3px 1px rgba(60, 64, 67, 0.15);\n",
              "      fill: #174EA6;\n",
              "    }\n",
              "\n",
              "    [theme=dark] .colab-df-convert {\n",
              "      background-color: #3B4455;\n",
              "      fill: #D2E3FC;\n",
              "    }\n",
              "\n",
              "    [theme=dark] .colab-df-convert:hover {\n",
              "      background-color: #434B5C;\n",
              "      box-shadow: 0px 1px 3px 1px rgba(0, 0, 0, 0.15);\n",
              "      filter: drop-shadow(0px 1px 2px rgba(0, 0, 0, 0.3));\n",
              "      fill: #FFFFFF;\n",
              "    }\n",
              "  </style>\n",
              "\n",
              "      <script>\n",
              "        const buttonEl =\n",
              "          document.querySelector('#df-ec51ba36-8f06-4d36-9d13-b53031d260a7 button.colab-df-convert');\n",
              "        buttonEl.style.display =\n",
              "          google.colab.kernel.accessAllowed ? 'block' : 'none';\n",
              "\n",
              "        async function convertToInteractive(key) {\n",
              "          const element = document.querySelector('#df-ec51ba36-8f06-4d36-9d13-b53031d260a7');\n",
              "          const dataTable =\n",
              "            await google.colab.kernel.invokeFunction('convertToInteractive',\n",
              "                                                     [key], {});\n",
              "          if (!dataTable) return;\n",
              "\n",
              "          const docLinkHtml = 'Like what you see? Visit the ' +\n",
              "            '<a target=\"_blank\" href=https://colab.research.google.com/notebooks/data_table.ipynb>data table notebook</a>'\n",
              "            + ' to learn more about interactive tables.';\n",
              "          element.innerHTML = '';\n",
              "          dataTable['output_type'] = 'display_data';\n",
              "          await google.colab.output.renderOutput(dataTable, element);\n",
              "          const docLink = document.createElement('div');\n",
              "          docLink.innerHTML = docLinkHtml;\n",
              "          element.appendChild(docLink);\n",
              "        }\n",
              "      </script>\n",
              "    </div>\n",
              "  </div>\n",
              "  "
            ]
          },
          "metadata": {},
          "execution_count": 10
        }
      ]
    },
    {
      "cell_type": "code",
      "source": [
        "df.describe(include='all')   # 문자 데이터의 특성도 함께 출력 (빈도, 고유값 빈도, 최빈값, 최빈값 빈도)"
      ],
      "metadata": {
        "colab": {
          "base_uri": "https://localhost:8080/",
          "height": 394
        },
        "id": "dSNBlRpgiomT",
        "outputId": "a53b3e93-d21e-452b-8c6f-b6c75543f760"
      },
      "execution_count": 11,
      "outputs": [
        {
          "output_type": "execute_result",
          "data": {
            "text/plain": [
              "           order_id     quantity     item_name choice_description item_price\n",
              "count   4622.000000  4622.000000          4622               3376       4622\n",
              "unique          NaN          NaN            50               1043         78\n",
              "top             NaN          NaN  Chicken Bowl        [Diet Coke]     $8.75 \n",
              "freq            NaN          NaN           726                134        730\n",
              "mean     927.254868     1.075725           NaN                NaN        NaN\n",
              "std      528.890796     0.410186           NaN                NaN        NaN\n",
              "min        1.000000     1.000000           NaN                NaN        NaN\n",
              "25%      477.250000     1.000000           NaN                NaN        NaN\n",
              "50%      926.000000     1.000000           NaN                NaN        NaN\n",
              "75%     1393.000000     1.000000           NaN                NaN        NaN\n",
              "max     1834.000000    15.000000           NaN                NaN        NaN"
            ],
            "text/html": [
              "\n",
              "  <div id=\"df-bce3606f-388c-4f83-aa60-bd5470ed7e75\">\n",
              "    <div class=\"colab-df-container\">\n",
              "      <div>\n",
              "<style scoped>\n",
              "    .dataframe tbody tr th:only-of-type {\n",
              "        vertical-align: middle;\n",
              "    }\n",
              "\n",
              "    .dataframe tbody tr th {\n",
              "        vertical-align: top;\n",
              "    }\n",
              "\n",
              "    .dataframe thead th {\n",
              "        text-align: right;\n",
              "    }\n",
              "</style>\n",
              "<table border=\"1\" class=\"dataframe\">\n",
              "  <thead>\n",
              "    <tr style=\"text-align: right;\">\n",
              "      <th></th>\n",
              "      <th>order_id</th>\n",
              "      <th>quantity</th>\n",
              "      <th>item_name</th>\n",
              "      <th>choice_description</th>\n",
              "      <th>item_price</th>\n",
              "    </tr>\n",
              "  </thead>\n",
              "  <tbody>\n",
              "    <tr>\n",
              "      <th>count</th>\n",
              "      <td>4622.000000</td>\n",
              "      <td>4622.000000</td>\n",
              "      <td>4622</td>\n",
              "      <td>3376</td>\n",
              "      <td>4622</td>\n",
              "    </tr>\n",
              "    <tr>\n",
              "      <th>unique</th>\n",
              "      <td>NaN</td>\n",
              "      <td>NaN</td>\n",
              "      <td>50</td>\n",
              "      <td>1043</td>\n",
              "      <td>78</td>\n",
              "    </tr>\n",
              "    <tr>\n",
              "      <th>top</th>\n",
              "      <td>NaN</td>\n",
              "      <td>NaN</td>\n",
              "      <td>Chicken Bowl</td>\n",
              "      <td>[Diet Coke]</td>\n",
              "      <td>$8.75</td>\n",
              "    </tr>\n",
              "    <tr>\n",
              "      <th>freq</th>\n",
              "      <td>NaN</td>\n",
              "      <td>NaN</td>\n",
              "      <td>726</td>\n",
              "      <td>134</td>\n",
              "      <td>730</td>\n",
              "    </tr>\n",
              "    <tr>\n",
              "      <th>mean</th>\n",
              "      <td>927.254868</td>\n",
              "      <td>1.075725</td>\n",
              "      <td>NaN</td>\n",
              "      <td>NaN</td>\n",
              "      <td>NaN</td>\n",
              "    </tr>\n",
              "    <tr>\n",
              "      <th>std</th>\n",
              "      <td>528.890796</td>\n",
              "      <td>0.410186</td>\n",
              "      <td>NaN</td>\n",
              "      <td>NaN</td>\n",
              "      <td>NaN</td>\n",
              "    </tr>\n",
              "    <tr>\n",
              "      <th>min</th>\n",
              "      <td>1.000000</td>\n",
              "      <td>1.000000</td>\n",
              "      <td>NaN</td>\n",
              "      <td>NaN</td>\n",
              "      <td>NaN</td>\n",
              "    </tr>\n",
              "    <tr>\n",
              "      <th>25%</th>\n",
              "      <td>477.250000</td>\n",
              "      <td>1.000000</td>\n",
              "      <td>NaN</td>\n",
              "      <td>NaN</td>\n",
              "      <td>NaN</td>\n",
              "    </tr>\n",
              "    <tr>\n",
              "      <th>50%</th>\n",
              "      <td>926.000000</td>\n",
              "      <td>1.000000</td>\n",
              "      <td>NaN</td>\n",
              "      <td>NaN</td>\n",
              "      <td>NaN</td>\n",
              "    </tr>\n",
              "    <tr>\n",
              "      <th>75%</th>\n",
              "      <td>1393.000000</td>\n",
              "      <td>1.000000</td>\n",
              "      <td>NaN</td>\n",
              "      <td>NaN</td>\n",
              "      <td>NaN</td>\n",
              "    </tr>\n",
              "    <tr>\n",
              "      <th>max</th>\n",
              "      <td>1834.000000</td>\n",
              "      <td>15.000000</td>\n",
              "      <td>NaN</td>\n",
              "      <td>NaN</td>\n",
              "      <td>NaN</td>\n",
              "    </tr>\n",
              "  </tbody>\n",
              "</table>\n",
              "</div>\n",
              "      <button class=\"colab-df-convert\" onclick=\"convertToInteractive('df-bce3606f-388c-4f83-aa60-bd5470ed7e75')\"\n",
              "              title=\"Convert this dataframe to an interactive table.\"\n",
              "              style=\"display:none;\">\n",
              "        \n",
              "  <svg xmlns=\"http://www.w3.org/2000/svg\" height=\"24px\"viewBox=\"0 0 24 24\"\n",
              "       width=\"24px\">\n",
              "    <path d=\"M0 0h24v24H0V0z\" fill=\"none\"/>\n",
              "    <path d=\"M18.56 5.44l.94 2.06.94-2.06 2.06-.94-2.06-.94-.94-2.06-.94 2.06-2.06.94zm-11 1L8.5 8.5l.94-2.06 2.06-.94-2.06-.94L8.5 2.5l-.94 2.06-2.06.94zm10 10l.94 2.06.94-2.06 2.06-.94-2.06-.94-.94-2.06-.94 2.06-2.06.94z\"/><path d=\"M17.41 7.96l-1.37-1.37c-.4-.4-.92-.59-1.43-.59-.52 0-1.04.2-1.43.59L10.3 9.45l-7.72 7.72c-.78.78-.78 2.05 0 2.83L4 21.41c.39.39.9.59 1.41.59.51 0 1.02-.2 1.41-.59l7.78-7.78 2.81-2.81c.8-.78.8-2.07 0-2.86zM5.41 20L4 18.59l7.72-7.72 1.47 1.35L5.41 20z\"/>\n",
              "  </svg>\n",
              "      </button>\n",
              "      \n",
              "  <style>\n",
              "    .colab-df-container {\n",
              "      display:flex;\n",
              "      flex-wrap:wrap;\n",
              "      gap: 12px;\n",
              "    }\n",
              "\n",
              "    .colab-df-convert {\n",
              "      background-color: #E8F0FE;\n",
              "      border: none;\n",
              "      border-radius: 50%;\n",
              "      cursor: pointer;\n",
              "      display: none;\n",
              "      fill: #1967D2;\n",
              "      height: 32px;\n",
              "      padding: 0 0 0 0;\n",
              "      width: 32px;\n",
              "    }\n",
              "\n",
              "    .colab-df-convert:hover {\n",
              "      background-color: #E2EBFA;\n",
              "      box-shadow: 0px 1px 2px rgba(60, 64, 67, 0.3), 0px 1px 3px 1px rgba(60, 64, 67, 0.15);\n",
              "      fill: #174EA6;\n",
              "    }\n",
              "\n",
              "    [theme=dark] .colab-df-convert {\n",
              "      background-color: #3B4455;\n",
              "      fill: #D2E3FC;\n",
              "    }\n",
              "\n",
              "    [theme=dark] .colab-df-convert:hover {\n",
              "      background-color: #434B5C;\n",
              "      box-shadow: 0px 1px 3px 1px rgba(0, 0, 0, 0.15);\n",
              "      filter: drop-shadow(0px 1px 2px rgba(0, 0, 0, 0.3));\n",
              "      fill: #FFFFFF;\n",
              "    }\n",
              "  </style>\n",
              "\n",
              "      <script>\n",
              "        const buttonEl =\n",
              "          document.querySelector('#df-bce3606f-388c-4f83-aa60-bd5470ed7e75 button.colab-df-convert');\n",
              "        buttonEl.style.display =\n",
              "          google.colab.kernel.accessAllowed ? 'block' : 'none';\n",
              "\n",
              "        async function convertToInteractive(key) {\n",
              "          const element = document.querySelector('#df-bce3606f-388c-4f83-aa60-bd5470ed7e75');\n",
              "          const dataTable =\n",
              "            await google.colab.kernel.invokeFunction('convertToInteractive',\n",
              "                                                     [key], {});\n",
              "          if (!dataTable) return;\n",
              "\n",
              "          const docLinkHtml = 'Like what you see? Visit the ' +\n",
              "            '<a target=\"_blank\" href=https://colab.research.google.com/notebooks/data_table.ipynb>data table notebook</a>'\n",
              "            + ' to learn more about interactive tables.';\n",
              "          element.innerHTML = '';\n",
              "          dataTable['output_type'] = 'display_data';\n",
              "          await google.colab.output.renderOutput(dataTable, element);\n",
              "          const docLink = document.createElement('div');\n",
              "          docLink.innerHTML = docLinkHtml;\n",
              "          element.appendChild(docLink);\n",
              "        }\n",
              "      </script>\n",
              "    </div>\n",
              "  </div>\n",
              "  "
            ]
          },
          "metadata": {},
          "execution_count": 11
        }
      ]
    },
    {
      "cell_type": "code",
      "source": [
        "print(df['quantity'])   # 특정 변수만 추출 \n",
        "print(type(df['quantity']))\n",
        "\n",
        "print('quantity의 최댓값: ', df['quantity'].max())\n",
        "print('quantity의 평균: ', df['quantity'].mean())\n",
        "\n",
        "# 심화. 판다스의 시리즈(pd.Series)는 데이터프레임을 구성하는 하위 요소로, 1차원의 데이터 (값과 값의 위치는 나타내는 인덱스로 구성)를 생성\n",
        "#snum = pd.Series (['kim','lee','kwon'])\n",
        "#print(snum)\n",
        "#print (snum[1])"
      ],
      "metadata": {
        "colab": {
          "base_uri": "https://localhost:8080/"
        },
        "id": "YCG0O3j9Gf4w",
        "outputId": "3c2bc1f0-cc86-4d5b-ca3b-3d4a7a24cbef"
      },
      "execution_count": 12,
      "outputs": [
        {
          "output_type": "stream",
          "name": "stdout",
          "text": [
            "0       1\n",
            "1       1\n",
            "2       1\n",
            "3       1\n",
            "4       2\n",
            "       ..\n",
            "4617    1\n",
            "4618    1\n",
            "4619    1\n",
            "4620    1\n",
            "4621    1\n",
            "Name: quantity, Length: 4622, dtype: int64\n",
            "<class 'pandas.core.series.Series'>\n",
            "quantity의 최댓값:  15\n",
            "quantity의 평균:  1.0757247944612722\n"
          ]
        }
      ]
    },
    {
      "cell_type": "code",
      "metadata": {
        "colab": {
          "base_uri": "https://localhost:8080/",
          "height": 424
        },
        "id": "WByhkgoHQ0-l",
        "outputId": "5eb20cf2-a59b-4f07-e6e4-b0caf1846c07"
      },
      "source": [
        "display(df[['item_name',  'item_price']])   # 여러 변수 추출 "
      ],
      "execution_count": 13,
      "outputs": [
        {
          "output_type": "display_data",
          "data": {
            "text/plain": [
              "                                  item_name item_price\n",
              "0              Chips and Fresh Tomato Salsa     $2.39 \n",
              "1                                      Izze     $3.39 \n",
              "2                          Nantucket Nectar     $3.39 \n",
              "3     Chips and Tomatillo-Green Chili Salsa     $2.39 \n",
              "4                              Chicken Bowl    $16.98 \n",
              "...                                     ...        ...\n",
              "4617                          Steak Burrito    $11.75 \n",
              "4618                          Steak Burrito    $11.75 \n",
              "4619                     Chicken Salad Bowl    $11.25 \n",
              "4620                     Chicken Salad Bowl     $8.75 \n",
              "4621                     Chicken Salad Bowl     $8.75 \n",
              "\n",
              "[4622 rows x 2 columns]"
            ],
            "text/html": [
              "\n",
              "  <div id=\"df-4177d9a1-551e-4085-a70b-a6519bf24523\">\n",
              "    <div class=\"colab-df-container\">\n",
              "      <div>\n",
              "<style scoped>\n",
              "    .dataframe tbody tr th:only-of-type {\n",
              "        vertical-align: middle;\n",
              "    }\n",
              "\n",
              "    .dataframe tbody tr th {\n",
              "        vertical-align: top;\n",
              "    }\n",
              "\n",
              "    .dataframe thead th {\n",
              "        text-align: right;\n",
              "    }\n",
              "</style>\n",
              "<table border=\"1\" class=\"dataframe\">\n",
              "  <thead>\n",
              "    <tr style=\"text-align: right;\">\n",
              "      <th></th>\n",
              "      <th>item_name</th>\n",
              "      <th>item_price</th>\n",
              "    </tr>\n",
              "  </thead>\n",
              "  <tbody>\n",
              "    <tr>\n",
              "      <th>0</th>\n",
              "      <td>Chips and Fresh Tomato Salsa</td>\n",
              "      <td>$2.39</td>\n",
              "    </tr>\n",
              "    <tr>\n",
              "      <th>1</th>\n",
              "      <td>Izze</td>\n",
              "      <td>$3.39</td>\n",
              "    </tr>\n",
              "    <tr>\n",
              "      <th>2</th>\n",
              "      <td>Nantucket Nectar</td>\n",
              "      <td>$3.39</td>\n",
              "    </tr>\n",
              "    <tr>\n",
              "      <th>3</th>\n",
              "      <td>Chips and Tomatillo-Green Chili Salsa</td>\n",
              "      <td>$2.39</td>\n",
              "    </tr>\n",
              "    <tr>\n",
              "      <th>4</th>\n",
              "      <td>Chicken Bowl</td>\n",
              "      <td>$16.98</td>\n",
              "    </tr>\n",
              "    <tr>\n",
              "      <th>...</th>\n",
              "      <td>...</td>\n",
              "      <td>...</td>\n",
              "    </tr>\n",
              "    <tr>\n",
              "      <th>4617</th>\n",
              "      <td>Steak Burrito</td>\n",
              "      <td>$11.75</td>\n",
              "    </tr>\n",
              "    <tr>\n",
              "      <th>4618</th>\n",
              "      <td>Steak Burrito</td>\n",
              "      <td>$11.75</td>\n",
              "    </tr>\n",
              "    <tr>\n",
              "      <th>4619</th>\n",
              "      <td>Chicken Salad Bowl</td>\n",
              "      <td>$11.25</td>\n",
              "    </tr>\n",
              "    <tr>\n",
              "      <th>4620</th>\n",
              "      <td>Chicken Salad Bowl</td>\n",
              "      <td>$8.75</td>\n",
              "    </tr>\n",
              "    <tr>\n",
              "      <th>4621</th>\n",
              "      <td>Chicken Salad Bowl</td>\n",
              "      <td>$8.75</td>\n",
              "    </tr>\n",
              "  </tbody>\n",
              "</table>\n",
              "<p>4622 rows × 2 columns</p>\n",
              "</div>\n",
              "      <button class=\"colab-df-convert\" onclick=\"convertToInteractive('df-4177d9a1-551e-4085-a70b-a6519bf24523')\"\n",
              "              title=\"Convert this dataframe to an interactive table.\"\n",
              "              style=\"display:none;\">\n",
              "        \n",
              "  <svg xmlns=\"http://www.w3.org/2000/svg\" height=\"24px\"viewBox=\"0 0 24 24\"\n",
              "       width=\"24px\">\n",
              "    <path d=\"M0 0h24v24H0V0z\" fill=\"none\"/>\n",
              "    <path d=\"M18.56 5.44l.94 2.06.94-2.06 2.06-.94-2.06-.94-.94-2.06-.94 2.06-2.06.94zm-11 1L8.5 8.5l.94-2.06 2.06-.94-2.06-.94L8.5 2.5l-.94 2.06-2.06.94zm10 10l.94 2.06.94-2.06 2.06-.94-2.06-.94-.94-2.06-.94 2.06-2.06.94z\"/><path d=\"M17.41 7.96l-1.37-1.37c-.4-.4-.92-.59-1.43-.59-.52 0-1.04.2-1.43.59L10.3 9.45l-7.72 7.72c-.78.78-.78 2.05 0 2.83L4 21.41c.39.39.9.59 1.41.59.51 0 1.02-.2 1.41-.59l7.78-7.78 2.81-2.81c.8-.78.8-2.07 0-2.86zM5.41 20L4 18.59l7.72-7.72 1.47 1.35L5.41 20z\"/>\n",
              "  </svg>\n",
              "      </button>\n",
              "      \n",
              "  <style>\n",
              "    .colab-df-container {\n",
              "      display:flex;\n",
              "      flex-wrap:wrap;\n",
              "      gap: 12px;\n",
              "    }\n",
              "\n",
              "    .colab-df-convert {\n",
              "      background-color: #E8F0FE;\n",
              "      border: none;\n",
              "      border-radius: 50%;\n",
              "      cursor: pointer;\n",
              "      display: none;\n",
              "      fill: #1967D2;\n",
              "      height: 32px;\n",
              "      padding: 0 0 0 0;\n",
              "      width: 32px;\n",
              "    }\n",
              "\n",
              "    .colab-df-convert:hover {\n",
              "      background-color: #E2EBFA;\n",
              "      box-shadow: 0px 1px 2px rgba(60, 64, 67, 0.3), 0px 1px 3px 1px rgba(60, 64, 67, 0.15);\n",
              "      fill: #174EA6;\n",
              "    }\n",
              "\n",
              "    [theme=dark] .colab-df-convert {\n",
              "      background-color: #3B4455;\n",
              "      fill: #D2E3FC;\n",
              "    }\n",
              "\n",
              "    [theme=dark] .colab-df-convert:hover {\n",
              "      background-color: #434B5C;\n",
              "      box-shadow: 0px 1px 3px 1px rgba(0, 0, 0, 0.15);\n",
              "      filter: drop-shadow(0px 1px 2px rgba(0, 0, 0, 0.3));\n",
              "      fill: #FFFFFF;\n",
              "    }\n",
              "  </style>\n",
              "\n",
              "      <script>\n",
              "        const buttonEl =\n",
              "          document.querySelector('#df-4177d9a1-551e-4085-a70b-a6519bf24523 button.colab-df-convert');\n",
              "        buttonEl.style.display =\n",
              "          google.colab.kernel.accessAllowed ? 'block' : 'none';\n",
              "\n",
              "        async function convertToInteractive(key) {\n",
              "          const element = document.querySelector('#df-4177d9a1-551e-4085-a70b-a6519bf24523');\n",
              "          const dataTable =\n",
              "            await google.colab.kernel.invokeFunction('convertToInteractive',\n",
              "                                                     [key], {});\n",
              "          if (!dataTable) return;\n",
              "\n",
              "          const docLinkHtml = 'Like what you see? Visit the ' +\n",
              "            '<a target=\"_blank\" href=https://colab.research.google.com/notebooks/data_table.ipynb>data table notebook</a>'\n",
              "            + ' to learn more about interactive tables.';\n",
              "          element.innerHTML = '';\n",
              "          dataTable['output_type'] = 'display_data';\n",
              "          await google.colab.output.renderOutput(dataTable, element);\n",
              "          const docLink = document.createElement('div');\n",
              "          docLink.innerHTML = docLinkHtml;\n",
              "          element.appendChild(docLink);\n",
              "        }\n",
              "      </script>\n",
              "    </div>\n",
              "  </div>\n",
              "  "
            ]
          },
          "metadata": {}
        }
      ]
    },
    {
      "cell_type": "code",
      "source": [
        "df[['item_name', 'item_price']][:4]"
      ],
      "metadata": {
        "colab": {
          "base_uri": "https://localhost:8080/",
          "height": 175
        },
        "id": "owGECPs7K8nE",
        "outputId": "66ceedde-2f3c-4f0b-daef-4b6d9c01aa2c"
      },
      "execution_count": 14,
      "outputs": [
        {
          "output_type": "execute_result",
          "data": {
            "text/plain": [
              "                               item_name item_price\n",
              "0           Chips and Fresh Tomato Salsa     $2.39 \n",
              "1                                   Izze     $3.39 \n",
              "2                       Nantucket Nectar     $3.39 \n",
              "3  Chips and Tomatillo-Green Chili Salsa     $2.39 "
            ],
            "text/html": [
              "\n",
              "  <div id=\"df-f3cd567c-935c-410a-9637-882f478447c5\">\n",
              "    <div class=\"colab-df-container\">\n",
              "      <div>\n",
              "<style scoped>\n",
              "    .dataframe tbody tr th:only-of-type {\n",
              "        vertical-align: middle;\n",
              "    }\n",
              "\n",
              "    .dataframe tbody tr th {\n",
              "        vertical-align: top;\n",
              "    }\n",
              "\n",
              "    .dataframe thead th {\n",
              "        text-align: right;\n",
              "    }\n",
              "</style>\n",
              "<table border=\"1\" class=\"dataframe\">\n",
              "  <thead>\n",
              "    <tr style=\"text-align: right;\">\n",
              "      <th></th>\n",
              "      <th>item_name</th>\n",
              "      <th>item_price</th>\n",
              "    </tr>\n",
              "  </thead>\n",
              "  <tbody>\n",
              "    <tr>\n",
              "      <th>0</th>\n",
              "      <td>Chips and Fresh Tomato Salsa</td>\n",
              "      <td>$2.39</td>\n",
              "    </tr>\n",
              "    <tr>\n",
              "      <th>1</th>\n",
              "      <td>Izze</td>\n",
              "      <td>$3.39</td>\n",
              "    </tr>\n",
              "    <tr>\n",
              "      <th>2</th>\n",
              "      <td>Nantucket Nectar</td>\n",
              "      <td>$3.39</td>\n",
              "    </tr>\n",
              "    <tr>\n",
              "      <th>3</th>\n",
              "      <td>Chips and Tomatillo-Green Chili Salsa</td>\n",
              "      <td>$2.39</td>\n",
              "    </tr>\n",
              "  </tbody>\n",
              "</table>\n",
              "</div>\n",
              "      <button class=\"colab-df-convert\" onclick=\"convertToInteractive('df-f3cd567c-935c-410a-9637-882f478447c5')\"\n",
              "              title=\"Convert this dataframe to an interactive table.\"\n",
              "              style=\"display:none;\">\n",
              "        \n",
              "  <svg xmlns=\"http://www.w3.org/2000/svg\" height=\"24px\"viewBox=\"0 0 24 24\"\n",
              "       width=\"24px\">\n",
              "    <path d=\"M0 0h24v24H0V0z\" fill=\"none\"/>\n",
              "    <path d=\"M18.56 5.44l.94 2.06.94-2.06 2.06-.94-2.06-.94-.94-2.06-.94 2.06-2.06.94zm-11 1L8.5 8.5l.94-2.06 2.06-.94-2.06-.94L8.5 2.5l-.94 2.06-2.06.94zm10 10l.94 2.06.94-2.06 2.06-.94-2.06-.94-.94-2.06-.94 2.06-2.06.94z\"/><path d=\"M17.41 7.96l-1.37-1.37c-.4-.4-.92-.59-1.43-.59-.52 0-1.04.2-1.43.59L10.3 9.45l-7.72 7.72c-.78.78-.78 2.05 0 2.83L4 21.41c.39.39.9.59 1.41.59.51 0 1.02-.2 1.41-.59l7.78-7.78 2.81-2.81c.8-.78.8-2.07 0-2.86zM5.41 20L4 18.59l7.72-7.72 1.47 1.35L5.41 20z\"/>\n",
              "  </svg>\n",
              "      </button>\n",
              "      \n",
              "  <style>\n",
              "    .colab-df-container {\n",
              "      display:flex;\n",
              "      flex-wrap:wrap;\n",
              "      gap: 12px;\n",
              "    }\n",
              "\n",
              "    .colab-df-convert {\n",
              "      background-color: #E8F0FE;\n",
              "      border: none;\n",
              "      border-radius: 50%;\n",
              "      cursor: pointer;\n",
              "      display: none;\n",
              "      fill: #1967D2;\n",
              "      height: 32px;\n",
              "      padding: 0 0 0 0;\n",
              "      width: 32px;\n",
              "    }\n",
              "\n",
              "    .colab-df-convert:hover {\n",
              "      background-color: #E2EBFA;\n",
              "      box-shadow: 0px 1px 2px rgba(60, 64, 67, 0.3), 0px 1px 3px 1px rgba(60, 64, 67, 0.15);\n",
              "      fill: #174EA6;\n",
              "    }\n",
              "\n",
              "    [theme=dark] .colab-df-convert {\n",
              "      background-color: #3B4455;\n",
              "      fill: #D2E3FC;\n",
              "    }\n",
              "\n",
              "    [theme=dark] .colab-df-convert:hover {\n",
              "      background-color: #434B5C;\n",
              "      box-shadow: 0px 1px 3px 1px rgba(0, 0, 0, 0.15);\n",
              "      filter: drop-shadow(0px 1px 2px rgba(0, 0, 0, 0.3));\n",
              "      fill: #FFFFFF;\n",
              "    }\n",
              "  </style>\n",
              "\n",
              "      <script>\n",
              "        const buttonEl =\n",
              "          document.querySelector('#df-f3cd567c-935c-410a-9637-882f478447c5 button.colab-df-convert');\n",
              "        buttonEl.style.display =\n",
              "          google.colab.kernel.accessAllowed ? 'block' : 'none';\n",
              "\n",
              "        async function convertToInteractive(key) {\n",
              "          const element = document.querySelector('#df-f3cd567c-935c-410a-9637-882f478447c5');\n",
              "          const dataTable =\n",
              "            await google.colab.kernel.invokeFunction('convertToInteractive',\n",
              "                                                     [key], {});\n",
              "          if (!dataTable) return;\n",
              "\n",
              "          const docLinkHtml = 'Like what you see? Visit the ' +\n",
              "            '<a target=\"_blank\" href=https://colab.research.google.com/notebooks/data_table.ipynb>data table notebook</a>'\n",
              "            + ' to learn more about interactive tables.';\n",
              "          element.innerHTML = '';\n",
              "          dataTable['output_type'] = 'display_data';\n",
              "          await google.colab.output.renderOutput(dataTable, element);\n",
              "          const docLink = document.createElement('div');\n",
              "          docLink.innerHTML = docLinkHtml;\n",
              "          element.appendChild(docLink);\n",
              "        }\n",
              "      </script>\n",
              "    </div>\n",
              "  </div>\n",
              "  "
            ]
          },
          "metadata": {},
          "execution_count": 14
        }
      ]
    },
    {
      "cell_type": "code",
      "source": [
        "df[2:5]   # index 2, 3, 4 행 추출 "
      ],
      "metadata": {
        "colab": {
          "base_uri": "https://localhost:8080/",
          "height": 143
        },
        "id": "9g_vrTTJIdp3",
        "outputId": "95df67bb-2102-489a-8aa9-42213f264a22"
      },
      "execution_count": 15,
      "outputs": [
        {
          "output_type": "execute_result",
          "data": {
            "text/plain": [
              "   order_id  quantity                              item_name  \\\n",
              "2         1         1                       Nantucket Nectar   \n",
              "3         1         1  Chips and Tomatillo-Green Chili Salsa   \n",
              "4         2         2                           Chicken Bowl   \n",
              "\n",
              "                                  choice_description item_price  \n",
              "2                                            [Apple]     $3.39   \n",
              "3                                                NaN     $2.39   \n",
              "4  [Tomatillo-Red Chili Salsa (Hot), [Black Beans...    $16.98   "
            ],
            "text/html": [
              "\n",
              "  <div id=\"df-76415df8-d621-40a5-8e51-73a248fa8cb9\">\n",
              "    <div class=\"colab-df-container\">\n",
              "      <div>\n",
              "<style scoped>\n",
              "    .dataframe tbody tr th:only-of-type {\n",
              "        vertical-align: middle;\n",
              "    }\n",
              "\n",
              "    .dataframe tbody tr th {\n",
              "        vertical-align: top;\n",
              "    }\n",
              "\n",
              "    .dataframe thead th {\n",
              "        text-align: right;\n",
              "    }\n",
              "</style>\n",
              "<table border=\"1\" class=\"dataframe\">\n",
              "  <thead>\n",
              "    <tr style=\"text-align: right;\">\n",
              "      <th></th>\n",
              "      <th>order_id</th>\n",
              "      <th>quantity</th>\n",
              "      <th>item_name</th>\n",
              "      <th>choice_description</th>\n",
              "      <th>item_price</th>\n",
              "    </tr>\n",
              "  </thead>\n",
              "  <tbody>\n",
              "    <tr>\n",
              "      <th>2</th>\n",
              "      <td>1</td>\n",
              "      <td>1</td>\n",
              "      <td>Nantucket Nectar</td>\n",
              "      <td>[Apple]</td>\n",
              "      <td>$3.39</td>\n",
              "    </tr>\n",
              "    <tr>\n",
              "      <th>3</th>\n",
              "      <td>1</td>\n",
              "      <td>1</td>\n",
              "      <td>Chips and Tomatillo-Green Chili Salsa</td>\n",
              "      <td>NaN</td>\n",
              "      <td>$2.39</td>\n",
              "    </tr>\n",
              "    <tr>\n",
              "      <th>4</th>\n",
              "      <td>2</td>\n",
              "      <td>2</td>\n",
              "      <td>Chicken Bowl</td>\n",
              "      <td>[Tomatillo-Red Chili Salsa (Hot), [Black Beans...</td>\n",
              "      <td>$16.98</td>\n",
              "    </tr>\n",
              "  </tbody>\n",
              "</table>\n",
              "</div>\n",
              "      <button class=\"colab-df-convert\" onclick=\"convertToInteractive('df-76415df8-d621-40a5-8e51-73a248fa8cb9')\"\n",
              "              title=\"Convert this dataframe to an interactive table.\"\n",
              "              style=\"display:none;\">\n",
              "        \n",
              "  <svg xmlns=\"http://www.w3.org/2000/svg\" height=\"24px\"viewBox=\"0 0 24 24\"\n",
              "       width=\"24px\">\n",
              "    <path d=\"M0 0h24v24H0V0z\" fill=\"none\"/>\n",
              "    <path d=\"M18.56 5.44l.94 2.06.94-2.06 2.06-.94-2.06-.94-.94-2.06-.94 2.06-2.06.94zm-11 1L8.5 8.5l.94-2.06 2.06-.94-2.06-.94L8.5 2.5l-.94 2.06-2.06.94zm10 10l.94 2.06.94-2.06 2.06-.94-2.06-.94-.94-2.06-.94 2.06-2.06.94z\"/><path d=\"M17.41 7.96l-1.37-1.37c-.4-.4-.92-.59-1.43-.59-.52 0-1.04.2-1.43.59L10.3 9.45l-7.72 7.72c-.78.78-.78 2.05 0 2.83L4 21.41c.39.39.9.59 1.41.59.51 0 1.02-.2 1.41-.59l7.78-7.78 2.81-2.81c.8-.78.8-2.07 0-2.86zM5.41 20L4 18.59l7.72-7.72 1.47 1.35L5.41 20z\"/>\n",
              "  </svg>\n",
              "      </button>\n",
              "      \n",
              "  <style>\n",
              "    .colab-df-container {\n",
              "      display:flex;\n",
              "      flex-wrap:wrap;\n",
              "      gap: 12px;\n",
              "    }\n",
              "\n",
              "    .colab-df-convert {\n",
              "      background-color: #E8F0FE;\n",
              "      border: none;\n",
              "      border-radius: 50%;\n",
              "      cursor: pointer;\n",
              "      display: none;\n",
              "      fill: #1967D2;\n",
              "      height: 32px;\n",
              "      padding: 0 0 0 0;\n",
              "      width: 32px;\n",
              "    }\n",
              "\n",
              "    .colab-df-convert:hover {\n",
              "      background-color: #E2EBFA;\n",
              "      box-shadow: 0px 1px 2px rgba(60, 64, 67, 0.3), 0px 1px 3px 1px rgba(60, 64, 67, 0.15);\n",
              "      fill: #174EA6;\n",
              "    }\n",
              "\n",
              "    [theme=dark] .colab-df-convert {\n",
              "      background-color: #3B4455;\n",
              "      fill: #D2E3FC;\n",
              "    }\n",
              "\n",
              "    [theme=dark] .colab-df-convert:hover {\n",
              "      background-color: #434B5C;\n",
              "      box-shadow: 0px 1px 3px 1px rgba(0, 0, 0, 0.15);\n",
              "      filter: drop-shadow(0px 1px 2px rgba(0, 0, 0, 0.3));\n",
              "      fill: #FFFFFF;\n",
              "    }\n",
              "  </style>\n",
              "\n",
              "      <script>\n",
              "        const buttonEl =\n",
              "          document.querySelector('#df-76415df8-d621-40a5-8e51-73a248fa8cb9 button.colab-df-convert');\n",
              "        buttonEl.style.display =\n",
              "          google.colab.kernel.accessAllowed ? 'block' : 'none';\n",
              "\n",
              "        async function convertToInteractive(key) {\n",
              "          const element = document.querySelector('#df-76415df8-d621-40a5-8e51-73a248fa8cb9');\n",
              "          const dataTable =\n",
              "            await google.colab.kernel.invokeFunction('convertToInteractive',\n",
              "                                                     [key], {});\n",
              "          if (!dataTable) return;\n",
              "\n",
              "          const docLinkHtml = 'Like what you see? Visit the ' +\n",
              "            '<a target=\"_blank\" href=https://colab.research.google.com/notebooks/data_table.ipynb>data table notebook</a>'\n",
              "            + ' to learn more about interactive tables.';\n",
              "          element.innerHTML = '';\n",
              "          dataTable['output_type'] = 'display_data';\n",
              "          await google.colab.output.renderOutput(dataTable, element);\n",
              "          const docLink = document.createElement('div');\n",
              "          docLink.innerHTML = docLinkHtml;\n",
              "          element.appendChild(docLink);\n",
              "        }\n",
              "      </script>\n",
              "    </div>\n",
              "  </div>\n",
              "  "
            ]
          },
          "metadata": {},
          "execution_count": 15
        }
      ]
    },
    {
      "cell_type": "code",
      "metadata": {
        "id": "uUtJhbaLEgmp",
        "colab": {
          "base_uri": "https://localhost:8080/",
          "height": 175
        },
        "outputId": "77daa758-2395-4a65-9e69-2e4becfaafc3"
      },
      "source": [
        "# 조건에 맞는 데이터를 얻는 방법, 예시로 주문 수량이 5보다 큰  경우만 출력\n",
        "df[df.quantity > 5 ]     #df[df['quantity']>5] 와 동일"
      ],
      "execution_count": 16,
      "outputs": [
        {
          "output_type": "execute_result",
          "data": {
            "text/plain": [
              "      order_id  quantity                     item_name choice_description  \\\n",
              "3598      1443        15  Chips and Fresh Tomato Salsa                NaN   \n",
              "3599      1443         7                 Bottled Water                NaN   \n",
              "3887      1559         8                 Side of Chips                NaN   \n",
              "4152      1660        10                 Bottled Water                NaN   \n",
              "\n",
              "     item_price  \n",
              "3598    $44.25   \n",
              "3599    $10.50   \n",
              "3887    $13.52   \n",
              "4152    $15.00   "
            ],
            "text/html": [
              "\n",
              "  <div id=\"df-231f1972-703c-4601-8634-3beccfc220ef\">\n",
              "    <div class=\"colab-df-container\">\n",
              "      <div>\n",
              "<style scoped>\n",
              "    .dataframe tbody tr th:only-of-type {\n",
              "        vertical-align: middle;\n",
              "    }\n",
              "\n",
              "    .dataframe tbody tr th {\n",
              "        vertical-align: top;\n",
              "    }\n",
              "\n",
              "    .dataframe thead th {\n",
              "        text-align: right;\n",
              "    }\n",
              "</style>\n",
              "<table border=\"1\" class=\"dataframe\">\n",
              "  <thead>\n",
              "    <tr style=\"text-align: right;\">\n",
              "      <th></th>\n",
              "      <th>order_id</th>\n",
              "      <th>quantity</th>\n",
              "      <th>item_name</th>\n",
              "      <th>choice_description</th>\n",
              "      <th>item_price</th>\n",
              "    </tr>\n",
              "  </thead>\n",
              "  <tbody>\n",
              "    <tr>\n",
              "      <th>3598</th>\n",
              "      <td>1443</td>\n",
              "      <td>15</td>\n",
              "      <td>Chips and Fresh Tomato Salsa</td>\n",
              "      <td>NaN</td>\n",
              "      <td>$44.25</td>\n",
              "    </tr>\n",
              "    <tr>\n",
              "      <th>3599</th>\n",
              "      <td>1443</td>\n",
              "      <td>7</td>\n",
              "      <td>Bottled Water</td>\n",
              "      <td>NaN</td>\n",
              "      <td>$10.50</td>\n",
              "    </tr>\n",
              "    <tr>\n",
              "      <th>3887</th>\n",
              "      <td>1559</td>\n",
              "      <td>8</td>\n",
              "      <td>Side of Chips</td>\n",
              "      <td>NaN</td>\n",
              "      <td>$13.52</td>\n",
              "    </tr>\n",
              "    <tr>\n",
              "      <th>4152</th>\n",
              "      <td>1660</td>\n",
              "      <td>10</td>\n",
              "      <td>Bottled Water</td>\n",
              "      <td>NaN</td>\n",
              "      <td>$15.00</td>\n",
              "    </tr>\n",
              "  </tbody>\n",
              "</table>\n",
              "</div>\n",
              "      <button class=\"colab-df-convert\" onclick=\"convertToInteractive('df-231f1972-703c-4601-8634-3beccfc220ef')\"\n",
              "              title=\"Convert this dataframe to an interactive table.\"\n",
              "              style=\"display:none;\">\n",
              "        \n",
              "  <svg xmlns=\"http://www.w3.org/2000/svg\" height=\"24px\"viewBox=\"0 0 24 24\"\n",
              "       width=\"24px\">\n",
              "    <path d=\"M0 0h24v24H0V0z\" fill=\"none\"/>\n",
              "    <path d=\"M18.56 5.44l.94 2.06.94-2.06 2.06-.94-2.06-.94-.94-2.06-.94 2.06-2.06.94zm-11 1L8.5 8.5l.94-2.06 2.06-.94-2.06-.94L8.5 2.5l-.94 2.06-2.06.94zm10 10l.94 2.06.94-2.06 2.06-.94-2.06-.94-.94-2.06-.94 2.06-2.06.94z\"/><path d=\"M17.41 7.96l-1.37-1.37c-.4-.4-.92-.59-1.43-.59-.52 0-1.04.2-1.43.59L10.3 9.45l-7.72 7.72c-.78.78-.78 2.05 0 2.83L4 21.41c.39.39.9.59 1.41.59.51 0 1.02-.2 1.41-.59l7.78-7.78 2.81-2.81c.8-.78.8-2.07 0-2.86zM5.41 20L4 18.59l7.72-7.72 1.47 1.35L5.41 20z\"/>\n",
              "  </svg>\n",
              "      </button>\n",
              "      \n",
              "  <style>\n",
              "    .colab-df-container {\n",
              "      display:flex;\n",
              "      flex-wrap:wrap;\n",
              "      gap: 12px;\n",
              "    }\n",
              "\n",
              "    .colab-df-convert {\n",
              "      background-color: #E8F0FE;\n",
              "      border: none;\n",
              "      border-radius: 50%;\n",
              "      cursor: pointer;\n",
              "      display: none;\n",
              "      fill: #1967D2;\n",
              "      height: 32px;\n",
              "      padding: 0 0 0 0;\n",
              "      width: 32px;\n",
              "    }\n",
              "\n",
              "    .colab-df-convert:hover {\n",
              "      background-color: #E2EBFA;\n",
              "      box-shadow: 0px 1px 2px rgba(60, 64, 67, 0.3), 0px 1px 3px 1px rgba(60, 64, 67, 0.15);\n",
              "      fill: #174EA6;\n",
              "    }\n",
              "\n",
              "    [theme=dark] .colab-df-convert {\n",
              "      background-color: #3B4455;\n",
              "      fill: #D2E3FC;\n",
              "    }\n",
              "\n",
              "    [theme=dark] .colab-df-convert:hover {\n",
              "      background-color: #434B5C;\n",
              "      box-shadow: 0px 1px 3px 1px rgba(0, 0, 0, 0.15);\n",
              "      filter: drop-shadow(0px 1px 2px rgba(0, 0, 0, 0.3));\n",
              "      fill: #FFFFFF;\n",
              "    }\n",
              "  </style>\n",
              "\n",
              "      <script>\n",
              "        const buttonEl =\n",
              "          document.querySelector('#df-231f1972-703c-4601-8634-3beccfc220ef button.colab-df-convert');\n",
              "        buttonEl.style.display =\n",
              "          google.colab.kernel.accessAllowed ? 'block' : 'none';\n",
              "\n",
              "        async function convertToInteractive(key) {\n",
              "          const element = document.querySelector('#df-231f1972-703c-4601-8634-3beccfc220ef');\n",
              "          const dataTable =\n",
              "            await google.colab.kernel.invokeFunction('convertToInteractive',\n",
              "                                                     [key], {});\n",
              "          if (!dataTable) return;\n",
              "\n",
              "          const docLinkHtml = 'Like what you see? Visit the ' +\n",
              "            '<a target=\"_blank\" href=https://colab.research.google.com/notebooks/data_table.ipynb>data table notebook</a>'\n",
              "            + ' to learn more about interactive tables.';\n",
              "          element.innerHTML = '';\n",
              "          dataTable['output_type'] = 'display_data';\n",
              "          await google.colab.output.renderOutput(dataTable, element);\n",
              "          const docLink = document.createElement('div');\n",
              "          docLink.innerHTML = docLinkHtml;\n",
              "          element.appendChild(docLink);\n",
              "        }\n",
              "      </script>\n",
              "    </div>\n",
              "  </div>\n",
              "  "
            ]
          },
          "metadata": {},
          "execution_count": 16
        }
      ]
    },
    {
      "cell_type": "code",
      "source": [
        "df.query('quantity > 5 & quantity <10' )   # 여러  조건을 만족하는 행 추출 (&, |) "
      ],
      "metadata": {
        "colab": {
          "base_uri": "https://localhost:8080/",
          "height": 112
        },
        "id": "pv-pBSpxEEJI",
        "outputId": "a2e1a3cb-b282-42bc-892f-5b34964e0190"
      },
      "execution_count": 17,
      "outputs": [
        {
          "output_type": "execute_result",
          "data": {
            "text/plain": [
              "      order_id  quantity      item_name choice_description item_price\n",
              "3599      1443         7  Bottled Water                NaN    $10.50 \n",
              "3887      1559         8  Side of Chips                NaN    $13.52 "
            ],
            "text/html": [
              "\n",
              "  <div id=\"df-6c4c2fc0-e97b-41f3-8a45-b3ee0673e88a\">\n",
              "    <div class=\"colab-df-container\">\n",
              "      <div>\n",
              "<style scoped>\n",
              "    .dataframe tbody tr th:only-of-type {\n",
              "        vertical-align: middle;\n",
              "    }\n",
              "\n",
              "    .dataframe tbody tr th {\n",
              "        vertical-align: top;\n",
              "    }\n",
              "\n",
              "    .dataframe thead th {\n",
              "        text-align: right;\n",
              "    }\n",
              "</style>\n",
              "<table border=\"1\" class=\"dataframe\">\n",
              "  <thead>\n",
              "    <tr style=\"text-align: right;\">\n",
              "      <th></th>\n",
              "      <th>order_id</th>\n",
              "      <th>quantity</th>\n",
              "      <th>item_name</th>\n",
              "      <th>choice_description</th>\n",
              "      <th>item_price</th>\n",
              "    </tr>\n",
              "  </thead>\n",
              "  <tbody>\n",
              "    <tr>\n",
              "      <th>3599</th>\n",
              "      <td>1443</td>\n",
              "      <td>7</td>\n",
              "      <td>Bottled Water</td>\n",
              "      <td>NaN</td>\n",
              "      <td>$10.50</td>\n",
              "    </tr>\n",
              "    <tr>\n",
              "      <th>3887</th>\n",
              "      <td>1559</td>\n",
              "      <td>8</td>\n",
              "      <td>Side of Chips</td>\n",
              "      <td>NaN</td>\n",
              "      <td>$13.52</td>\n",
              "    </tr>\n",
              "  </tbody>\n",
              "</table>\n",
              "</div>\n",
              "      <button class=\"colab-df-convert\" onclick=\"convertToInteractive('df-6c4c2fc0-e97b-41f3-8a45-b3ee0673e88a')\"\n",
              "              title=\"Convert this dataframe to an interactive table.\"\n",
              "              style=\"display:none;\">\n",
              "        \n",
              "  <svg xmlns=\"http://www.w3.org/2000/svg\" height=\"24px\"viewBox=\"0 0 24 24\"\n",
              "       width=\"24px\">\n",
              "    <path d=\"M0 0h24v24H0V0z\" fill=\"none\"/>\n",
              "    <path d=\"M18.56 5.44l.94 2.06.94-2.06 2.06-.94-2.06-.94-.94-2.06-.94 2.06-2.06.94zm-11 1L8.5 8.5l.94-2.06 2.06-.94-2.06-.94L8.5 2.5l-.94 2.06-2.06.94zm10 10l.94 2.06.94-2.06 2.06-.94-2.06-.94-.94-2.06-.94 2.06-2.06.94z\"/><path d=\"M17.41 7.96l-1.37-1.37c-.4-.4-.92-.59-1.43-.59-.52 0-1.04.2-1.43.59L10.3 9.45l-7.72 7.72c-.78.78-.78 2.05 0 2.83L4 21.41c.39.39.9.59 1.41.59.51 0 1.02-.2 1.41-.59l7.78-7.78 2.81-2.81c.8-.78.8-2.07 0-2.86zM5.41 20L4 18.59l7.72-7.72 1.47 1.35L5.41 20z\"/>\n",
              "  </svg>\n",
              "      </button>\n",
              "      \n",
              "  <style>\n",
              "    .colab-df-container {\n",
              "      display:flex;\n",
              "      flex-wrap:wrap;\n",
              "      gap: 12px;\n",
              "    }\n",
              "\n",
              "    .colab-df-convert {\n",
              "      background-color: #E8F0FE;\n",
              "      border: none;\n",
              "      border-radius: 50%;\n",
              "      cursor: pointer;\n",
              "      display: none;\n",
              "      fill: #1967D2;\n",
              "      height: 32px;\n",
              "      padding: 0 0 0 0;\n",
              "      width: 32px;\n",
              "    }\n",
              "\n",
              "    .colab-df-convert:hover {\n",
              "      background-color: #E2EBFA;\n",
              "      box-shadow: 0px 1px 2px rgba(60, 64, 67, 0.3), 0px 1px 3px 1px rgba(60, 64, 67, 0.15);\n",
              "      fill: #174EA6;\n",
              "    }\n",
              "\n",
              "    [theme=dark] .colab-df-convert {\n",
              "      background-color: #3B4455;\n",
              "      fill: #D2E3FC;\n",
              "    }\n",
              "\n",
              "    [theme=dark] .colab-df-convert:hover {\n",
              "      background-color: #434B5C;\n",
              "      box-shadow: 0px 1px 3px 1px rgba(0, 0, 0, 0.15);\n",
              "      filter: drop-shadow(0px 1px 2px rgba(0, 0, 0, 0.3));\n",
              "      fill: #FFFFFF;\n",
              "    }\n",
              "  </style>\n",
              "\n",
              "      <script>\n",
              "        const buttonEl =\n",
              "          document.querySelector('#df-6c4c2fc0-e97b-41f3-8a45-b3ee0673e88a button.colab-df-convert');\n",
              "        buttonEl.style.display =\n",
              "          google.colab.kernel.accessAllowed ? 'block' : 'none';\n",
              "\n",
              "        async function convertToInteractive(key) {\n",
              "          const element = document.querySelector('#df-6c4c2fc0-e97b-41f3-8a45-b3ee0673e88a');\n",
              "          const dataTable =\n",
              "            await google.colab.kernel.invokeFunction('convertToInteractive',\n",
              "                                                     [key], {});\n",
              "          if (!dataTable) return;\n",
              "\n",
              "          const docLinkHtml = 'Like what you see? Visit the ' +\n",
              "            '<a target=\"_blank\" href=https://colab.research.google.com/notebooks/data_table.ipynb>data table notebook</a>'\n",
              "            + ' to learn more about interactive tables.';\n",
              "          element.innerHTML = '';\n",
              "          dataTable['output_type'] = 'display_data';\n",
              "          await google.colab.output.renderOutput(dataTable, element);\n",
              "          const docLink = document.createElement('div');\n",
              "          docLink.innerHTML = docLinkHtml;\n",
              "          element.appendChild(docLink);\n",
              "        }\n",
              "      </script>\n",
              "    </div>\n",
              "  </div>\n",
              "  "
            ]
          },
          "metadata": {},
          "execution_count": 17
        }
      ]
    },
    {
      "cell_type": "markdown",
      "source": [
        "#### 데이터 조작하기\n",
        "- 데이터프레임 복사본 만들기, 변수명 변경\n",
        "- 파생변수 (열) 추가/삭제\n",
        "- 정렬, 집단별로 나누기\n",
        "- 심화. 데이터 구조 변경: 합치기 (열, 행), 피봇하기 (행과 열을 회전) "
      ],
      "metadata": {
        "id": "nSrZRnKO9Fol"
      }
    },
    {
      "cell_type": "code",
      "source": [
        "df_new = df.copy()    # 복사본 만들기, df_new = df 를 사용하는 경우 이름만 다를 뿐 어느 한 쪽을 수정하면 다른 한 쪽도 같이 수정됨  \n",
        "df_new = df_new.rename (columns = {'item_name': 'item'})    # item_name 을 item으로 변경 \n",
        "display(df_new)"
      ],
      "metadata": {
        "colab": {
          "base_uri": "https://localhost:8080/",
          "height": 424
        },
        "id": "4R0K678s9EA0",
        "outputId": "4f618a28-531d-4166-a798-802f19d6791f"
      },
      "execution_count": 18,
      "outputs": [
        {
          "output_type": "display_data",
          "data": {
            "text/plain": [
              "      order_id  quantity                                   item  \\\n",
              "0            1         1           Chips and Fresh Tomato Salsa   \n",
              "1            1         1                                   Izze   \n",
              "2            1         1                       Nantucket Nectar   \n",
              "3            1         1  Chips and Tomatillo-Green Chili Salsa   \n",
              "4            2         2                           Chicken Bowl   \n",
              "...        ...       ...                                    ...   \n",
              "4617      1833         1                          Steak Burrito   \n",
              "4618      1833         1                          Steak Burrito   \n",
              "4619      1834         1                     Chicken Salad Bowl   \n",
              "4620      1834         1                     Chicken Salad Bowl   \n",
              "4621      1834         1                     Chicken Salad Bowl   \n",
              "\n",
              "                                     choice_description item_price  \n",
              "0                                                   NaN     $2.39   \n",
              "1                                          [Clementine]     $3.39   \n",
              "2                                               [Apple]     $3.39   \n",
              "3                                                   NaN     $2.39   \n",
              "4     [Tomatillo-Red Chili Salsa (Hot), [Black Beans...    $16.98   \n",
              "...                                                 ...        ...  \n",
              "4617  [Fresh Tomato Salsa, [Rice, Black Beans, Sour ...    $11.75   \n",
              "4618  [Fresh Tomato Salsa, [Rice, Sour Cream, Cheese...    $11.75   \n",
              "4619  [Fresh Tomato Salsa, [Fajita Vegetables, Pinto...    $11.25   \n",
              "4620  [Fresh Tomato Salsa, [Fajita Vegetables, Lettu...     $8.75   \n",
              "4621  [Fresh Tomato Salsa, [Fajita Vegetables, Pinto...     $8.75   \n",
              "\n",
              "[4622 rows x 5 columns]"
            ],
            "text/html": [
              "\n",
              "  <div id=\"df-caf8a895-18e8-4a7a-8306-3211ad3553d5\">\n",
              "    <div class=\"colab-df-container\">\n",
              "      <div>\n",
              "<style scoped>\n",
              "    .dataframe tbody tr th:only-of-type {\n",
              "        vertical-align: middle;\n",
              "    }\n",
              "\n",
              "    .dataframe tbody tr th {\n",
              "        vertical-align: top;\n",
              "    }\n",
              "\n",
              "    .dataframe thead th {\n",
              "        text-align: right;\n",
              "    }\n",
              "</style>\n",
              "<table border=\"1\" class=\"dataframe\">\n",
              "  <thead>\n",
              "    <tr style=\"text-align: right;\">\n",
              "      <th></th>\n",
              "      <th>order_id</th>\n",
              "      <th>quantity</th>\n",
              "      <th>item</th>\n",
              "      <th>choice_description</th>\n",
              "      <th>item_price</th>\n",
              "    </tr>\n",
              "  </thead>\n",
              "  <tbody>\n",
              "    <tr>\n",
              "      <th>0</th>\n",
              "      <td>1</td>\n",
              "      <td>1</td>\n",
              "      <td>Chips and Fresh Tomato Salsa</td>\n",
              "      <td>NaN</td>\n",
              "      <td>$2.39</td>\n",
              "    </tr>\n",
              "    <tr>\n",
              "      <th>1</th>\n",
              "      <td>1</td>\n",
              "      <td>1</td>\n",
              "      <td>Izze</td>\n",
              "      <td>[Clementine]</td>\n",
              "      <td>$3.39</td>\n",
              "    </tr>\n",
              "    <tr>\n",
              "      <th>2</th>\n",
              "      <td>1</td>\n",
              "      <td>1</td>\n",
              "      <td>Nantucket Nectar</td>\n",
              "      <td>[Apple]</td>\n",
              "      <td>$3.39</td>\n",
              "    </tr>\n",
              "    <tr>\n",
              "      <th>3</th>\n",
              "      <td>1</td>\n",
              "      <td>1</td>\n",
              "      <td>Chips and Tomatillo-Green Chili Salsa</td>\n",
              "      <td>NaN</td>\n",
              "      <td>$2.39</td>\n",
              "    </tr>\n",
              "    <tr>\n",
              "      <th>4</th>\n",
              "      <td>2</td>\n",
              "      <td>2</td>\n",
              "      <td>Chicken Bowl</td>\n",
              "      <td>[Tomatillo-Red Chili Salsa (Hot), [Black Beans...</td>\n",
              "      <td>$16.98</td>\n",
              "    </tr>\n",
              "    <tr>\n",
              "      <th>...</th>\n",
              "      <td>...</td>\n",
              "      <td>...</td>\n",
              "      <td>...</td>\n",
              "      <td>...</td>\n",
              "      <td>...</td>\n",
              "    </tr>\n",
              "    <tr>\n",
              "      <th>4617</th>\n",
              "      <td>1833</td>\n",
              "      <td>1</td>\n",
              "      <td>Steak Burrito</td>\n",
              "      <td>[Fresh Tomato Salsa, [Rice, Black Beans, Sour ...</td>\n",
              "      <td>$11.75</td>\n",
              "    </tr>\n",
              "    <tr>\n",
              "      <th>4618</th>\n",
              "      <td>1833</td>\n",
              "      <td>1</td>\n",
              "      <td>Steak Burrito</td>\n",
              "      <td>[Fresh Tomato Salsa, [Rice, Sour Cream, Cheese...</td>\n",
              "      <td>$11.75</td>\n",
              "    </tr>\n",
              "    <tr>\n",
              "      <th>4619</th>\n",
              "      <td>1834</td>\n",
              "      <td>1</td>\n",
              "      <td>Chicken Salad Bowl</td>\n",
              "      <td>[Fresh Tomato Salsa, [Fajita Vegetables, Pinto...</td>\n",
              "      <td>$11.25</td>\n",
              "    </tr>\n",
              "    <tr>\n",
              "      <th>4620</th>\n",
              "      <td>1834</td>\n",
              "      <td>1</td>\n",
              "      <td>Chicken Salad Bowl</td>\n",
              "      <td>[Fresh Tomato Salsa, [Fajita Vegetables, Lettu...</td>\n",
              "      <td>$8.75</td>\n",
              "    </tr>\n",
              "    <tr>\n",
              "      <th>4621</th>\n",
              "      <td>1834</td>\n",
              "      <td>1</td>\n",
              "      <td>Chicken Salad Bowl</td>\n",
              "      <td>[Fresh Tomato Salsa, [Fajita Vegetables, Pinto...</td>\n",
              "      <td>$8.75</td>\n",
              "    </tr>\n",
              "  </tbody>\n",
              "</table>\n",
              "<p>4622 rows × 5 columns</p>\n",
              "</div>\n",
              "      <button class=\"colab-df-convert\" onclick=\"convertToInteractive('df-caf8a895-18e8-4a7a-8306-3211ad3553d5')\"\n",
              "              title=\"Convert this dataframe to an interactive table.\"\n",
              "              style=\"display:none;\">\n",
              "        \n",
              "  <svg xmlns=\"http://www.w3.org/2000/svg\" height=\"24px\"viewBox=\"0 0 24 24\"\n",
              "       width=\"24px\">\n",
              "    <path d=\"M0 0h24v24H0V0z\" fill=\"none\"/>\n",
              "    <path d=\"M18.56 5.44l.94 2.06.94-2.06 2.06-.94-2.06-.94-.94-2.06-.94 2.06-2.06.94zm-11 1L8.5 8.5l.94-2.06 2.06-.94-2.06-.94L8.5 2.5l-.94 2.06-2.06.94zm10 10l.94 2.06.94-2.06 2.06-.94-2.06-.94-.94-2.06-.94 2.06-2.06.94z\"/><path d=\"M17.41 7.96l-1.37-1.37c-.4-.4-.92-.59-1.43-.59-.52 0-1.04.2-1.43.59L10.3 9.45l-7.72 7.72c-.78.78-.78 2.05 0 2.83L4 21.41c.39.39.9.59 1.41.59.51 0 1.02-.2 1.41-.59l7.78-7.78 2.81-2.81c.8-.78.8-2.07 0-2.86zM5.41 20L4 18.59l7.72-7.72 1.47 1.35L5.41 20z\"/>\n",
              "  </svg>\n",
              "      </button>\n",
              "      \n",
              "  <style>\n",
              "    .colab-df-container {\n",
              "      display:flex;\n",
              "      flex-wrap:wrap;\n",
              "      gap: 12px;\n",
              "    }\n",
              "\n",
              "    .colab-df-convert {\n",
              "      background-color: #E8F0FE;\n",
              "      border: none;\n",
              "      border-radius: 50%;\n",
              "      cursor: pointer;\n",
              "      display: none;\n",
              "      fill: #1967D2;\n",
              "      height: 32px;\n",
              "      padding: 0 0 0 0;\n",
              "      width: 32px;\n",
              "    }\n",
              "\n",
              "    .colab-df-convert:hover {\n",
              "      background-color: #E2EBFA;\n",
              "      box-shadow: 0px 1px 2px rgba(60, 64, 67, 0.3), 0px 1px 3px 1px rgba(60, 64, 67, 0.15);\n",
              "      fill: #174EA6;\n",
              "    }\n",
              "\n",
              "    [theme=dark] .colab-df-convert {\n",
              "      background-color: #3B4455;\n",
              "      fill: #D2E3FC;\n",
              "    }\n",
              "\n",
              "    [theme=dark] .colab-df-convert:hover {\n",
              "      background-color: #434B5C;\n",
              "      box-shadow: 0px 1px 3px 1px rgba(0, 0, 0, 0.15);\n",
              "      filter: drop-shadow(0px 1px 2px rgba(0, 0, 0, 0.3));\n",
              "      fill: #FFFFFF;\n",
              "    }\n",
              "  </style>\n",
              "\n",
              "      <script>\n",
              "        const buttonEl =\n",
              "          document.querySelector('#df-caf8a895-18e8-4a7a-8306-3211ad3553d5 button.colab-df-convert');\n",
              "        buttonEl.style.display =\n",
              "          google.colab.kernel.accessAllowed ? 'block' : 'none';\n",
              "\n",
              "        async function convertToInteractive(key) {\n",
              "          const element = document.querySelector('#df-caf8a895-18e8-4a7a-8306-3211ad3553d5');\n",
              "          const dataTable =\n",
              "            await google.colab.kernel.invokeFunction('convertToInteractive',\n",
              "                                                     [key], {});\n",
              "          if (!dataTable) return;\n",
              "\n",
              "          const docLinkHtml = 'Like what you see? Visit the ' +\n",
              "            '<a target=\"_blank\" href=https://colab.research.google.com/notebooks/data_table.ipynb>data table notebook</a>'\n",
              "            + ' to learn more about interactive tables.';\n",
              "          element.innerHTML = '';\n",
              "          dataTable['output_type'] = 'display_data';\n",
              "          await google.colab.output.renderOutput(dataTable, element);\n",
              "          const docLink = document.createElement('div');\n",
              "          docLink.innerHTML = docLinkHtml;\n",
              "          element.appendChild(docLink);\n",
              "        }\n",
              "      </script>\n",
              "    </div>\n",
              "  </div>\n",
              "  "
            ]
          },
          "metadata": {}
        }
      ]
    },
    {
      "cell_type": "code",
      "metadata": {
        "colab": {
          "base_uri": "https://localhost:8080/",
          "height": 424
        },
        "id": "Id77uMwqFgXl",
        "outputId": "86d0a92f-a3ee-4759-f5f5-9ccc4738ef80"
      },
      "source": [
        "# 람다(lambda)를 이용하여 간단한 계산값으로 새로운 변수 추가 (이름의 길이) \n",
        "# lambda는 익명 함수로, def로 정의하지 않고 필요한 곳에서만 사용할 수 있음\n",
        "\n",
        "df['name_len'] = df['item_name'].apply(lambda x : len(x))\n",
        "display(df)\n",
        "\n",
        "#df.drop(columns='name_len', inplace=True)   #새로 만든 변수 삭제 "
      ],
      "execution_count": 19,
      "outputs": [
        {
          "output_type": "display_data",
          "data": {
            "text/plain": [
              "      order_id  quantity                              item_name  \\\n",
              "0            1         1           Chips and Fresh Tomato Salsa   \n",
              "1            1         1                                   Izze   \n",
              "2            1         1                       Nantucket Nectar   \n",
              "3            1         1  Chips and Tomatillo-Green Chili Salsa   \n",
              "4            2         2                           Chicken Bowl   \n",
              "...        ...       ...                                    ...   \n",
              "4617      1833         1                          Steak Burrito   \n",
              "4618      1833         1                          Steak Burrito   \n",
              "4619      1834         1                     Chicken Salad Bowl   \n",
              "4620      1834         1                     Chicken Salad Bowl   \n",
              "4621      1834         1                     Chicken Salad Bowl   \n",
              "\n",
              "                                     choice_description item_price  name_len  \n",
              "0                                                   NaN     $2.39         28  \n",
              "1                                          [Clementine]     $3.39          4  \n",
              "2                                               [Apple]     $3.39         16  \n",
              "3                                                   NaN     $2.39         37  \n",
              "4     [Tomatillo-Red Chili Salsa (Hot), [Black Beans...    $16.98         12  \n",
              "...                                                 ...        ...       ...  \n",
              "4617  [Fresh Tomato Salsa, [Rice, Black Beans, Sour ...    $11.75         13  \n",
              "4618  [Fresh Tomato Salsa, [Rice, Sour Cream, Cheese...    $11.75         13  \n",
              "4619  [Fresh Tomato Salsa, [Fajita Vegetables, Pinto...    $11.25         18  \n",
              "4620  [Fresh Tomato Salsa, [Fajita Vegetables, Lettu...     $8.75         18  \n",
              "4621  [Fresh Tomato Salsa, [Fajita Vegetables, Pinto...     $8.75         18  \n",
              "\n",
              "[4622 rows x 6 columns]"
            ],
            "text/html": [
              "\n",
              "  <div id=\"df-d6e95686-6eb6-4e18-8222-6817919dea65\">\n",
              "    <div class=\"colab-df-container\">\n",
              "      <div>\n",
              "<style scoped>\n",
              "    .dataframe tbody tr th:only-of-type {\n",
              "        vertical-align: middle;\n",
              "    }\n",
              "\n",
              "    .dataframe tbody tr th {\n",
              "        vertical-align: top;\n",
              "    }\n",
              "\n",
              "    .dataframe thead th {\n",
              "        text-align: right;\n",
              "    }\n",
              "</style>\n",
              "<table border=\"1\" class=\"dataframe\">\n",
              "  <thead>\n",
              "    <tr style=\"text-align: right;\">\n",
              "      <th></th>\n",
              "      <th>order_id</th>\n",
              "      <th>quantity</th>\n",
              "      <th>item_name</th>\n",
              "      <th>choice_description</th>\n",
              "      <th>item_price</th>\n",
              "      <th>name_len</th>\n",
              "    </tr>\n",
              "  </thead>\n",
              "  <tbody>\n",
              "    <tr>\n",
              "      <th>0</th>\n",
              "      <td>1</td>\n",
              "      <td>1</td>\n",
              "      <td>Chips and Fresh Tomato Salsa</td>\n",
              "      <td>NaN</td>\n",
              "      <td>$2.39</td>\n",
              "      <td>28</td>\n",
              "    </tr>\n",
              "    <tr>\n",
              "      <th>1</th>\n",
              "      <td>1</td>\n",
              "      <td>1</td>\n",
              "      <td>Izze</td>\n",
              "      <td>[Clementine]</td>\n",
              "      <td>$3.39</td>\n",
              "      <td>4</td>\n",
              "    </tr>\n",
              "    <tr>\n",
              "      <th>2</th>\n",
              "      <td>1</td>\n",
              "      <td>1</td>\n",
              "      <td>Nantucket Nectar</td>\n",
              "      <td>[Apple]</td>\n",
              "      <td>$3.39</td>\n",
              "      <td>16</td>\n",
              "    </tr>\n",
              "    <tr>\n",
              "      <th>3</th>\n",
              "      <td>1</td>\n",
              "      <td>1</td>\n",
              "      <td>Chips and Tomatillo-Green Chili Salsa</td>\n",
              "      <td>NaN</td>\n",
              "      <td>$2.39</td>\n",
              "      <td>37</td>\n",
              "    </tr>\n",
              "    <tr>\n",
              "      <th>4</th>\n",
              "      <td>2</td>\n",
              "      <td>2</td>\n",
              "      <td>Chicken Bowl</td>\n",
              "      <td>[Tomatillo-Red Chili Salsa (Hot), [Black Beans...</td>\n",
              "      <td>$16.98</td>\n",
              "      <td>12</td>\n",
              "    </tr>\n",
              "    <tr>\n",
              "      <th>...</th>\n",
              "      <td>...</td>\n",
              "      <td>...</td>\n",
              "      <td>...</td>\n",
              "      <td>...</td>\n",
              "      <td>...</td>\n",
              "      <td>...</td>\n",
              "    </tr>\n",
              "    <tr>\n",
              "      <th>4617</th>\n",
              "      <td>1833</td>\n",
              "      <td>1</td>\n",
              "      <td>Steak Burrito</td>\n",
              "      <td>[Fresh Tomato Salsa, [Rice, Black Beans, Sour ...</td>\n",
              "      <td>$11.75</td>\n",
              "      <td>13</td>\n",
              "    </tr>\n",
              "    <tr>\n",
              "      <th>4618</th>\n",
              "      <td>1833</td>\n",
              "      <td>1</td>\n",
              "      <td>Steak Burrito</td>\n",
              "      <td>[Fresh Tomato Salsa, [Rice, Sour Cream, Cheese...</td>\n",
              "      <td>$11.75</td>\n",
              "      <td>13</td>\n",
              "    </tr>\n",
              "    <tr>\n",
              "      <th>4619</th>\n",
              "      <td>1834</td>\n",
              "      <td>1</td>\n",
              "      <td>Chicken Salad Bowl</td>\n",
              "      <td>[Fresh Tomato Salsa, [Fajita Vegetables, Pinto...</td>\n",
              "      <td>$11.25</td>\n",
              "      <td>18</td>\n",
              "    </tr>\n",
              "    <tr>\n",
              "      <th>4620</th>\n",
              "      <td>1834</td>\n",
              "      <td>1</td>\n",
              "      <td>Chicken Salad Bowl</td>\n",
              "      <td>[Fresh Tomato Salsa, [Fajita Vegetables, Lettu...</td>\n",
              "      <td>$8.75</td>\n",
              "      <td>18</td>\n",
              "    </tr>\n",
              "    <tr>\n",
              "      <th>4621</th>\n",
              "      <td>1834</td>\n",
              "      <td>1</td>\n",
              "      <td>Chicken Salad Bowl</td>\n",
              "      <td>[Fresh Tomato Salsa, [Fajita Vegetables, Pinto...</td>\n",
              "      <td>$8.75</td>\n",
              "      <td>18</td>\n",
              "    </tr>\n",
              "  </tbody>\n",
              "</table>\n",
              "<p>4622 rows × 6 columns</p>\n",
              "</div>\n",
              "      <button class=\"colab-df-convert\" onclick=\"convertToInteractive('df-d6e95686-6eb6-4e18-8222-6817919dea65')\"\n",
              "              title=\"Convert this dataframe to an interactive table.\"\n",
              "              style=\"display:none;\">\n",
              "        \n",
              "  <svg xmlns=\"http://www.w3.org/2000/svg\" height=\"24px\"viewBox=\"0 0 24 24\"\n",
              "       width=\"24px\">\n",
              "    <path d=\"M0 0h24v24H0V0z\" fill=\"none\"/>\n",
              "    <path d=\"M18.56 5.44l.94 2.06.94-2.06 2.06-.94-2.06-.94-.94-2.06-.94 2.06-2.06.94zm-11 1L8.5 8.5l.94-2.06 2.06-.94-2.06-.94L8.5 2.5l-.94 2.06-2.06.94zm10 10l.94 2.06.94-2.06 2.06-.94-2.06-.94-.94-2.06-.94 2.06-2.06.94z\"/><path d=\"M17.41 7.96l-1.37-1.37c-.4-.4-.92-.59-1.43-.59-.52 0-1.04.2-1.43.59L10.3 9.45l-7.72 7.72c-.78.78-.78 2.05 0 2.83L4 21.41c.39.39.9.59 1.41.59.51 0 1.02-.2 1.41-.59l7.78-7.78 2.81-2.81c.8-.78.8-2.07 0-2.86zM5.41 20L4 18.59l7.72-7.72 1.47 1.35L5.41 20z\"/>\n",
              "  </svg>\n",
              "      </button>\n",
              "      \n",
              "  <style>\n",
              "    .colab-df-container {\n",
              "      display:flex;\n",
              "      flex-wrap:wrap;\n",
              "      gap: 12px;\n",
              "    }\n",
              "\n",
              "    .colab-df-convert {\n",
              "      background-color: #E8F0FE;\n",
              "      border: none;\n",
              "      border-radius: 50%;\n",
              "      cursor: pointer;\n",
              "      display: none;\n",
              "      fill: #1967D2;\n",
              "      height: 32px;\n",
              "      padding: 0 0 0 0;\n",
              "      width: 32px;\n",
              "    }\n",
              "\n",
              "    .colab-df-convert:hover {\n",
              "      background-color: #E2EBFA;\n",
              "      box-shadow: 0px 1px 2px rgba(60, 64, 67, 0.3), 0px 1px 3px 1px rgba(60, 64, 67, 0.15);\n",
              "      fill: #174EA6;\n",
              "    }\n",
              "\n",
              "    [theme=dark] .colab-df-convert {\n",
              "      background-color: #3B4455;\n",
              "      fill: #D2E3FC;\n",
              "    }\n",
              "\n",
              "    [theme=dark] .colab-df-convert:hover {\n",
              "      background-color: #434B5C;\n",
              "      box-shadow: 0px 1px 3px 1px rgba(0, 0, 0, 0.15);\n",
              "      filter: drop-shadow(0px 1px 2px rgba(0, 0, 0, 0.3));\n",
              "      fill: #FFFFFF;\n",
              "    }\n",
              "  </style>\n",
              "\n",
              "      <script>\n",
              "        const buttonEl =\n",
              "          document.querySelector('#df-d6e95686-6eb6-4e18-8222-6817919dea65 button.colab-df-convert');\n",
              "        buttonEl.style.display =\n",
              "          google.colab.kernel.accessAllowed ? 'block' : 'none';\n",
              "\n",
              "        async function convertToInteractive(key) {\n",
              "          const element = document.querySelector('#df-d6e95686-6eb6-4e18-8222-6817919dea65');\n",
              "          const dataTable =\n",
              "            await google.colab.kernel.invokeFunction('convertToInteractive',\n",
              "                                                     [key], {});\n",
              "          if (!dataTable) return;\n",
              "\n",
              "          const docLinkHtml = 'Like what you see? Visit the ' +\n",
              "            '<a target=\"_blank\" href=https://colab.research.google.com/notebooks/data_table.ipynb>data table notebook</a>'\n",
              "            + ' to learn more about interactive tables.';\n",
              "          element.innerHTML = '';\n",
              "          dataTable['output_type'] = 'display_data';\n",
              "          await google.colab.output.renderOutput(dataTable, element);\n",
              "          const docLink = document.createElement('div');\n",
              "          docLink.innerHTML = docLinkHtml;\n",
              "          element.appendChild(docLink);\n",
              "        }\n",
              "      </script>\n",
              "    </div>\n",
              "  </div>\n",
              "  "
            ]
          },
          "metadata": {}
        }
      ]
    },
    {
      "cell_type": "code",
      "source": [
        "df.sort_values('quantity', ascending = False).head()    # quantity 값을 내림차순으로 정렬 "
      ],
      "metadata": {
        "colab": {
          "base_uri": "https://localhost:8080/",
          "height": 206
        },
        "id": "GID2On26Hi_e",
        "outputId": "187bdfac-468a-4375-f9a7-91f646fd4fc2"
      },
      "execution_count": 20,
      "outputs": [
        {
          "output_type": "execute_result",
          "data": {
            "text/plain": [
              "      order_id  quantity                     item_name choice_description  \\\n",
              "3598      1443        15  Chips and Fresh Tomato Salsa                NaN   \n",
              "4152      1660        10                 Bottled Water                NaN   \n",
              "3887      1559         8                 Side of Chips                NaN   \n",
              "3599      1443         7                 Bottled Water                NaN   \n",
              "2441       970         5                 Bottled Water                NaN   \n",
              "\n",
              "     item_price  name_len  \n",
              "3598    $44.25         28  \n",
              "4152    $15.00         13  \n",
              "3887    $13.52         13  \n",
              "3599    $10.50         13  \n",
              "2441     $7.50         13  "
            ],
            "text/html": [
              "\n",
              "  <div id=\"df-6968003a-fa59-48de-9909-dfaeee968d30\">\n",
              "    <div class=\"colab-df-container\">\n",
              "      <div>\n",
              "<style scoped>\n",
              "    .dataframe tbody tr th:only-of-type {\n",
              "        vertical-align: middle;\n",
              "    }\n",
              "\n",
              "    .dataframe tbody tr th {\n",
              "        vertical-align: top;\n",
              "    }\n",
              "\n",
              "    .dataframe thead th {\n",
              "        text-align: right;\n",
              "    }\n",
              "</style>\n",
              "<table border=\"1\" class=\"dataframe\">\n",
              "  <thead>\n",
              "    <tr style=\"text-align: right;\">\n",
              "      <th></th>\n",
              "      <th>order_id</th>\n",
              "      <th>quantity</th>\n",
              "      <th>item_name</th>\n",
              "      <th>choice_description</th>\n",
              "      <th>item_price</th>\n",
              "      <th>name_len</th>\n",
              "    </tr>\n",
              "  </thead>\n",
              "  <tbody>\n",
              "    <tr>\n",
              "      <th>3598</th>\n",
              "      <td>1443</td>\n",
              "      <td>15</td>\n",
              "      <td>Chips and Fresh Tomato Salsa</td>\n",
              "      <td>NaN</td>\n",
              "      <td>$44.25</td>\n",
              "      <td>28</td>\n",
              "    </tr>\n",
              "    <tr>\n",
              "      <th>4152</th>\n",
              "      <td>1660</td>\n",
              "      <td>10</td>\n",
              "      <td>Bottled Water</td>\n",
              "      <td>NaN</td>\n",
              "      <td>$15.00</td>\n",
              "      <td>13</td>\n",
              "    </tr>\n",
              "    <tr>\n",
              "      <th>3887</th>\n",
              "      <td>1559</td>\n",
              "      <td>8</td>\n",
              "      <td>Side of Chips</td>\n",
              "      <td>NaN</td>\n",
              "      <td>$13.52</td>\n",
              "      <td>13</td>\n",
              "    </tr>\n",
              "    <tr>\n",
              "      <th>3599</th>\n",
              "      <td>1443</td>\n",
              "      <td>7</td>\n",
              "      <td>Bottled Water</td>\n",
              "      <td>NaN</td>\n",
              "      <td>$10.50</td>\n",
              "      <td>13</td>\n",
              "    </tr>\n",
              "    <tr>\n",
              "      <th>2441</th>\n",
              "      <td>970</td>\n",
              "      <td>5</td>\n",
              "      <td>Bottled Water</td>\n",
              "      <td>NaN</td>\n",
              "      <td>$7.50</td>\n",
              "      <td>13</td>\n",
              "    </tr>\n",
              "  </tbody>\n",
              "</table>\n",
              "</div>\n",
              "      <button class=\"colab-df-convert\" onclick=\"convertToInteractive('df-6968003a-fa59-48de-9909-dfaeee968d30')\"\n",
              "              title=\"Convert this dataframe to an interactive table.\"\n",
              "              style=\"display:none;\">\n",
              "        \n",
              "  <svg xmlns=\"http://www.w3.org/2000/svg\" height=\"24px\"viewBox=\"0 0 24 24\"\n",
              "       width=\"24px\">\n",
              "    <path d=\"M0 0h24v24H0V0z\" fill=\"none\"/>\n",
              "    <path d=\"M18.56 5.44l.94 2.06.94-2.06 2.06-.94-2.06-.94-.94-2.06-.94 2.06-2.06.94zm-11 1L8.5 8.5l.94-2.06 2.06-.94-2.06-.94L8.5 2.5l-.94 2.06-2.06.94zm10 10l.94 2.06.94-2.06 2.06-.94-2.06-.94-.94-2.06-.94 2.06-2.06.94z\"/><path d=\"M17.41 7.96l-1.37-1.37c-.4-.4-.92-.59-1.43-.59-.52 0-1.04.2-1.43.59L10.3 9.45l-7.72 7.72c-.78.78-.78 2.05 0 2.83L4 21.41c.39.39.9.59 1.41.59.51 0 1.02-.2 1.41-.59l7.78-7.78 2.81-2.81c.8-.78.8-2.07 0-2.86zM5.41 20L4 18.59l7.72-7.72 1.47 1.35L5.41 20z\"/>\n",
              "  </svg>\n",
              "      </button>\n",
              "      \n",
              "  <style>\n",
              "    .colab-df-container {\n",
              "      display:flex;\n",
              "      flex-wrap:wrap;\n",
              "      gap: 12px;\n",
              "    }\n",
              "\n",
              "    .colab-df-convert {\n",
              "      background-color: #E8F0FE;\n",
              "      border: none;\n",
              "      border-radius: 50%;\n",
              "      cursor: pointer;\n",
              "      display: none;\n",
              "      fill: #1967D2;\n",
              "      height: 32px;\n",
              "      padding: 0 0 0 0;\n",
              "      width: 32px;\n",
              "    }\n",
              "\n",
              "    .colab-df-convert:hover {\n",
              "      background-color: #E2EBFA;\n",
              "      box-shadow: 0px 1px 2px rgba(60, 64, 67, 0.3), 0px 1px 3px 1px rgba(60, 64, 67, 0.15);\n",
              "      fill: #174EA6;\n",
              "    }\n",
              "\n",
              "    [theme=dark] .colab-df-convert {\n",
              "      background-color: #3B4455;\n",
              "      fill: #D2E3FC;\n",
              "    }\n",
              "\n",
              "    [theme=dark] .colab-df-convert:hover {\n",
              "      background-color: #434B5C;\n",
              "      box-shadow: 0px 1px 3px 1px rgba(0, 0, 0, 0.15);\n",
              "      filter: drop-shadow(0px 1px 2px rgba(0, 0, 0, 0.3));\n",
              "      fill: #FFFFFF;\n",
              "    }\n",
              "  </style>\n",
              "\n",
              "      <script>\n",
              "        const buttonEl =\n",
              "          document.querySelector('#df-6968003a-fa59-48de-9909-dfaeee968d30 button.colab-df-convert');\n",
              "        buttonEl.style.display =\n",
              "          google.colab.kernel.accessAllowed ? 'block' : 'none';\n",
              "\n",
              "        async function convertToInteractive(key) {\n",
              "          const element = document.querySelector('#df-6968003a-fa59-48de-9909-dfaeee968d30');\n",
              "          const dataTable =\n",
              "            await google.colab.kernel.invokeFunction('convertToInteractive',\n",
              "                                                     [key], {});\n",
              "          if (!dataTable) return;\n",
              "\n",
              "          const docLinkHtml = 'Like what you see? Visit the ' +\n",
              "            '<a target=\"_blank\" href=https://colab.research.google.com/notebooks/data_table.ipynb>data table notebook</a>'\n",
              "            + ' to learn more about interactive tables.';\n",
              "          element.innerHTML = '';\n",
              "          dataTable['output_type'] = 'display_data';\n",
              "          await google.colab.output.renderOutput(dataTable, element);\n",
              "          const docLink = document.createElement('div');\n",
              "          docLink.innerHTML = docLinkHtml;\n",
              "          element.appendChild(docLink);\n",
              "        }\n",
              "      </script>\n",
              "    </div>\n",
              "  </div>\n",
              "  "
            ]
          },
          "metadata": {},
          "execution_count": 20
        }
      ]
    },
    {
      "cell_type": "code",
      "source": [
        "means = df.groupby('item_name').mean()   # item 별로 모든 수치 변수의 평균값을 구함 \n",
        "display(means.head())\n",
        "\n",
        "means[means['quantity'] > 1.3]     # quantity의 평균값이 1.3 보다 큰 item만 출력 "
      ],
      "metadata": {
        "colab": {
          "base_uri": "https://localhost:8080/",
          "height": 364
        },
        "id": "NB0yjBGWBiMM",
        "outputId": "a55b252e-f9c6-41c7-8beb-6c93aaada433"
      },
      "execution_count": 21,
      "outputs": [
        {
          "output_type": "display_data",
          "data": {
            "text/plain": [
              "                         order_id  quantity  name_len\n",
              "item_name                                            \n",
              "6 Pack Soft Drink      968.925926  1.018519      17.0\n",
              "Barbacoa Bowl          817.757576  1.000000      13.0\n",
              "Barbacoa Burrito       821.076923  1.000000      16.0\n",
              "Barbacoa Crispy Tacos  510.272727  1.090909      21.0\n",
              "Barbacoa Salad Bowl    970.800000  1.000000      19.0"
            ],
            "text/html": [
              "\n",
              "  <div id=\"df-920e3195-95dd-4534-aa28-5211f9a9761e\">\n",
              "    <div class=\"colab-df-container\">\n",
              "      <div>\n",
              "<style scoped>\n",
              "    .dataframe tbody tr th:only-of-type {\n",
              "        vertical-align: middle;\n",
              "    }\n",
              "\n",
              "    .dataframe tbody tr th {\n",
              "        vertical-align: top;\n",
              "    }\n",
              "\n",
              "    .dataframe thead th {\n",
              "        text-align: right;\n",
              "    }\n",
              "</style>\n",
              "<table border=\"1\" class=\"dataframe\">\n",
              "  <thead>\n",
              "    <tr style=\"text-align: right;\">\n",
              "      <th></th>\n",
              "      <th>order_id</th>\n",
              "      <th>quantity</th>\n",
              "      <th>name_len</th>\n",
              "    </tr>\n",
              "    <tr>\n",
              "      <th>item_name</th>\n",
              "      <th></th>\n",
              "      <th></th>\n",
              "      <th></th>\n",
              "    </tr>\n",
              "  </thead>\n",
              "  <tbody>\n",
              "    <tr>\n",
              "      <th>6 Pack Soft Drink</th>\n",
              "      <td>968.925926</td>\n",
              "      <td>1.018519</td>\n",
              "      <td>17.0</td>\n",
              "    </tr>\n",
              "    <tr>\n",
              "      <th>Barbacoa Bowl</th>\n",
              "      <td>817.757576</td>\n",
              "      <td>1.000000</td>\n",
              "      <td>13.0</td>\n",
              "    </tr>\n",
              "    <tr>\n",
              "      <th>Barbacoa Burrito</th>\n",
              "      <td>821.076923</td>\n",
              "      <td>1.000000</td>\n",
              "      <td>16.0</td>\n",
              "    </tr>\n",
              "    <tr>\n",
              "      <th>Barbacoa Crispy Tacos</th>\n",
              "      <td>510.272727</td>\n",
              "      <td>1.090909</td>\n",
              "      <td>21.0</td>\n",
              "    </tr>\n",
              "    <tr>\n",
              "      <th>Barbacoa Salad Bowl</th>\n",
              "      <td>970.800000</td>\n",
              "      <td>1.000000</td>\n",
              "      <td>19.0</td>\n",
              "    </tr>\n",
              "  </tbody>\n",
              "</table>\n",
              "</div>\n",
              "      <button class=\"colab-df-convert\" onclick=\"convertToInteractive('df-920e3195-95dd-4534-aa28-5211f9a9761e')\"\n",
              "              title=\"Convert this dataframe to an interactive table.\"\n",
              "              style=\"display:none;\">\n",
              "        \n",
              "  <svg xmlns=\"http://www.w3.org/2000/svg\" height=\"24px\"viewBox=\"0 0 24 24\"\n",
              "       width=\"24px\">\n",
              "    <path d=\"M0 0h24v24H0V0z\" fill=\"none\"/>\n",
              "    <path d=\"M18.56 5.44l.94 2.06.94-2.06 2.06-.94-2.06-.94-.94-2.06-.94 2.06-2.06.94zm-11 1L8.5 8.5l.94-2.06 2.06-.94-2.06-.94L8.5 2.5l-.94 2.06-2.06.94zm10 10l.94 2.06.94-2.06 2.06-.94-2.06-.94-.94-2.06-.94 2.06-2.06.94z\"/><path d=\"M17.41 7.96l-1.37-1.37c-.4-.4-.92-.59-1.43-.59-.52 0-1.04.2-1.43.59L10.3 9.45l-7.72 7.72c-.78.78-.78 2.05 0 2.83L4 21.41c.39.39.9.59 1.41.59.51 0 1.02-.2 1.41-.59l7.78-7.78 2.81-2.81c.8-.78.8-2.07 0-2.86zM5.41 20L4 18.59l7.72-7.72 1.47 1.35L5.41 20z\"/>\n",
              "  </svg>\n",
              "      </button>\n",
              "      \n",
              "  <style>\n",
              "    .colab-df-container {\n",
              "      display:flex;\n",
              "      flex-wrap:wrap;\n",
              "      gap: 12px;\n",
              "    }\n",
              "\n",
              "    .colab-df-convert {\n",
              "      background-color: #E8F0FE;\n",
              "      border: none;\n",
              "      border-radius: 50%;\n",
              "      cursor: pointer;\n",
              "      display: none;\n",
              "      fill: #1967D2;\n",
              "      height: 32px;\n",
              "      padding: 0 0 0 0;\n",
              "      width: 32px;\n",
              "    }\n",
              "\n",
              "    .colab-df-convert:hover {\n",
              "      background-color: #E2EBFA;\n",
              "      box-shadow: 0px 1px 2px rgba(60, 64, 67, 0.3), 0px 1px 3px 1px rgba(60, 64, 67, 0.15);\n",
              "      fill: #174EA6;\n",
              "    }\n",
              "\n",
              "    [theme=dark] .colab-df-convert {\n",
              "      background-color: #3B4455;\n",
              "      fill: #D2E3FC;\n",
              "    }\n",
              "\n",
              "    [theme=dark] .colab-df-convert:hover {\n",
              "      background-color: #434B5C;\n",
              "      box-shadow: 0px 1px 3px 1px rgba(0, 0, 0, 0.15);\n",
              "      filter: drop-shadow(0px 1px 2px rgba(0, 0, 0, 0.3));\n",
              "      fill: #FFFFFF;\n",
              "    }\n",
              "  </style>\n",
              "\n",
              "      <script>\n",
              "        const buttonEl =\n",
              "          document.querySelector('#df-920e3195-95dd-4534-aa28-5211f9a9761e button.colab-df-convert');\n",
              "        buttonEl.style.display =\n",
              "          google.colab.kernel.accessAllowed ? 'block' : 'none';\n",
              "\n",
              "        async function convertToInteractive(key) {\n",
              "          const element = document.querySelector('#df-920e3195-95dd-4534-aa28-5211f9a9761e');\n",
              "          const dataTable =\n",
              "            await google.colab.kernel.invokeFunction('convertToInteractive',\n",
              "                                                     [key], {});\n",
              "          if (!dataTable) return;\n",
              "\n",
              "          const docLinkHtml = 'Like what you see? Visit the ' +\n",
              "            '<a target=\"_blank\" href=https://colab.research.google.com/notebooks/data_table.ipynb>data table notebook</a>'\n",
              "            + ' to learn more about interactive tables.';\n",
              "          element.innerHTML = '';\n",
              "          dataTable['output_type'] = 'display_data';\n",
              "          await google.colab.output.renderOutput(dataTable, element);\n",
              "          const docLink = document.createElement('div');\n",
              "          docLink.innerHTML = docLinkHtml;\n",
              "          element.appendChild(docLink);\n",
              "        }\n",
              "      </script>\n",
              "    </div>\n",
              "  </div>\n",
              "  "
            ]
          },
          "metadata": {}
        },
        {
          "output_type": "execute_result",
          "data": {
            "text/plain": [
              "                  order_id  quantity  name_len\n",
              "item_name                                     \n",
              "Bottled Water  1086.074074  1.302469      13.0\n",
              "Bowl            236.000000  2.000000       4.0"
            ],
            "text/html": [
              "\n",
              "  <div id=\"df-d11dda2e-31d7-4748-83fa-37a46288886c\">\n",
              "    <div class=\"colab-df-container\">\n",
              "      <div>\n",
              "<style scoped>\n",
              "    .dataframe tbody tr th:only-of-type {\n",
              "        vertical-align: middle;\n",
              "    }\n",
              "\n",
              "    .dataframe tbody tr th {\n",
              "        vertical-align: top;\n",
              "    }\n",
              "\n",
              "    .dataframe thead th {\n",
              "        text-align: right;\n",
              "    }\n",
              "</style>\n",
              "<table border=\"1\" class=\"dataframe\">\n",
              "  <thead>\n",
              "    <tr style=\"text-align: right;\">\n",
              "      <th></th>\n",
              "      <th>order_id</th>\n",
              "      <th>quantity</th>\n",
              "      <th>name_len</th>\n",
              "    </tr>\n",
              "    <tr>\n",
              "      <th>item_name</th>\n",
              "      <th></th>\n",
              "      <th></th>\n",
              "      <th></th>\n",
              "    </tr>\n",
              "  </thead>\n",
              "  <tbody>\n",
              "    <tr>\n",
              "      <th>Bottled Water</th>\n",
              "      <td>1086.074074</td>\n",
              "      <td>1.302469</td>\n",
              "      <td>13.0</td>\n",
              "    </tr>\n",
              "    <tr>\n",
              "      <th>Bowl</th>\n",
              "      <td>236.000000</td>\n",
              "      <td>2.000000</td>\n",
              "      <td>4.0</td>\n",
              "    </tr>\n",
              "  </tbody>\n",
              "</table>\n",
              "</div>\n",
              "      <button class=\"colab-df-convert\" onclick=\"convertToInteractive('df-d11dda2e-31d7-4748-83fa-37a46288886c')\"\n",
              "              title=\"Convert this dataframe to an interactive table.\"\n",
              "              style=\"display:none;\">\n",
              "        \n",
              "  <svg xmlns=\"http://www.w3.org/2000/svg\" height=\"24px\"viewBox=\"0 0 24 24\"\n",
              "       width=\"24px\">\n",
              "    <path d=\"M0 0h24v24H0V0z\" fill=\"none\"/>\n",
              "    <path d=\"M18.56 5.44l.94 2.06.94-2.06 2.06-.94-2.06-.94-.94-2.06-.94 2.06-2.06.94zm-11 1L8.5 8.5l.94-2.06 2.06-.94-2.06-.94L8.5 2.5l-.94 2.06-2.06.94zm10 10l.94 2.06.94-2.06 2.06-.94-2.06-.94-.94-2.06-.94 2.06-2.06.94z\"/><path d=\"M17.41 7.96l-1.37-1.37c-.4-.4-.92-.59-1.43-.59-.52 0-1.04.2-1.43.59L10.3 9.45l-7.72 7.72c-.78.78-.78 2.05 0 2.83L4 21.41c.39.39.9.59 1.41.59.51 0 1.02-.2 1.41-.59l7.78-7.78 2.81-2.81c.8-.78.8-2.07 0-2.86zM5.41 20L4 18.59l7.72-7.72 1.47 1.35L5.41 20z\"/>\n",
              "  </svg>\n",
              "      </button>\n",
              "      \n",
              "  <style>\n",
              "    .colab-df-container {\n",
              "      display:flex;\n",
              "      flex-wrap:wrap;\n",
              "      gap: 12px;\n",
              "    }\n",
              "\n",
              "    .colab-df-convert {\n",
              "      background-color: #E8F0FE;\n",
              "      border: none;\n",
              "      border-radius: 50%;\n",
              "      cursor: pointer;\n",
              "      display: none;\n",
              "      fill: #1967D2;\n",
              "      height: 32px;\n",
              "      padding: 0 0 0 0;\n",
              "      width: 32px;\n",
              "    }\n",
              "\n",
              "    .colab-df-convert:hover {\n",
              "      background-color: #E2EBFA;\n",
              "      box-shadow: 0px 1px 2px rgba(60, 64, 67, 0.3), 0px 1px 3px 1px rgba(60, 64, 67, 0.15);\n",
              "      fill: #174EA6;\n",
              "    }\n",
              "\n",
              "    [theme=dark] .colab-df-convert {\n",
              "      background-color: #3B4455;\n",
              "      fill: #D2E3FC;\n",
              "    }\n",
              "\n",
              "    [theme=dark] .colab-df-convert:hover {\n",
              "      background-color: #434B5C;\n",
              "      box-shadow: 0px 1px 3px 1px rgba(0, 0, 0, 0.15);\n",
              "      filter: drop-shadow(0px 1px 2px rgba(0, 0, 0, 0.3));\n",
              "      fill: #FFFFFF;\n",
              "    }\n",
              "  </style>\n",
              "\n",
              "      <script>\n",
              "        const buttonEl =\n",
              "          document.querySelector('#df-d11dda2e-31d7-4748-83fa-37a46288886c button.colab-df-convert');\n",
              "        buttonEl.style.display =\n",
              "          google.colab.kernel.accessAllowed ? 'block' : 'none';\n",
              "\n",
              "        async function convertToInteractive(key) {\n",
              "          const element = document.querySelector('#df-d11dda2e-31d7-4748-83fa-37a46288886c');\n",
              "          const dataTable =\n",
              "            await google.colab.kernel.invokeFunction('convertToInteractive',\n",
              "                                                     [key], {});\n",
              "          if (!dataTable) return;\n",
              "\n",
              "          const docLinkHtml = 'Like what you see? Visit the ' +\n",
              "            '<a target=\"_blank\" href=https://colab.research.google.com/notebooks/data_table.ipynb>data table notebook</a>'\n",
              "            + ' to learn more about interactive tables.';\n",
              "          element.innerHTML = '';\n",
              "          dataTable['output_type'] = 'display_data';\n",
              "          await google.colab.output.renderOutput(dataTable, element);\n",
              "          const docLink = document.createElement('div');\n",
              "          docLink.innerHTML = docLinkHtml;\n",
              "          element.appendChild(docLink);\n",
              "        }\n",
              "      </script>\n",
              "    </div>\n",
              "  </div>\n",
              "  "
            ]
          },
          "metadata": {},
          "execution_count": 21
        }
      ]
    },
    {
      "cell_type": "markdown",
      "metadata": {
        "id": "qHsL3HtiEgmm"
      },
      "source": [
        "### Matplotlib\n",
        "\n",
        "- Matplotlib(맷플롯립)은 그래프용 패키지로 히스토그램, 산점도 등을 그리는데 사용된다.\n",
        "- 쥬피터 노트북에 결과 그래프가 나타나게 하려면 %matplotlib inline 매크로를 실행해야 한다.   \n",
        "(또는 matplotlib.pyplot.show 함수로 그림을 그려야 한다.)"
      ]
    },
    {
      "cell_type": "code",
      "metadata": {
        "uuid": "30faf136-0ef7-4762-bd82-3795eea323d0",
        "id": "uiwn5gdNEgmn",
        "colab": {
          "base_uri": "https://localhost:8080/",
          "height": 299
        },
        "outputId": "8e0052af-d359-43b7-b677-54231b3445fe"
      },
      "source": [
        "%matplotlib inline\n",
        "import matplotlib as mpl               # 기본 설정\n",
        "import matplotlib.pyplot as plt        # 그래프 관련\n",
        "import matplotlib.font_manager as fm   # 폰트 관련\n",
        "\n",
        "mpl.rcParams['axes.unicode_minus'] = False  ## 마이너스 부호가 깨지는 것 방지 \n",
        "\n",
        "plt.title(\"x ticks\")\n",
        "plt.plot([10, 20, 30, 40], [-10, 4, 9, 16])"
      ],
      "execution_count": 22,
      "outputs": [
        {
          "output_type": "execute_result",
          "data": {
            "text/plain": [
              "[<matplotlib.lines.Line2D at 0x7fc7656d4610>]"
            ]
          },
          "metadata": {},
          "execution_count": 22
        },
        {
          "output_type": "display_data",
          "data": {
            "text/plain": [
              "<Figure size 432x288 with 1 Axes>"
            ],
            "image/png": "[encoded data removed]"
          },
          "metadata": {
            "needs_background": "light"
          }
        }
      ]
    },
    {
      "cell_type": "code",
      "metadata": {
        "scrolled": true,
        "id": "1ARdO4GCEgmn",
        "colab": {
          "base_uri": "https://localhost:8080/",
          "height": 283
        },
        "outputId": "7def4eb1-ed59-4ee4-9295-bbbce8e39e25"
      },
      "source": [
        "plt.plot([10, 20, 30, 40], [-10, 4, 9, 16], marker=\">\",  color='red')"
      ],
      "execution_count": 23,
      "outputs": [
        {
          "output_type": "execute_result",
          "data": {
            "text/plain": [
              "[<matplotlib.lines.Line2D at 0x7fc7651a5bd0>]"
            ]
          },
          "metadata": {},
          "execution_count": 23
        },
        {
          "output_type": "display_data",
          "data": {
            "text/plain": [
              "<Figure size 432x288 with 1 Axes>"
            ],
            "image/png": "[encoded data removed]"
          },
          "metadata": {
            "needs_background": "light"
          }
        }
      ]
    },
    {
      "cell_type": "markdown",
      "metadata": {
        "id": "YfmjqGbAXCCm"
      },
      "source": [
        "한글을 사용하려면 한글 폰트를 적용해야 한다. 나눔고딕 폰트를 설치하고 사용하는 방법은 다음과 같다.\n",
        "\n"
      ]
    },
    {
      "cell_type": "code",
      "metadata": {
        "colab": {
          "base_uri": "https://localhost:8080/"
        },
        "id": "VOsDPGdmX94_",
        "outputId": "3ad82154-36be-43b1-c38c-18098e0ea0e8"
      },
      "source": [
        "!apt-get update -qq\n",
        "!apt-get install fonts-nanum* -qq              # 나눔 폰트 설치\n",
        "\n",
        "sys_font=fm.findSystemFonts()\n",
        "print(f\"sys_font number: {len(sys_font)}\")\n",
        "print(sys_font)                                # 전체 폰트 개수\n",
        "\n",
        "nanum_font = [f for f in sys_font if 'Nanum' in f]\n",
        "print(f\"nanum_font number: {len(nanum_font)}\") # 나눔 폰트 개수 (설치된 것을 확인)\n",
        "#nanum_font"
      ],
      "execution_count": 33,
      "outputs": [
        {
          "output_type": "stream",
          "name": "stdout",
          "text": [
            "sys_font number: 48\n",
            "['/usr/share/fonts/truetype/nanum/NanumBarunGothicBold.ttf', '/usr/share/fonts/truetype/nanum/NanumGothicExtraBold.ttf', '/usr/share/fonts/truetype/liberation/LiberationSerif-BoldItalic.ttf', '/usr/share/fonts/truetype/nanum/NanumSquareRoundR.ttf', '/usr/share/fonts/truetype/nanum/NanumGothicEco.ttf', '/usr/share/fonts/truetype/nanum/NanumBarunpenB.ttf', '/usr/share/fonts/truetype/liberation/LiberationSerif-Regular.ttf', '/usr/share/fonts/truetype/nanum/NanumMyeongjoEcoExtraBold.ttf', '/usr/share/fonts/truetype/nanum/NanumGothic.ttf', '/usr/share/fonts/truetype/nanum/NanumBarunGothicLight.ttf', '/usr/share/fonts/truetype/nanum/NanumMyeongjoEco.ttf', '/usr/share/fonts/truetype/nanum/NanumMyeongjo.ttf', '/usr/share/fonts/truetype/nanum/NanumGothicEcoExtraBold.ttf', '/usr/share/fonts/truetype/nanum/NanumSquareR.ttf', '/usr/share/fonts/truetype/liberation/LiberationSans-Regular.ttf', '/usr/share/fonts/truetype/nanum/NanumGothicCoding-Bold.ttf', '/usr/share/fonts/truetype/nanum/NanumPen.ttf', '/usr/share/fonts/truetype/nanum/NanumGothicLight.ttf', '/usr/share/fonts/truetype/nanum/NanumSquareB.ttf', '/usr/share/fonts/truetype/liberation/LiberationSans-Bold.ttf', '/usr/share/fonts/truetype/nanum/NanumSquareRoundL.ttf', '/usr/share/fonts/truetype/nanum/NanumMyeongjoExtraBold.ttf', '/usr/share/fonts/truetype/nanum/NanumGothicEcoBold.ttf', '/usr/share/fonts/truetype/liberation/LiberationSansNarrow-Bold.ttf', '/usr/share/fonts/truetype/nanum/NanumBarunpenR.ttf', '/usr/share/fonts/truetype/liberation/LiberationSans-BoldItalic.ttf', '/usr/share/fonts/truetype/liberation/LiberationSansNarrow-Italic.ttf', '/usr/share/fonts/truetype/nanum/NanumBarunGothicUltraLight.ttf', '/usr/share/fonts/truetype/humor-sans/Humor-Sans.ttf', '/usr/share/fonts/truetype/liberation/LiberationSerif-Italic.ttf', '/usr/share/fonts/truetype/nanum/NanumMyeongjoBold.ttf', '/usr/share/fonts/truetype/liberation/LiberationSerif-Bold.ttf', '/usr/share/fonts/truetype/liberation/LiberationSansNarrow-BoldItalic.ttf', '/usr/share/fonts/truetype/nanum/NanumGothicBold.ttf', '/usr/share/fonts/truetype/nanum/NanumGothicCoding.ttf', '/usr/share/fonts/truetype/nanum/NanumSquareRoundB.ttf', '/usr/share/fonts/truetype/nanum/NanumBrush.ttf', '/usr/share/fonts/truetype/liberation/LiberationSans-Italic.ttf', '/usr/share/fonts/truetype/nanum/NanumBarunGothic.ttf', '/usr/share/fonts/truetype/liberation/LiberationMono-Bold.ttf', '/usr/share/fonts/truetype/nanum/NanumSquareEB.ttf', '/usr/share/fonts/truetype/liberation/LiberationMono-BoldItalic.ttf', '/usr/share/fonts/truetype/liberation/LiberationMono-Regular.ttf', '/usr/share/fonts/truetype/nanum/NanumSquareL.ttf', '/usr/share/fonts/truetype/liberation/LiberationSansNarrow-Regular.ttf', '/usr/share/fonts/truetype/nanum/NanumMyeongjoEcoBold.ttf', '/usr/share/fonts/truetype/liberation/LiberationMono-Italic.ttf', '/usr/share/fonts/truetype/nanum/NanumSquareRoundEB.ttf']\n",
            "nanum_font number: 31\n"
          ]
        }
      ]
    },
    {
      "cell_type": "code",
      "metadata": {
        "colab": {
          "base_uri": "https://localhost:8080/"
        },
        "id": "VsIzUKjnaR0n",
        "outputId": "d7d70e44-0e44-4ff4-cd4d-e112ddcb6627"
      },
      "source": [
        "# 폰트를 적용하기 위해서는 상단 메뉴 \"런타임> 런타임 다시 시작하기\" 후 import 코드부터 다시 실행해야 함 \n",
        "\n",
        "%matplotlib inline\n",
        "import matplotlib as mpl               # 기본 설정\n",
        "import matplotlib.pyplot as plt        # 그래프 관련\n",
        "import matplotlib.font_manager as fm   # 폰트 관련\n",
        "\n",
        "mpl.rcParams['axes.unicode_minus'] = False  ## 마이너스 부호가 깨지는 것 방지 \n",
        "\n",
        "# 설치된 나눔글꼴중 원하는 폰트의 전체 경로 가져오기 \n",
        "path = '/usr/share/fonts/truetype/nanum/NanumGothicEco.ttf'  \n",
        "font_name = fm.FontProperties(fname=path, size=10).get_name()\n",
        "print(font_name)\n",
        "\n",
        "plt.rc('font', family=font_name)"
      ],
      "execution_count": 35,
      "outputs": [
        {
          "output_type": "stream",
          "name": "stdout",
          "text": [
            "NanumGothic Eco\n"
          ]
        }
      ]
    },
    {
      "cell_type": "code",
      "metadata": {
        "colab": {
          "base_uri": "https://localhost:8080/",
          "height": 313
        },
        "id": "4kuJb1l0XBxH",
        "outputId": "5eb4a8e6-bc57-4ef9-c8fc-ec94a16ee65e"
      },
      "source": [
        "fm._rebuild()  # 폰트 적용\n",
        "\n",
        "x= [10, 20, 30, 40]\n",
        "y= [-10, 4, 9, 16]\n",
        "plt.title('제목')\n",
        "plt.xlabel('날짜')\n",
        "plt.ylabel('매출액')\n",
        "plt.plot(x, y, label='매출액')\n",
        "plt.legend()"
      ],
      "execution_count": 34,
      "outputs": [
        {
          "output_type": "execute_result",
          "data": {
            "text/plain": [
              "<matplotlib.legend.Legend at 0x7fc764835790>"
            ]
          },
          "metadata": {},
          "execution_count": 34
        },
        {
          "output_type": "display_data",
          "data": {
            "text/plain": [
              "<Figure size 432x288 with 1 Axes>"
            ],
            "image/png": "[encoded data removed]"
          },
          "metadata": {
            "needs_background": "light"
          }
        }
      ]
    },
    {
      "cell_type": "code",
      "source": [
        "# 산점도 출력( alpha = 1 완전 불투명, 0이면 완전 투명)\n",
        "plt.scatter(x, y, color=\"red\", alpha=0.5, label=\"scatter point\")\n",
        "\n",
        "plt.xlabel(\"X\")\n",
        "plt.ylabel(\"Y\")\n",
        "plt.legend(loc='upper left')\n",
        "plt.title('산점도')\n",
        "plt.show()"
      ],
      "metadata": {
        "colab": {
          "base_uri": "https://localhost:8080/",
          "height": 293
        },
        "id": "wc0Rn5Nzy0Ss",
        "outputId": "0e9d8063-0d18-463e-9be7-a9e0828d4206"
      },
      "execution_count": null,
      "outputs": [
        {
          "output_type": "display_data",
          "data": {
            "text/plain": [
              "<Figure size 432x288 with 1 Axes>"
            ],
            "image/png": "[encoded data removed]"
          },
          "metadata": {
            "needs_background": "light"
          }
        }
      ]
    },
    {
      "cell_type": "code",
      "metadata": {
        "colab": {
          "base_uri": "https://localhost:8080/",
          "height": 265
        },
        "id": "MAgXmVf2HqwH",
        "outputId": "2d167673-85e9-45e8-e0fb-96569f55ea2a"
      },
      "source": [
        "x= ['월', '화', '수', '목']\n",
        "y = [5, 3, 7, 10]\n",
        "plt.bar(x, y, width=0.7, color=\"blue\")\n",
        "plt.show()"
      ],
      "execution_count": null,
      "outputs": [
        {
          "output_type": "display_data",
          "data": {
            "text/plain": [
              "<Figure size 432x288 with 1 Axes>"
            ],
            "image/png": "[encoded data removed]"
          },
          "metadata": {
            "needs_background": "light"
          }
        }
      ]
    },
    {
      "cell_type": "code",
      "source": [
        "x = [34, 32, 16, 18]\n",
        "y = ['Apple', 'Banana', 'Melon', 'Grapes']\n",
        "\n",
        "plt.figure(figsize=(5,5))\n",
        "plt.pie(x, labels= y, autopct='%.1f%%')  #autopct: format for values\n",
        "plt.show()"
      ],
      "metadata": {
        "colab": {
          "base_uri": "https://localhost:8080/",
          "height": 303
        },
        "id": "ue5sxaX61Uya",
        "outputId": "80cea575-246c-4e9b-b1b6-7e0511081c1f"
      },
      "execution_count": null,
      "outputs": [
        {
          "output_type": "display_data",
          "data": {
            "text/plain": [
              "<Figure size 576x360 with 1 Axes>"
            ],
            "image/png": "[encoded data removed]"
          },
          "metadata": {}
        }
      ]
    },
    {
      "cell_type": "markdown",
      "metadata": {
        "id": "szN6I6pbEgmi"
      },
      "source": [
        "### 심화. NumPy\n",
        "NumPy(넘파이)는 대량의 데이터를 배열(array) 형식으로 빠르게 처리할 수 있도록 돕는다. 가장 널리 사용되는 데이터 타입은 다차원 배열 (n-dimensional array, ndarray)이다. \n",
        "\n",
        "- array() 함수는 리스트와 같은 다양한 형식의 데이터를 입력 받아서 ndarray 로 변환시켜 준다.  \n",
        "- ndarray 내의 데이터값은 integer, float, string, boolean 모두 가능한데, 배열 연산을 위해서는 하나의 ndarray 내 같은 데이터 타입만 포함되어 있어야 한다. "
      ]
    },
    {
      "cell_type": "code",
      "metadata": {
        "uuid": "e2b8e959-75f0-4fa9-a878-5ab024f89223",
        "id": "X1W48tw7Egmi"
      },
      "source": [
        "## 넘파이 패키지 가져오기, as를 사용하여 약어 지정\n",
        "import numpy as np  "
      ],
      "execution_count": null,
      "outputs": []
    },
    {
      "cell_type": "code",
      "metadata": {
        "id": "eJG36WMKUw6h",
        "colab": {
          "base_uri": "https://localhost:8080/"
        },
        "outputId": "399cfd99-93aa-4055-e47c-3a425d49793a"
      },
      "source": [
        "list0=[[1, 2, 3, 4], [4, 5, 6, 7]]\n",
        "print(list0)\n",
        "print(type(list0))\n",
        "\n",
        "array0 = np.array([[1, 2, 3, 4], [4, 5, 6, 7]])\n",
        "print(array0)\n",
        "print(type(array0))   #데이터 타입\n",
        "print(array0.dtype)   #darray내의 데이터 타입\n",
        "print(array0.shape)   #ndarray의 크기 (행과 열의 수, 차원과 크기)\n",
        "print(array0.ndim)    #차원"
      ],
      "execution_count": null,
      "outputs": [
        {
          "output_type": "stream",
          "name": "stdout",
          "text": [
            "[[1, 2, 3, 4], [4, 5, 6, 7]]\n",
            "<class 'list'>\n",
            "[[1 2 3 4]\n",
            " [4 5 6 7]]\n",
            "<class 'numpy.ndarray'>\n",
            "int64\n",
            "(2, 4)\n",
            "2\n"
          ]
        }
      ]
    },
    {
      "cell_type": "code",
      "metadata": {
        "colab": {
          "base_uri": "https://localhost:8080/"
        },
        "id": "TL4VrC6p0ZLk",
        "outputId": "1bc09c39-d1ba-4544-c915-f8818ba5cd33"
      },
      "source": [
        "# array 초기화 방법\n",
        "array1 = np.arange(10)\n",
        "array2 = np.zeros((3,2))\n",
        "array3 = np.ones((2,4))\n",
        "print(array1)\n",
        "print(array2)\n",
        "print(array3)"
      ],
      "execution_count": null,
      "outputs": [
        {
          "output_type": "stream",
          "name": "stdout",
          "text": [
            "[0 1 2 3 4 5 6 7 8 9]\n",
            "[[0. 0.]\n",
            " [0. 0.]\n",
            " [0. 0.]]\n",
            "[[1. 1. 1. 1.]\n",
            " [1. 1. 1. 1.]]\n"
          ]
        }
      ]
    },
    {
      "cell_type": "code",
      "metadata": {
        "colab": {
          "base_uri": "https://localhost:8080/"
        },
        "id": "cGbPbtwM6QaD",
        "outputId": "12a96dca-8b1c-4a3c-ae9b-3a7c47fb6db6"
      },
      "source": [
        "array1d = array1.reshape(2,5)\n",
        "print(array1d)\n",
        "print('(row=1,col=2) 인덱스가 가리키는 값:', array1d[1,2] ) #시작점은 0\n",
        "print('(row=0:2,col=3:) 인덱스가 가리키는 값:\\n', array1d[0:2, 3:])\n",
        "\n",
        "print(array1 + array1)   #array 연산 \n",
        "print(array1 % 2 == 0)   #조건\n",
        "print(array1[array1 % 2 == 0])"
      ],
      "execution_count": null,
      "outputs": [
        {
          "output_type": "stream",
          "name": "stdout",
          "text": [
            "[[0 1 2 3 4]\n",
            " [5 6 7 8 9]]\n",
            "(row=1,col=2) 인덱스가 가리키는 값: 7\n",
            "(row=0:2,col=3:) 인덱스가 가리키는 값:\n",
            " [[3 4]\n",
            " [8 9]]\n",
            "[ 0  2  4  6  8 10 12 14 16 18]\n",
            "[ True False  True False  True False  True False  True False]\n",
            "[0 2 4 6 8]\n"
          ]
        }
      ]
    },
    {
      "cell_type": "markdown",
      "metadata": {
        "id": "gl3CLPPsBpN9"
      },
      "source": [
        "random 서브패키지를 이용하여 다양한 난수를 만들수 있다. \n",
        "- rand: 0부터 1사이의 균일 분포의 난수\n",
        "- randint: 균일 분포의 정수 난수\n",
        "- randn: 평균 0, 분산이 1인 정규분포의 난수"
      ]
    },
    {
      "cell_type": "code",
      "metadata": {
        "id": "1RbTlkUyylKm",
        "colab": {
          "base_uri": "https://localhost:8080/"
        },
        "outputId": "0cf9c106-f029-4e0e-802d-81e20c804ae3"
      },
      "source": [
        "# 0.0부터 1.0 미만 사이에서 3 개의 실수 난수 생성\n",
        "rd_float = np.random.rand(3) \n",
        "print(rd_float)\n",
        "\n",
        "# 0.0부터 1.0 미만 사이의 실수 난수로 2x3 크기의 행렬 생성\n",
        "rd_float = np.random.rand(2, 3) \n",
        "print(rd_float)\n",
        "\n",
        "# 0부터 11 미만 사이에서 3 개의 정수 난수 생성\n",
        "rd_int = np.random.randint(0, 11, 3) \n",
        "print(rd_int)\n",
        "\n",
        "# 0부터 11 미만 사이의 정수 난수로 2x3 크기의 행렬 생성\n",
        "rd_int = np.random.randint(0, 11, (2,3)) \n",
        "print(rd_int)"
      ],
      "execution_count": null,
      "outputs": [
        {
          "output_type": "stream",
          "name": "stdout",
          "text": [
            "[0.906126   0.68559735 0.8819173 ]\n",
            "[[0.49137009 0.17040144 0.18680503]\n",
            " [0.25889288 0.72401854 0.20090681]]\n",
            "[6 6 3]\n",
            "[[ 1  1 10]\n",
            " [ 1  3  6]]\n"
          ]
        }
      ]
    },
    {
      "cell_type": "code",
      "metadata": {
        "id": "FbamDtUWEgmq",
        "colab": {
          "base_uri": "https://localhost:8080/",
          "height": 379
        },
        "outputId": "974dcf1f-6128-439e-8203-714b4daf791d"
      },
      "source": [
        "x = np.arange(0, 100, 10)  # arange를 이용하여 array 데이터 생성\n",
        "print(x)\n",
        "\n",
        "np.random.seed(19920613)  # 난수 생성시 시작값(시드값)을 설정해 주면 항상 동일한 난수 생성\n",
        "\n",
        "y = (x * 1.5) + np.random.rand(10) * 50  # 0부터 1미만 사이의 난수 10개 생성 후 계산\n",
        "print(np.random.rand(10))\n",
        "print(y)\n",
        "\n",
        "# 산점도 출력( alpha = 1 완전 불투명, 0이면 완전 투명)\n",
        "plt.scatter(x, y, color=\"red\", alpha=0.5, label=\"scatter point\")\n",
        "\n",
        "plt.xlabel(\"X\")\n",
        "plt.ylabel(\"Y\")\n",
        "plt.legend(loc='upper left')\n",
        "plt.title('산점도')\n",
        "plt.show()"
      ],
      "execution_count": null,
      "outputs": [
        {
          "output_type": "stream",
          "name": "stdout",
          "text": [
            "[ 0 10 20 30 40 50 60 70 80 90]\n",
            "[0.86391076 0.25231331 0.32005072 0.14382905 0.10261349 0.5543455\n",
            " 0.36782123 0.20267666 0.42673862 0.8792818 ]\n",
            "[ 22.33016318  48.03211002  63.11940813  62.44731361  75.45412115\n",
            "  88.62343686 107.78894122 147.12822661 143.56405525 147.92060763]\n"
          ]
        },
        {
          "output_type": "display_data",
          "data": {
            "text/plain": [
              "<Figure size 432x288 with 1 Axes>"
            ],
            "image/png": "[encoded data removed]"
          },
          "metadata": {
            "needs_background": "light"
          }
        }
      ]
    },
    {
      "cell_type": "markdown",
      "metadata": {
        "id": "YXmrqE4WEgmk"
      },
      "source": [
        "### 심화. SciPy\n",
        "SciPy(싸이파이)는 과학계산 라이브러리, 신호처리 함수 등을 제공한다. \n",
        "- 희소 행렬(sparse matrix) 을 다루는 함수도 제공한다. 여기서 행렬(matrix)은 보통 2차원 배열을 의미한다. \n"
      ]
    },
    {
      "cell_type": "code",
      "metadata": {
        "id": "2DO32baGEgmk",
        "colab": {
          "base_uri": "https://localhost:8080/"
        },
        "outputId": "a0e10dae-b37b-4a5e-ea47-9cb585d9d800"
      },
      "source": [
        "#from import 구문을 사용하면 sparse 함수만 import (scipy 이름을 앞에 붙이지 않고 사용 가능)\n",
        "from scipy import sparse\n",
        "\n",
        "# 대각선만 1.0, 나머지는 0.0으로 구성되는 배열 생성\n",
        "eye = np.eye(5)\n",
        "print(\"NumPy array:\\n{}\".format(eye))"
      ],
      "execution_count": null,
      "outputs": [
        {
          "output_type": "stream",
          "text": [
            "NumPy array:\n",
            "[[1. 0. 0. 0. 0.]\n",
            " [0. 1. 0. 0. 0.]\n",
            " [0. 0. 1. 0. 0.]\n",
            " [0. 0. 0. 1. 0.]\n",
            " [0. 0. 0. 0. 1.]]\n"
          ],
          "name": "stdout"
        }
      ]
    },
    {
      "cell_type": "markdown",
      "metadata": {
        "id": "VZ5vbf-rEgml"
      },
      "source": [
        "- NumPy 배열을 SciPy 희소 행렬의 CSR (Compressed Sparse Column ) 형식으로 변환하는 방법 \n",
        "- 0이 아닌 값이 있는 항목만 저장함으로써 메모리 사용을 줄인다. \n"
      ]
    },
    {
      "cell_type": "code",
      "metadata": {
        "scrolled": true,
        "id": "mi45TxwGEgml",
        "colab": {
          "base_uri": "https://localhost:8080/"
        },
        "outputId": "33c3469a-9d84-42a2-b567-891f7c28b5ef"
      },
      "source": [
        "sparse_matrix = sparse.csr_matrix(eye) \n",
        "print(\"SciPy sparse CSR matrix:\\n{}\".format(sparse_matrix))"
      ],
      "execution_count": null,
      "outputs": [
        {
          "output_type": "stream",
          "text": [
            "SciPy sparse CSR matrix:\n",
            "  (0, 0)\t1.0\n",
            "  (1, 1)\t1.0\n",
            "  (2, 2)\t1.0\n",
            "  (3, 3)\t1.0\n",
            "  (4, 4)\t1.0\n"
          ],
          "name": "stdout"
        }
      ]
    },
    {
      "cell_type": "markdown",
      "metadata": {
        "id": "UsBTN2-OkALh"
      },
      "source": [
        "## 데이터 탐색\n",
        "\n",
        "멕시코풍 프렌차이즈 chipotle(치폴레) 음식점의 주문 데이터를 분석해 보자. \n",
        "\n",
        "- CSV 형식의 화일 데이터를 가져와서 분석에 적합한 형태로 정제 후 시각화 과정을 통해 데이터 탐색\n",
        "- chipotle.csv 화일을 다운로드 받아 Google Drive의 My Drive/Colab Notebooks/ITB 폴더에 올리기 \n",
        "- 분석에 사용할 데이터 정보\n",
        "  * order_id: 주문 번호  \n",
        "  * quantity: 주문 갯수  \n",
        "  * item_name: 음식 이름  \n",
        "  * choice_description : 선택 옵션 (소스 등)  \n",
        "  * item_price : 음식 가격  \n",
        "- 분석하고자 하는 내용 \n",
        "  * 가장 인기 있는 메뉴 Top10 은?\n",
        "  * 메뉴별 주문량은? \n",
        "  * 메뉴별 가격은? 가장 비싼 메뉴는?\n"
      ]
    },
    {
      "cell_type": "markdown",
      "metadata": {
        "id": "IJbccec6NZEa"
      },
      "source": [
        "구글 드라이브의 화일을 이용하기 위해서는 아래 코드를 실행시켜 구글 드라이브와 연동시켜야 한다. \n",
        "\n",
        "- 코드를 실행시켜 아래 링크를 클릭한 후, 구글 계정을 선택, 허용을 누르면 코드가 뜨게 된다.  \n",
        "![colab_file0.png](data:image/png;base64,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)\n",
        "- 이 코드를 복사하여 애플리케이션으로 전환한 다음 붙여넣으면 된다. 해당 코드를 그대로 복사하여 \"Enter your authorization code\" 부분에 붙여넣고 enter를 눌러주세요.  \n",
        "![colab_file.png](data:image/png;base64,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)"
      ]
    },
    {
      "cell_type": "code",
      "source": [
        "from google.colab import drive\n",
        "drive.mount('/content/drive')"
      ],
      "metadata": {
        "colab": {
          "base_uri": "https://localhost:8080/"
        },
        "id": "9pfKFouY6mt7",
        "outputId": "9d513113-433e-4ecb-bcfc-d2873c3f1837"
      },
      "execution_count": 39,
      "outputs": [
        {
          "output_type": "stream",
          "name": "stdout",
          "text": [
            "Drive already mounted at /content/drive; to attempt to forcibly remount, call drive.mount(\"/content/drive\", force_remount=True).\n"
          ]
        }
      ]
    },
    {
      "cell_type": "code",
      "metadata": {
        "colab": {
          "base_uri": "https://localhost:8080/",
          "height": 599
        },
        "id": "tGp25NiFl-M0",
        "outputId": "caccd094-4f43-4891-a593-e885493bb248"
      },
      "source": [
        "import pandas as pd\n",
        "\n",
        "# csv 데이터 가져오기\n",
        "chipo = pd.read_csv(\"/content/drive/My Drive/Colab Notebooks/ITB/chipotle.csv\")\n",
        "\n",
        "display(chipo.head(10)) # 처음 10행 확인\n",
        "print(chipo.info())     # 4622행의 데이터, choice_description은 3,376행 (1,246개 결측치, NaN)  "
      ],
      "execution_count": 42,
      "outputs": [
        {
          "output_type": "display_data",
          "data": {
            "text/plain": [
              "   order_id  quantity                              item_name  \\\n",
              "0         1         1           Chips and Fresh Tomato Salsa   \n",
              "1         1         1                                   Izze   \n",
              "2         1         1                       Nantucket Nectar   \n",
              "3         1         1  Chips and Tomatillo-Green Chili Salsa   \n",
              "4         2         2                           Chicken Bowl   \n",
              "5         3         1                           Chicken Bowl   \n",
              "6         3         1                          Side of Chips   \n",
              "7         4         1                          Steak Burrito   \n",
              "8         4         1                       Steak Soft Tacos   \n",
              "9         5         1                          Steak Burrito   \n",
              "\n",
              "                                  choice_description item_price  \n",
              "0                                                NaN     $2.39   \n",
              "1                                       [Clementine]     $3.39   \n",
              "2                                            [Apple]     $3.39   \n",
              "3                                                NaN     $2.39   \n",
              "4  [Tomatillo-Red Chili Salsa (Hot), [Black Beans...    $16.98   \n",
              "5  [Fresh Tomato Salsa (Mild), [Rice, Cheese, Sou...    $10.98   \n",
              "6                                                NaN     $1.69   \n",
              "7  [Tomatillo Red Chili Salsa, [Fajita Vegetables...    $11.75   \n",
              "8  [Tomatillo Green Chili Salsa, [Pinto Beans, Ch...     $9.25   \n",
              "9  [Fresh Tomato Salsa, [Rice, Black Beans, Pinto...     $9.25   "
            ],
            "text/html": [
              "\n",
              "  <div id=\"df-1eedf65b-505e-4278-85b7-802685fdfe55\">\n",
              "    <div class=\"colab-df-container\">\n",
              "      <div>\n",
              "<style scoped>\n",
              "    .dataframe tbody tr th:only-of-type {\n",
              "        vertical-align: middle;\n",
              "    }\n",
              "\n",
              "    .dataframe tbody tr th {\n",
              "        vertical-align: top;\n",
              "    }\n",
              "\n",
              "    .dataframe thead th {\n",
              "        text-align: right;\n",
              "    }\n",
              "</style>\n",
              "<table border=\"1\" class=\"dataframe\">\n",
              "  <thead>\n",
              "    <tr style=\"text-align: right;\">\n",
              "      <th></th>\n",
              "      <th>order_id</th>\n",
              "      <th>quantity</th>\n",
              "      <th>item_name</th>\n",
              "      <th>choice_description</th>\n",
              "      <th>item_price</th>\n",
              "    </tr>\n",
              "  </thead>\n",
              "  <tbody>\n",
              "    <tr>\n",
              "      <th>0</th>\n",
              "      <td>1</td>\n",
              "      <td>1</td>\n",
              "      <td>Chips and Fresh Tomato Salsa</td>\n",
              "      <td>NaN</td>\n",
              "      <td>$2.39</td>\n",
              "    </tr>\n",
              "    <tr>\n",
              "      <th>1</th>\n",
              "      <td>1</td>\n",
              "      <td>1</td>\n",
              "      <td>Izze</td>\n",
              "      <td>[Clementine]</td>\n",
              "      <td>$3.39</td>\n",
              "    </tr>\n",
              "    <tr>\n",
              "      <th>2</th>\n",
              "      <td>1</td>\n",
              "      <td>1</td>\n",
              "      <td>Nantucket Nectar</td>\n",
              "      <td>[Apple]</td>\n",
              "      <td>$3.39</td>\n",
              "    </tr>\n",
              "    <tr>\n",
              "      <th>3</th>\n",
              "      <td>1</td>\n",
              "      <td>1</td>\n",
              "      <td>Chips and Tomatillo-Green Chili Salsa</td>\n",
              "      <td>NaN</td>\n",
              "      <td>$2.39</td>\n",
              "    </tr>\n",
              "    <tr>\n",
              "      <th>4</th>\n",
              "      <td>2</td>\n",
              "      <td>2</td>\n",
              "      <td>Chicken Bowl</td>\n",
              "      <td>[Tomatillo-Red Chili Salsa (Hot), [Black Beans...</td>\n",
              "      <td>$16.98</td>\n",
              "    </tr>\n",
              "    <tr>\n",
              "      <th>5</th>\n",
              "      <td>3</td>\n",
              "      <td>1</td>\n",
              "      <td>Chicken Bowl</td>\n",
              "      <td>[Fresh Tomato Salsa (Mild), [Rice, Cheese, Sou...</td>\n",
              "      <td>$10.98</td>\n",
              "    </tr>\n",
              "    <tr>\n",
              "      <th>6</th>\n",
              "      <td>3</td>\n",
              "      <td>1</td>\n",
              "      <td>Side of Chips</td>\n",
              "      <td>NaN</td>\n",
              "      <td>$1.69</td>\n",
              "    </tr>\n",
              "    <tr>\n",
              "      <th>7</th>\n",
              "      <td>4</td>\n",
              "      <td>1</td>\n",
              "      <td>Steak Burrito</td>\n",
              "      <td>[Tomatillo Red Chili Salsa, [Fajita Vegetables...</td>\n",
              "      <td>$11.75</td>\n",
              "    </tr>\n",
              "    <tr>\n",
              "      <th>8</th>\n",
              "      <td>4</td>\n",
              "      <td>1</td>\n",
              "      <td>Steak Soft Tacos</td>\n",
              "      <td>[Tomatillo Green Chili Salsa, [Pinto Beans, Ch...</td>\n",
              "      <td>$9.25</td>\n",
              "    </tr>\n",
              "    <tr>\n",
              "      <th>9</th>\n",
              "      <td>5</td>\n",
              "      <td>1</td>\n",
              "      <td>Steak Burrito</td>\n",
              "      <td>[Fresh Tomato Salsa, [Rice, Black Beans, Pinto...</td>\n",
              "      <td>$9.25</td>\n",
              "    </tr>\n",
              "  </tbody>\n",
              "</table>\n",
              "</div>\n",
              "      <button class=\"colab-df-convert\" onclick=\"convertToInteractive('df-1eedf65b-505e-4278-85b7-802685fdfe55')\"\n",
              "              title=\"Convert this dataframe to an interactive table.\"\n",
              "              style=\"display:none;\">\n",
              "        \n",
              "  <svg xmlns=\"http://www.w3.org/2000/svg\" height=\"24px\"viewBox=\"0 0 24 24\"\n",
              "       width=\"24px\">\n",
              "    <path d=\"M0 0h24v24H0V0z\" fill=\"none\"/>\n",
              "    <path d=\"M18.56 5.44l.94 2.06.94-2.06 2.06-.94-2.06-.94-.94-2.06-.94 2.06-2.06.94zm-11 1L8.5 8.5l.94-2.06 2.06-.94-2.06-.94L8.5 2.5l-.94 2.06-2.06.94zm10 10l.94 2.06.94-2.06 2.06-.94-2.06-.94-.94-2.06-.94 2.06-2.06.94z\"/><path d=\"M17.41 7.96l-1.37-1.37c-.4-.4-.92-.59-1.43-.59-.52 0-1.04.2-1.43.59L10.3 9.45l-7.72 7.72c-.78.78-.78 2.05 0 2.83L4 21.41c.39.39.9.59 1.41.59.51 0 1.02-.2 1.41-.59l7.78-7.78 2.81-2.81c.8-.78.8-2.07 0-2.86zM5.41 20L4 18.59l7.72-7.72 1.47 1.35L5.41 20z\"/>\n",
              "  </svg>\n",
              "      </button>\n",
              "      \n",
              "  <style>\n",
              "    .colab-df-container {\n",
              "      display:flex;\n",
              "      flex-wrap:wrap;\n",
              "      gap: 12px;\n",
              "    }\n",
              "\n",
              "    .colab-df-convert {\n",
              "      background-color: #E8F0FE;\n",
              "      border: none;\n",
              "      border-radius: 50%;\n",
              "      cursor: pointer;\n",
              "      display: none;\n",
              "      fill: #1967D2;\n",
              "      height: 32px;\n",
              "      padding: 0 0 0 0;\n",
              "      width: 32px;\n",
              "    }\n",
              "\n",
              "    .colab-df-convert:hover {\n",
              "      background-color: #E2EBFA;\n",
              "      box-shadow: 0px 1px 2px rgba(60, 64, 67, 0.3), 0px 1px 3px 1px rgba(60, 64, 67, 0.15);\n",
              "      fill: #174EA6;\n",
              "    }\n",
              "\n",
              "    [theme=dark] .colab-df-convert {\n",
              "      background-color: #3B4455;\n",
              "      fill: #D2E3FC;\n",
              "    }\n",
              "\n",
              "    [theme=dark] .colab-df-convert:hover {\n",
              "      background-color: #434B5C;\n",
              "      box-shadow: 0px 1px 3px 1px rgba(0, 0, 0, 0.15);\n",
              "      filter: drop-shadow(0px 1px 2px rgba(0, 0, 0, 0.3));\n",
              "      fill: #FFFFFF;\n",
              "    }\n",
              "  </style>\n",
              "\n",
              "      <script>\n",
              "        const buttonEl =\n",
              "          document.querySelector('#df-1eedf65b-505e-4278-85b7-802685fdfe55 button.colab-df-convert');\n",
              "        buttonEl.style.display =\n",
              "          google.colab.kernel.accessAllowed ? 'block' : 'none';\n",
              "\n",
              "        async function convertToInteractive(key) {\n",
              "          const element = document.querySelector('#df-1eedf65b-505e-4278-85b7-802685fdfe55');\n",
              "          const dataTable =\n",
              "            await google.colab.kernel.invokeFunction('convertToInteractive',\n",
              "                                                     [key], {});\n",
              "          if (!dataTable) return;\n",
              "\n",
              "          const docLinkHtml = 'Like what you see? Visit the ' +\n",
              "            '<a target=\"_blank\" href=https://colab.research.google.com/notebooks/data_table.ipynb>data table notebook</a>'\n",
              "            + ' to learn more about interactive tables.';\n",
              "          element.innerHTML = '';\n",
              "          dataTable['output_type'] = 'display_data';\n",
              "          await google.colab.output.renderOutput(dataTable, element);\n",
              "          const docLink = document.createElement('div');\n",
              "          docLink.innerHTML = docLinkHtml;\n",
              "          element.appendChild(docLink);\n",
              "        }\n",
              "      </script>\n",
              "    </div>\n",
              "  </div>\n",
              "  "
            ]
          },
          "metadata": {}
        },
        {
          "output_type": "stream",
          "name": "stdout",
          "text": [
            "<class 'pandas.core.frame.DataFrame'>\n",
            "RangeIndex: 4622 entries, 0 to 4621\n",
            "Data columns (total 5 columns):\n",
            " #   Column              Non-Null Count  Dtype \n",
            "---  ------              --------------  ----- \n",
            " 0   order_id            4622 non-null   int64 \n",
            " 1   quantity            4622 non-null   int64 \n",
            " 2   item_name           4622 non-null   object\n",
            " 3   choice_description  3376 non-null   object\n",
            " 4   item_price          4622 non-null   object\n",
            "dtypes: int64(2), object(3)\n",
            "memory usage: 180.7+ KB\n",
            "None\n"
          ]
        }
      ]
    },
    {
      "cell_type": "markdown",
      "metadata": {
        "id": "6Sp0xRQMQ5cg"
      },
      "source": [
        "###1.기술통계 정보 살펴보기 \n"
      ]
    },
    {
      "cell_type": "code",
      "metadata": {
        "colab": {
          "base_uri": "https://localhost:8080/"
        },
        "id": "D3CfOn_5YS5w",
        "outputId": "06fb09f7-7257-448b-b5fc-fa36d0f7a847"
      },
      "source": [
        "# order_id 는 숫자로 계산할 필요가 없는 값이므로 문자로 변환\n",
        "chipo['order_id'] = chipo['order_id'].astype(str)  \n",
        "\n",
        "# 모든 수치 데이터의 기초 통계량 보여주기\n",
        "print(chipo.describe())   # 평균적으로 1.07개 주문\n",
        "\n",
        "print('총 주문 개수:', len(chipo['order_id'].unique()))    # unique: 고유값\n",
        "print('주문 받은 음식의 종류: ', len(chipo['item_name'].unique()))"
      ],
      "execution_count": 43,
      "outputs": [
        {
          "output_type": "stream",
          "name": "stdout",
          "text": [
            "          quantity\n",
            "count  4622.000000\n",
            "mean      1.075725\n",
            "std       0.410186\n",
            "min       1.000000\n",
            "25%       1.000000\n",
            "50%       1.000000\n",
            "75%       1.000000\n",
            "max      15.000000\n",
            "총 주문 개수: 1834\n",
            "주문 받은 음식의 종류:  50\n"
          ]
        }
      ]
    },
    {
      "cell_type": "markdown",
      "metadata": {
        "id": "XNiAB-IRRCeQ"
      },
      "source": [
        "###2.데이터 탐색과 시각화"
      ]
    },
    {
      "cell_type": "code",
      "metadata": {
        "colab": {
          "base_uri": "https://localhost:8080/"
        },
        "id": "iwKC8Z7LterT",
        "outputId": "e6128b86-8d4f-4f3e-8ce8-c8e11255c6ed"
      },
      "source": [
        "# 주문 횟수가 많은 음식 TOP 10 보여주기\n",
        "# value_counts 함수는 값이 발생하는 빈도를 높은 순으로 보여줌\n",
        "# NaN 값이 있다면 NaN은 가장 마지막에 보여줌\n",
        "\n",
        "item_count = chipo['item_name'].value_counts()\n",
        "print(item_count[:10]) \n",
        "\n",
        "#Chicken Bowl이 가장 인기가 많음"
      ],
      "execution_count": 44,
      "outputs": [
        {
          "output_type": "stream",
          "name": "stdout",
          "text": [
            "Chicken Bowl                    726\n",
            "Chicken Burrito                 553\n",
            "Chips and Guacamole             479\n",
            "Steak Burrito                   368\n",
            "Canned Soft Drink               301\n",
            "Steak Bowl                      211\n",
            "Chips                           211\n",
            "Bottled Water                   162\n",
            "Chicken Soft Tacos              115\n",
            "Chips and Fresh Tomato Salsa    110\n",
            "Name: item_name, dtype: int64\n"
          ]
        }
      ]
    },
    {
      "cell_type": "code",
      "source": [
        "item_count[:10].plot.bar(rot=45)"
      ],
      "metadata": {
        "colab": {
          "base_uri": "https://localhost:8080/",
          "height": 385
        },
        "id": "6RZSCKH-4xtO",
        "outputId": "f856e591-be53-4e69-d4dc-4373f7d82524"
      },
      "execution_count": 45,
      "outputs": [
        {
          "output_type": "execute_result",
          "data": {
            "text/plain": [
              "<matplotlib.axes._subplots.AxesSubplot at 0x7fc7645bc210>"
            ]
          },
          "metadata": {},
          "execution_count": 45
        },
        {
          "output_type": "display_data",
          "data": {
            "text/plain": [
              "<Figure size 432x288 with 1 Axes>"
            ],
            "image/png": "[encoded data removed]"
          },
          "metadata": {
            "needs_background": "light"
          }
        }
      ]
    },
    {
      "cell_type": "code",
      "source": [
        "item_count[:10].plot(kind='bar', rot=45, color='g')    # kind = 'bar', 'line', 'pie' 등 "
      ],
      "metadata": {
        "colab": {
          "base_uri": "https://localhost:8080/",
          "height": 385
        },
        "id": "PkWEscnW7Zgo",
        "outputId": "427c9851-3988-47aa-ec8c-0746f290ff4e"
      },
      "execution_count": 46,
      "outputs": [
        {
          "output_type": "execute_result",
          "data": {
            "text/plain": [
              "<matplotlib.axes._subplots.AxesSubplot at 0x7fc7645f6810>"
            ]
          },
          "metadata": {},
          "execution_count": 46
        },
        {
          "output_type": "display_data",
          "data": {
            "text/plain": [
              "<Figure size 432x288 with 1 Axes>"
            ],
            "image/png": "[encoded data removed]"
          },
          "metadata": {
            "needs_background": "light"
          }
        }
      ]
    },
    {
      "cell_type": "code",
      "source": [
        "%matplotlib inline\n",
        "import matplotlib.pyplot as plt        # 그래프 관련\n",
        "\n",
        "x = item_count[:10].index.tolist()\n",
        "y = item_count[:10].values.tolist()\n",
        " \n",
        "plt.bar(x, y, align='center')\n",
        "plt.ylabel('number of orders')\n",
        "plt.title('Distribution of  TOP 10 orderd items (number of orders)')\n",
        "plt.xticks(rotation=45) \n",
        "plt.show()"
      ],
      "metadata": {
        "colab": {
          "base_uri": "https://localhost:8080/",
          "height": 383
        },
        "id": "1G6KwAg8-GS9",
        "outputId": "b4687d53-f23e-45ff-f651-e850dbb928ad"
      },
      "execution_count": 47,
      "outputs": [
        {
          "output_type": "display_data",
          "data": {
            "text/plain": [
              "<Figure size 432x288 with 1 Axes>"
            ],
            "image/png": "[encoded data removed]"
          },
          "metadata": {
            "needs_background": "light"
          }
        }
      ]
    },
    {
      "cell_type": "code",
      "metadata": {
        "colab": {
          "base_uri": "https://localhost:8080/"
        },
        "id": "C2goPb-G_fWB",
        "outputId": "19f6e5a4-0b3d-4415-a5fe-824863328813"
      },
      "source": [
        "# 주문량이 가장 많은 TOP5 음식 보여주기 \n",
        "order_quantity = chipo.groupby('item_name')['quantity'].sum()\n",
        "order_sorted = order_quantity.sort_values(ascending=False)[:5]\n",
        "print(order_sorted)"
      ],
      "execution_count": 48,
      "outputs": [
        {
          "output_type": "stream",
          "name": "stdout",
          "text": [
            "item_name\n",
            "Chicken Bowl           761\n",
            "Chicken Burrito        591\n",
            "Chips and Guacamole    506\n",
            "Steak Burrito          386\n",
            "Canned Soft Drink      351\n",
            "Name: quantity, dtype: int64\n"
          ]
        }
      ]
    },
    {
      "cell_type": "code",
      "metadata": {
        "colab": {
          "base_uri": "https://localhost:8080/",
          "height": 356
        },
        "id": "SsMxdh-CD3pw",
        "outputId": "423ff59f-4e76-473e-8b89-580e0d0e4e29"
      },
      "source": [
        "item_list = order_sorted.index.tolist()\n",
        "item_qty = order_sorted.values.tolist()\n",
        " \n",
        "plt.bar(item_list, item_qty, align='center')\n",
        "plt.ylabel('ordered_item_quantity')\n",
        "plt.title('Distribution of TOP 5 orderd items (quantity)')\n",
        "plt.xticks(rotation=45) \n",
        "plt.show()"
      ],
      "execution_count": 49,
      "outputs": [
        {
          "output_type": "display_data",
          "data": {
            "text/plain": [
              "<Figure size 432x288 with 1 Axes>"
            ],
            "image/png": "[encoded data removed]"
          },
          "metadata": {
            "needs_background": "light"
          }
        }
      ]
    },
    {
      "cell_type": "markdown",
      "metadata": {
        "id": "Iu9aVzFgRIFA"
      },
      "source": [
        "### 3.데이터 전처리"
      ]
    },
    {
      "cell_type": "code",
      "metadata": {
        "colab": {
          "base_uri": "https://localhost:8080/",
          "height": 518
        },
        "id": "4-YWRWRqHXrz",
        "outputId": "fe732600-7427-4775-9985-b5ee374ae2f7"
      },
      "source": [
        "# 가격 데이터를 이용하여 수치 계산을 하기 위해서는 숫자로 변환시켜야 한다.\n",
        "# apply와 lambda 함수를 이용하여 \n",
        "# item_price의 첫번째 문자인 $f를 삭제하고 실수로 변환시켜 보자. \n",
        "\n",
        "display(chipo['item_price'].head())\n",
        "chipo['item_price'] = chipo['item_price'].apply(lambda x: float(x[1:]))\n",
        "\n",
        "display(chipo['item_price'].head())\n",
        "chipo.describe()\n",
        "\n",
        "# 평균 음식 가격이 7.46 달러임"
      ],
      "execution_count": 50,
      "outputs": [
        {
          "output_type": "display_data",
          "data": {
            "text/plain": [
              "0     $2.39 \n",
              "1     $3.39 \n",
              "2     $3.39 \n",
              "3     $2.39 \n",
              "4    $16.98 \n",
              "Name: item_price, dtype: object"
            ]
          },
          "metadata": {}
        },
        {
          "output_type": "display_data",
          "data": {
            "text/plain": [
              "0     2.39\n",
              "1     3.39\n",
              "2     3.39\n",
              "3     2.39\n",
              "4    16.98\n",
              "Name: item_price, dtype: float64"
            ]
          },
          "metadata": {}
        },
        {
          "output_type": "execute_result",
          "data": {
            "text/plain": [
              "          quantity   item_price\n",
              "count  4622.000000  4622.000000\n",
              "mean      1.075725     7.464336\n",
              "std       0.410186     4.245557\n",
              "min       1.000000     1.090000\n",
              "25%       1.000000     3.390000\n",
              "50%       1.000000     8.750000\n",
              "75%       1.000000     9.250000\n",
              "max      15.000000    44.250000"
            ],
            "text/html": [
              "\n",
              "  <div id=\"df-1c62fbb5-45fb-48dc-ab58-f0f37f26c3d5\">\n",
              "    <div class=\"colab-df-container\">\n",
              "      <div>\n",
              "<style scoped>\n",
              "    .dataframe tbody tr th:only-of-type {\n",
              "        vertical-align: middle;\n",
              "    }\n",
              "\n",
              "    .dataframe tbody tr th {\n",
              "        vertical-align: top;\n",
              "    }\n",
              "\n",
              "    .dataframe thead th {\n",
              "        text-align: right;\n",
              "    }\n",
              "</style>\n",
              "<table border=\"1\" class=\"dataframe\">\n",
              "  <thead>\n",
              "    <tr style=\"text-align: right;\">\n",
              "      <th></th>\n",
              "      <th>quantity</th>\n",
              "      <th>item_price</th>\n",
              "    </tr>\n",
              "  </thead>\n",
              "  <tbody>\n",
              "    <tr>\n",
              "      <th>count</th>\n",
              "      <td>4622.000000</td>\n",
              "      <td>4622.000000</td>\n",
              "    </tr>\n",
              "    <tr>\n",
              "      <th>mean</th>\n",
              "      <td>1.075725</td>\n",
              "      <td>7.464336</td>\n",
              "    </tr>\n",
              "    <tr>\n",
              "      <th>std</th>\n",
              "      <td>0.410186</td>\n",
              "      <td>4.245557</td>\n",
              "    </tr>\n",
              "    <tr>\n",
              "      <th>min</th>\n",
              "      <td>1.000000</td>\n",
              "      <td>1.090000</td>\n",
              "    </tr>\n",
              "    <tr>\n",
              "      <th>25%</th>\n",
              "      <td>1.000000</td>\n",
              "      <td>3.390000</td>\n",
              "    </tr>\n",
              "    <tr>\n",
              "      <th>50%</th>\n",
              "      <td>1.000000</td>\n",
              "      <td>8.750000</td>\n",
              "    </tr>\n",
              "    <tr>\n",
              "      <th>75%</th>\n",
              "      <td>1.000000</td>\n",
              "      <td>9.250000</td>\n",
              "    </tr>\n",
              "    <tr>\n",
              "      <th>max</th>\n",
              "      <td>15.000000</td>\n",
              "      <td>44.250000</td>\n",
              "    </tr>\n",
              "  </tbody>\n",
              "</table>\n",
              "</div>\n",
              "      <button class=\"colab-df-convert\" onclick=\"convertToInteractive('df-1c62fbb5-45fb-48dc-ab58-f0f37f26c3d5')\"\n",
              "              title=\"Convert this dataframe to an interactive table.\"\n",
              "              style=\"display:none;\">\n",
              "        \n",
              "  <svg xmlns=\"http://www.w3.org/2000/svg\" height=\"24px\"viewBox=\"0 0 24 24\"\n",
              "       width=\"24px\">\n",
              "    <path d=\"M0 0h24v24H0V0z\" fill=\"none\"/>\n",
              "    <path d=\"M18.56 5.44l.94 2.06.94-2.06 2.06-.94-2.06-.94-.94-2.06-.94 2.06-2.06.94zm-11 1L8.5 8.5l.94-2.06 2.06-.94-2.06-.94L8.5 2.5l-.94 2.06-2.06.94zm10 10l.94 2.06.94-2.06 2.06-.94-2.06-.94-.94-2.06-.94 2.06-2.06.94z\"/><path d=\"M17.41 7.96l-1.37-1.37c-.4-.4-.92-.59-1.43-.59-.52 0-1.04.2-1.43.59L10.3 9.45l-7.72 7.72c-.78.78-.78 2.05 0 2.83L4 21.41c.39.39.9.59 1.41.59.51 0 1.02-.2 1.41-.59l7.78-7.78 2.81-2.81c.8-.78.8-2.07 0-2.86zM5.41 20L4 18.59l7.72-7.72 1.47 1.35L5.41 20z\"/>\n",
              "  </svg>\n",
              "      </button>\n",
              "      \n",
              "  <style>\n",
              "    .colab-df-container {\n",
              "      display:flex;\n",
              "      flex-wrap:wrap;\n",
              "      gap: 12px;\n",
              "    }\n",
              "\n",
              "    .colab-df-convert {\n",
              "      background-color: #E8F0FE;\n",
              "      border: none;\n",
              "      border-radius: 50%;\n",
              "      cursor: pointer;\n",
              "      display: none;\n",
              "      fill: #1967D2;\n",
              "      height: 32px;\n",
              "      padding: 0 0 0 0;\n",
              "      width: 32px;\n",
              "    }\n",
              "\n",
              "    .colab-df-convert:hover {\n",
              "      background-color: #E2EBFA;\n",
              "      box-shadow: 0px 1px 2px rgba(60, 64, 67, 0.3), 0px 1px 3px 1px rgba(60, 64, 67, 0.15);\n",
              "      fill: #174EA6;\n",
              "    }\n",
              "\n",
              "    [theme=dark] .colab-df-convert {\n",
              "      background-color: #3B4455;\n",
              "      fill: #D2E3FC;\n",
              "    }\n",
              "\n",
              "    [theme=dark] .colab-df-convert:hover {\n",
              "      background-color: #434B5C;\n",
              "      box-shadow: 0px 1px 3px 1px rgba(0, 0, 0, 0.15);\n",
              "      filter: drop-shadow(0px 1px 2px rgba(0, 0, 0, 0.3));\n",
              "      fill: #FFFFFF;\n",
              "    }\n",
              "  </style>\n",
              "\n",
              "      <script>\n",
              "        const buttonEl =\n",
              "          document.querySelector('#df-1c62fbb5-45fb-48dc-ab58-f0f37f26c3d5 button.colab-df-convert');\n",
              "        buttonEl.style.display =\n",
              "          google.colab.kernel.accessAllowed ? 'block' : 'none';\n",
              "\n",
              "        async function convertToInteractive(key) {\n",
              "          const element = document.querySelector('#df-1c62fbb5-45fb-48dc-ab58-f0f37f26c3d5');\n",
              "          const dataTable =\n",
              "            await google.colab.kernel.invokeFunction('convertToInteractive',\n",
              "                                                     [key], {});\n",
              "          if (!dataTable) return;\n",
              "\n",
              "          const docLinkHtml = 'Like what you see? Visit the ' +\n",
              "            '<a target=\"_blank\" href=https://colab.research.google.com/notebooks/data_table.ipynb>data table notebook</a>'\n",
              "            + ' to learn more about interactive tables.';\n",
              "          element.innerHTML = '';\n",
              "          dataTable['output_type'] = 'display_data';\n",
              "          await google.colab.output.renderOutput(dataTable, element);\n",
              "          const docLink = document.createElement('div');\n",
              "          docLink.innerHTML = docLinkHtml;\n",
              "          element.appendChild(docLink);\n",
              "        }\n",
              "      </script>\n",
              "    </div>\n",
              "  </div>\n",
              "  "
            ]
          },
          "metadata": {},
          "execution_count": 50
        }
      ]
    },
    {
      "cell_type": "code",
      "metadata": {
        "colab": {
          "base_uri": "https://localhost:8080/"
        },
        "id": "jxyyqWFpJ94G",
        "outputId": "81d4a5cc-84c8-4f9c-d621-bff976401212"
      },
      "source": [
        "# 가격이 가장 비싼 음식 TOP 10  보여주기\n",
        "\n",
        "# 한 개의 음식이 주문 된 경우만을 찾아 음식별 가장 낮은 가격 찾기\n",
        "chipo_one_item = chipo[chipo.quantity == 1]\n",
        "price_per_item = chipo_one_item.groupby('item_name')['item_price'].min() \n",
        "\n",
        "# 가격이 높은 순으로 TOP 10 음식 보여주기\n",
        "print(price_per_item.sort_values(ascending = False)[:10])"
      ],
      "execution_count": 51,
      "outputs": [
        {
          "output_type": "stream",
          "name": "stdout",
          "text": [
            "item_name\n",
            "Steak Salad Bowl         9.39\n",
            "Barbacoa Salad Bowl      9.39\n",
            "Carnitas Salad Bowl      9.39\n",
            "Carnitas Soft Tacos      8.99\n",
            "Carnitas Crispy Tacos    8.99\n",
            "Steak Soft Tacos         8.99\n",
            "Carnitas Salad           8.99\n",
            "Carnitas Bowl            8.99\n",
            "Barbacoa Soft Tacos      8.99\n",
            "Barbacoa Crispy Tacos    8.99\n",
            "Name: item_price, dtype: float64\n"
          ]
        }
      ]
    },
    {
      "cell_type": "code",
      "source": [
        " chipo['item_price'].plot.hist()"
      ],
      "metadata": {
        "colab": {
          "base_uri": "https://localhost:8080/",
          "height": 283
        },
        "id": "n2DXtBcn5UsQ",
        "outputId": "fefea6c2-814a-439b-f5aa-1e8afedffa92"
      },
      "execution_count": 52,
      "outputs": [
        {
          "output_type": "execute_result",
          "data": {
            "text/plain": [
              "<matplotlib.axes._subplots.AxesSubplot at 0x7fc7643d3210>"
            ]
          },
          "metadata": {},
          "execution_count": 52
        },
        {
          "output_type": "display_data",
          "data": {
            "text/plain": [
              "<Figure size 432x288 with 1 Axes>"
            ],
            "image/png": "[encoded data removed]"
          },
          "metadata": {
            "needs_background": "light"
          }
        }
      ]
    },
    {
      "cell_type": "markdown",
      "source": [
        "## 연습문제"
      ],
      "metadata": {
        "id": "wrQ4FuIT3zHK"
      }
    },
    {
      "cell_type": "markdown",
      "source": [
        "### **연습1: Chipotle 주문 데이터 이용**\n",
        "(1)  가장 잘 팔리지 않은 (주문량이 가장 적은) 메뉴 10개를 보여 주세요. \n",
        "\n",
        "(2)  가격이 가장 저렴한 메뉴 5개를 보여주세요. \n"
      ],
      "metadata": {
        "id": "3loTRrQm3t9v"
      }
    },
    {
      "cell_type": "code",
      "source": [
        "# 연습: Chipotle 주문 데이터 이용\n",
        "# (1) 가장 팔리지 않은 (주문량이 가장 적은) 메뉴 10개\n",
        "# 주문량이 가장 많은 TOP5 음식 보여주기 \n",
        "item_count = chipo['item_name'].value_counts()\n",
        "item_count[-10:].plot.bar(rot=45)\n",
        "\n",
        "# 한 개의 음식이 주문 된 경우만을 찾아 음식별 가장 낮은 가격 찾기\n",
        "chipo_one_item = chipo[chipo.quantity == 1]\n",
        "price_per_item = chipo_one_item.groupby('item_name')['item_price'].min() \n",
        "# 가격이 높은 순으로 TOP 10 음식 보여주기\n",
        "print(price_per_item.sort_values(ascending = False)[-5:])\n",
        "\n",
        "\n",
        "\n",
        "\n",
        "\n",
        "\n"
      ],
      "metadata": {
        "id": "9GHD0b6h36ff",
        "colab": {
          "base_uri": "https://localhost:8080/",
          "height": 511
        },
        "outputId": "16865429-6aa7-4460-8976-00a4b9853087"
      },
      "execution_count": 68,
      "outputs": [
        {
          "output_type": "stream",
          "name": "stdout",
          "text": [
            "item_name\n",
            "Chips                1.99\n",
            "Side of Chips        1.69\n",
            "Canned Soft Drink    1.25\n",
            "Canned Soda          1.09\n",
            "Bottled Water        1.09\n",
            "Name: item_price, dtype: float64\n"
          ]
        },
        {
          "output_type": "display_data",
          "data": {
            "text/plain": [
              "<Figure size 432x288 with 1 Axes>"
            ],
            "image/png": "[encoded data removed]"
          },
          "metadata": {
            "needs_background": "light"
          }
        }
      ]
    },
    {
      "cell_type": "markdown",
      "source": [
        "### **연습2: 공공 데이터 이용**\n",
        "공공 마이데이터 아이디어 제안시 사용하고자 하는 데이터 중 하나를 정해서 다운로드 받으시오. 다운로드 받은 데이터를 구글 드라이브에 업로드 후  앞에서 배운 코드들을 이용하여 (1) 기본적인 기술통계 정보, (2) 데이터 시각화를 통해 데이터를 탐색해 보시오. \n"
      ],
      "metadata": {
        "id": "gRtjG8TuaFbd"
      }
    },
    {
      "cell_type": "code",
      "source": [
        "# 연습:공공 데이터 이용\n",
        "\n",
        "\n",
        "\n",
        "\n",
        "\n"
      ],
      "metadata": {
        "id": "_c6D4sKOeRj-"
      },
      "execution_count": null,
      "outputs": []
    },
    {
      "cell_type": "markdown",
      "source": [
        "#### 예제 : 서울시 따릉이 대여소별 대여/반납 승객수 정보\n",
        "-  다음  링크에서 bycl_20220731.csv 화일을 다운로드 받아 구글 드라이드에 업로드 하기   \n",
        " https://data.seoul.go.kr/dataList/OA-21229/F/1/datasetView.do"
      ],
      "metadata": {
        "id": "99_VkGE4eXXz"
      }
    },
    {
      "cell_type": "code",
      "source": [
        "from google.colab import drive\n",
        "drive.mount('/content/drive')"
      ],
      "metadata": {
        "colab": {
          "base_uri": "https://localhost:8080/"
        },
        "id": "20exg3SkeWCc",
        "outputId": "8fa1247b-52c8-498e-d4da-3715a0f00953"
      },
      "execution_count": null,
      "outputs": [
        {
          "output_type": "stream",
          "name": "stdout",
          "text": [
            "Drive already mounted at /content/drive; to attempt to forcibly remount, call drive.mount(\"/content/drive\", force_remount=True).\n"
          ]
        }
      ]
    },
    {
      "cell_type": "code",
      "source": [
        "import pandas as pd\n",
        "\n",
        "# csv 데이터 가져오기, 한글 데이터의 경우 인코딩 변경 \n",
        "bike = pd.read_csv(\"/content/drive/My Drive/Colab Notebooks/ITB/bycl_20220731.csv\", encoding='cp949')\n",
        "\n",
        "display(bike.head()) # 처음 5행 확인\n",
        "print(bike.info()) \n",
        "print(bike.describe()) "
      ],
      "metadata": {
        "colab": {
          "base_uri": "https://localhost:8080/",
          "height": 623
        },
        "id": "5-3QUbundVTZ",
        "outputId": "fead22b1-e486-45cc-cb39-61b9b2276d61"
      },
      "execution_count": null,
      "outputs": [
        {
          "output_type": "display_data",
          "data": {
            "text/plain": [
              "      기준_날짜  기준_시간   시작_대여소   종료_대여소  전체건수  전체_이용_분  전체_이용_거리\n",
              "0  20220731      0   ST-462   ST-555     1       63      1990\n",
              "1  20220731      0  ST-2815   ST-419     1        6       920\n",
              "2  20220731      0  ST-1109  ST-1213     1       26      5000\n",
              "3  20220731      0   ST-148  ST-3052     1        8       253\n",
              "4  20220731      0  ST-1690   ST-106     1       10      1750"
            ],
            "text/html": [
              "\n",
              "  <div id=\"df-63a01297-e36b-49a6-854f-4ae06e769965\">\n",
              "    <div class=\"colab-df-container\">\n",
              "      <div>\n",
              "<style scoped>\n",
              "    .dataframe tbody tr th:only-of-type {\n",
              "        vertical-align: middle;\n",
              "    }\n",
              "\n",
              "    .dataframe tbody tr th {\n",
              "        vertical-align: top;\n",
              "    }\n",
              "\n",
              "    .dataframe thead th {\n",
              "        text-align: right;\n",
              "    }\n",
              "</style>\n",
              "<table border=\"1\" class=\"dataframe\">\n",
              "  <thead>\n",
              "    <tr style=\"text-align: right;\">\n",
              "      <th></th>\n",
              "      <th>기준_날짜</th>\n",
              "      <th>기준_시간</th>\n",
              "      <th>시작_대여소</th>\n",
              "      <th>종료_대여소</th>\n",
              "      <th>전체건수</th>\n",
              "      <th>전체_이용_분</th>\n",
              "      <th>전체_이용_거리</th>\n",
              "    </tr>\n",
              "  </thead>\n",
              "  <tbody>\n",
              "    <tr>\n",
              "      <th>0</th>\n",
              "      <td>20220731</td>\n",
              "      <td>0</td>\n",
              "      <td>ST-462</td>\n",
              "      <td>ST-555</td>\n",
              "      <td>1</td>\n",
              "      <td>63</td>\n",
              "      <td>1990</td>\n",
              "    </tr>\n",
              "    <tr>\n",
              "      <th>1</th>\n",
              "      <td>20220731</td>\n",
              "      <td>0</td>\n",
              "      <td>ST-2815</td>\n",
              "      <td>ST-419</td>\n",
              "      <td>1</td>\n",
              "      <td>6</td>\n",
              "      <td>920</td>\n",
              "    </tr>\n",
              "    <tr>\n",
              "      <th>2</th>\n",
              "      <td>20220731</td>\n",
              "      <td>0</td>\n",
              "      <td>ST-1109</td>\n",
              "      <td>ST-1213</td>\n",
              "      <td>1</td>\n",
              "      <td>26</td>\n",
              "      <td>5000</td>\n",
              "    </tr>\n",
              "    <tr>\n",
              "      <th>3</th>\n",
              "      <td>20220731</td>\n",
              "      <td>0</td>\n",
              "      <td>ST-148</td>\n",
              "      <td>ST-3052</td>\n",
              "      <td>1</td>\n",
              "      <td>8</td>\n",
              "      <td>253</td>\n",
              "    </tr>\n",
              "    <tr>\n",
              "      <th>4</th>\n",
              "      <td>20220731</td>\n",
              "      <td>0</td>\n",
              "      <td>ST-1690</td>\n",
              "      <td>ST-106</td>\n",
              "      <td>1</td>\n",
              "      <td>10</td>\n",
              "      <td>1750</td>\n",
              "    </tr>\n",
              "  </tbody>\n",
              "</table>\n",
              "</div>\n",
              "      <button class=\"colab-df-convert\" onclick=\"convertToInteractive('df-63a01297-e36b-49a6-854f-4ae06e769965')\"\n",
              "              title=\"Convert this dataframe to an interactive table.\"\n",
              "              style=\"display:none;\">\n",
              "        \n",
              "  <svg xmlns=\"http://www.w3.org/2000/svg\" height=\"24px\"viewBox=\"0 0 24 24\"\n",
              "       width=\"24px\">\n",
              "    <path d=\"M0 0h24v24H0V0z\" fill=\"none\"/>\n",
              "    <path d=\"M18.56 5.44l.94 2.06.94-2.06 2.06-.94-2.06-.94-.94-2.06-.94 2.06-2.06.94zm-11 1L8.5 8.5l.94-2.06 2.06-.94-2.06-.94L8.5 2.5l-.94 2.06-2.06.94zm10 10l.94 2.06.94-2.06 2.06-.94-2.06-.94-.94-2.06-.94 2.06-2.06.94z\"/><path d=\"M17.41 7.96l-1.37-1.37c-.4-.4-.92-.59-1.43-.59-.52 0-1.04.2-1.43.59L10.3 9.45l-7.72 7.72c-.78.78-.78 2.05 0 2.83L4 21.41c.39.39.9.59 1.41.59.51 0 1.02-.2 1.41-.59l7.78-7.78 2.81-2.81c.8-.78.8-2.07 0-2.86zM5.41 20L4 18.59l7.72-7.72 1.47 1.35L5.41 20z\"/>\n",
              "  </svg>\n",
              "      </button>\n",
              "      \n",
              "  <style>\n",
              "    .colab-df-container {\n",
              "      display:flex;\n",
              "      flex-wrap:wrap;\n",
              "      gap: 12px;\n",
              "    }\n",
              "\n",
              "    .colab-df-convert {\n",
              "      background-color: #E8F0FE;\n",
              "      border: none;\n",
              "      border-radius: 50%;\n",
              "      cursor: pointer;\n",
              "      display: none;\n",
              "      fill: #1967D2;\n",
              "      height: 32px;\n",
              "      padding: 0 0 0 0;\n",
              "      width: 32px;\n",
              "    }\n",
              "\n",
              "    .colab-df-convert:hover {\n",
              "      background-color: #E2EBFA;\n",
              "      box-shadow: 0px 1px 2px rgba(60, 64, 67, 0.3), 0px 1px 3px 1px rgba(60, 64, 67, 0.15);\n",
              "      fill: #174EA6;\n",
              "    }\n",
              "\n",
              "    [theme=dark] .colab-df-convert {\n",
              "      background-color: #3B4455;\n",
              "      fill: #D2E3FC;\n",
              "    }\n",
              "\n",
              "    [theme=dark] .colab-df-convert:hover {\n",
              "      background-color: #434B5C;\n",
              "      box-shadow: 0px 1px 3px 1px rgba(0, 0, 0, 0.15);\n",
              "      filter: drop-shadow(0px 1px 2px rgba(0, 0, 0, 0.3));\n",
              "      fill: #FFFFFF;\n",
              "    }\n",
              "  </style>\n",
              "\n",
              "      <script>\n",
              "        const buttonEl =\n",
              "          document.querySelector('#df-63a01297-e36b-49a6-854f-4ae06e769965 button.colab-df-convert');\n",
              "        buttonEl.style.display =\n",
              "          google.colab.kernel.accessAllowed ? 'block' : 'none';\n",
              "\n",
              "        async function convertToInteractive(key) {\n",
              "          const element = document.querySelector('#df-63a01297-e36b-49a6-854f-4ae06e769965');\n",
              "          const dataTable =\n",
              "            await google.colab.kernel.invokeFunction('convertToInteractive',\n",
              "                                                     [key], {});\n",
              "          if (!dataTable) return;\n",
              "\n",
              "          const docLinkHtml = 'Like what you see? Visit the ' +\n",
              "            '<a target=\"_blank\" href=https://colab.research.google.com/notebooks/data_table.ipynb>data table notebook</a>'\n",
              "            + ' to learn more about interactive tables.';\n",
              "          element.innerHTML = '';\n",
              "          dataTable['output_type'] = 'display_data';\n",
              "          await google.colab.output.renderOutput(dataTable, element);\n",
              "          const docLink = document.createElement('div');\n",
              "          docLink.innerHTML = docLinkHtml;\n",
              "          element.appendChild(docLink);\n",
              "        }\n",
              "      </script>\n",
              "    </div>\n",
              "  </div>\n",
              "  "
            ]
          },
          "metadata": {}
        },
        {
          "output_type": "stream",
          "name": "stdout",
          "text": [
            "<class 'pandas.core.frame.DataFrame'>\n",
            "RangeIndex: 57583 entries, 0 to 57582\n",
            "Data columns (total 7 columns):\n",
            " #   Column    Non-Null Count  Dtype \n",
            "---  ------    --------------  ----- \n",
            " 0   기준_날짜     57583 non-null  int64 \n",
            " 1   기준_시간     57583 non-null  int64 \n",
            " 2   시작_대여소    57583 non-null  object\n",
            " 3   종료_대여소    57583 non-null  object\n",
            " 4   전체건수      57583 non-null  int64 \n",
            " 5   전체_이용_분   57583 non-null  int64 \n",
            " 6   전체_이용_거리  57583 non-null  int64 \n",
            "dtypes: int64(5), object(2)\n",
            "memory usage: 3.1+ MB\n",
            "None\n",
            "            기준_날짜         기준_시간          전체건수       전체_이용_분      전체_이용_거리\n",
            "count     57583.0  57583.000000  57583.000000  57583.000000  57583.000000\n",
            "mean   20220731.0    782.095150      1.063300     23.120852   2863.516263\n",
            "std           0.0    608.740475      0.275619     34.758532   3940.499932\n",
            "min    20220731.0      0.000000      1.000000      0.000000      0.000000\n",
            "25%    20220731.0    215.000000      1.000000      6.000000    842.000000\n",
            "50%    20220731.0    800.000000      1.000000     11.000000   1555.000000\n",
            "75%    20220731.0   1110.000000      1.000000     27.000000   3130.000000\n",
            "max    20220731.0   2355.000000      6.000000    939.000000  73509.000000\n"
          ]
        }
      ]
    },
    {
      "cell_type": "code",
      "source": [
        " bike['기준_시간'].plot.hist()"
      ],
      "metadata": {
        "colab": {
          "base_uri": "https://localhost:8080/",
          "height": 281
        },
        "id": "mHpUKDtZgHIb",
        "outputId": "cc598870-782b-4e7a-d131-957810f6bcae"
      },
      "execution_count": null,
      "outputs": [
        {
          "output_type": "execute_result",
          "data": {
            "text/plain": [
              "<matplotlib.axes._subplots.AxesSubplot at 0x7f31342ff550>"
            ]
          },
          "metadata": {},
          "execution_count": 218
        },
        {
          "output_type": "display_data",
          "data": {
            "text/plain": [
              "<Figure size 432x288 with 1 Axes>"
            ],
            "image/png": "[encoded data removed]"
          },
          "metadata": {
            "needs_background": "light"
          }
        }
      ]
    },
    {
      "cell_type": "code",
      "source": [
        "print('시작 대여소 개수:', len(bike['시작_대여소'].unique()))    # unique: 고유값\n",
        " \n",
        "bike_start= bike.groupby('시작_대여소')['전체건수'].sum()\n",
        "bike_start_sorted = bike_start.sort_values(ascending=False)[:5]\n",
        "print(bike_start_sorted)"
      ],
      "metadata": {
        "colab": {
          "base_uri": "https://localhost:8080/"
        },
        "id": "y_L2QurFeO2J",
        "outputId": "3ab12126-4124-41a4-ad86-67929fa58c18"
      },
      "execution_count": null,
      "outputs": [
        {
          "output_type": "stream",
          "name": "stdout",
          "text": [
            "시작 대여소 개수: 2513\n",
            "시작_대여소\n",
            "ST-73      416\n",
            "ST-2905    258\n",
            "ST-702     226\n",
            "ST-99      188\n",
            "ST-1546    156\n",
            "Name: 전체건수, dtype: int64\n"
          ]
        }
      ]
    },
    {
      "cell_type": "code",
      "source": [
        "bike_start_sorted .plot.bar(rot=45)"
      ],
      "metadata": {
        "colab": {
          "base_uri": "https://localhost:8080/",
          "height": 320
        },
        "id": "-71kIQr2ffXg",
        "outputId": "203a988d-22b3-46f5-d7e2-249382fabbf2"
      },
      "execution_count": null,
      "outputs": [
        {
          "output_type": "execute_result",
          "data": {
            "text/plain": [
              "<matplotlib.axes._subplots.AxesSubplot at 0x7f312395af90>"
            ]
          },
          "metadata": {},
          "execution_count": 231
        },
        {
          "output_type": "display_data",
          "data": {
            "text/plain": [
              "<Figure size 432x288 with 1 Axes>"
            ],
            "image/png": "[encoded data removed]"
          },
          "metadata": {
            "needs_background": "light"
          }
        }
      ]
    }
  ]
}